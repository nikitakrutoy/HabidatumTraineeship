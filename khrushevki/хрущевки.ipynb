{
 "cells": [
  {
   "cell_type": "markdown",
   "metadata": {},
   "source": [
    "# Анализ домов отправленных под реновацию"
   ]
  },
  {
   "cell_type": "code",
   "execution_count": 3,
   "metadata": {
    "collapsed": false
   },
   "outputs": [],
   "source": [
    "import warnings\n",
    "warnings.simplefilter(\"ignore\", Warning)\n",
    "import pandas as pd\n",
    "import numpy as np\n",
    "import matplotlib.pyplot as plt\n",
    "import matplotlib.cm as cm\n",
    "from tqdm import tqdm_notebook\n",
    "import datetime\n",
    "import time\n",
    "%matplotlib inline"
   ]
  },
  {
   "cell_type": "markdown",
   "metadata": {},
   "source": [
    "### Памятка\n",
    "\n",
    "**data** - необработанные данные 33к жилых домов\n",
    "\n",
    "**dataClarified** - данные домов из выделеных районов\n",
    "\n",
    "**X** - data без ненужных признаков\n",
    "\n",
    "**X1** - X с классами реновации и данными нужного тип\n",
    "\n",
    "**renv** - дома попавшие под программу реновации\n",
    "\n",
    "**Z** - нормарированная матрица X1 без классов\n",
    "\n",
    "**y** - классы\n",
    "\n",
    "**X1_w_address** - X1 с адресами\n",
    "\n",
    "**X1_sorted** - X1 с адресами отсортированная по *area_nonli*\n",
    "\n",
    "**min5service** - данные о 5-минутной достпности о домах из выдленых районов"
   ]
  },
  {
   "cell_type": "code",
   "execution_count": 4,
   "metadata": {
    "collapsed": false
   },
   "outputs": [],
   "source": [
    "data = pd.read_csv(\"reformagkh.csv\")"
   ]
  },
  {
   "cell_type": "code",
   "execution_count": 5,
   "metadata": {
    "collapsed": false
   },
   "outputs": [
    {
     "data": {
      "text/html": [
       "<div>\n",
       "<style>\n",
       "    .dataframe thead tr:only-child th {\n",
       "        text-align: right;\n",
       "    }\n",
       "\n",
       "    .dataframe thead th {\n",
       "        text-align: left;\n",
       "    }\n",
       "\n",
       "    .dataframe tbody tr th {\n",
       "        vertical-align: top;\n",
       "    }\n",
       "</style>\n",
       "<table border=\"1\" class=\"dataframe\">\n",
       "  <thead>\n",
       "    <tr style=\"text-align: right;\">\n",
       "      <th></th>\n",
       "      <th>X</th>\n",
       "      <th>Y</th>\n",
       "      <th>field_1</th>\n",
       "      <th>lat</th>\n",
       "      <th>lon</th>\n",
       "      <th>house_id</th>\n",
       "      <th>address</th>\n",
       "      <th>year</th>\n",
       "      <th>lastupdate</th>\n",
       "      <th>servicedat</th>\n",
       "      <th>...</th>\n",
       "      <th>cadno</th>\n",
       "      <th>energy_cla</th>\n",
       "      <th>blag_playg</th>\n",
       "      <th>blag_sport</th>\n",
       "      <th>blag_other</th>\n",
       "      <th>other</th>\n",
       "      <th>bldng_type</th>\n",
       "      <th>levels_int</th>\n",
       "      <th>year_int</th>\n",
       "      <th>type</th>\n",
       "    </tr>\n",
       "  </thead>\n",
       "  <tbody>\n",
       "    <tr>\n",
       "      <th>0</th>\n",
       "      <td>407503.733246</td>\n",
       "      <td>6.186962e+06</td>\n",
       "      <td>0</td>\n",
       "      <td>55.817724</td>\n",
       "      <td>37.523465</td>\n",
       "      <td>7840062</td>\n",
       "      <td>г. Москва, ул. Академическая Б., д. 4</td>\n",
       "      <td>1959</td>\n",
       "      <td>25.12.2015 в 12:07</td>\n",
       "      <td>01.04.2010</td>\n",
       "      <td>...</td>\n",
       "      <td>NaN</td>\n",
       "      <td>Не присвоен</td>\n",
       "      <td>Не имеется</td>\n",
       "      <td>Не имеется</td>\n",
       "      <td>Не имеется</td>\n",
       "      <td>Не имеется</td>\n",
       "      <td>NaN</td>\n",
       "      <td>8.0</td>\n",
       "      <td>1959.0</td>\n",
       "      <td>NaN</td>\n",
       "    </tr>\n",
       "    <tr>\n",
       "      <th>1</th>\n",
       "      <td>407524.379896</td>\n",
       "      <td>6.187033e+06</td>\n",
       "      <td>1</td>\n",
       "      <td>55.818372</td>\n",
       "      <td>37.523770</td>\n",
       "      <td>7840091</td>\n",
       "      <td>г. Москва, ул. Академическая Б., д. 6, к. 1</td>\n",
       "      <td>1959</td>\n",
       "      <td>25.12.2015 в 12:07</td>\n",
       "      <td>01.04.2010</td>\n",
       "      <td>...</td>\n",
       "      <td>NaN</td>\n",
       "      <td>Не присвоен</td>\n",
       "      <td>Не имеется</td>\n",
       "      <td>Не имеется</td>\n",
       "      <td>Не имеется</td>\n",
       "      <td>Не имеется</td>\n",
       "      <td>khrushev</td>\n",
       "      <td>5.0</td>\n",
       "      <td>1959.0</td>\n",
       "      <td>khrushev</td>\n",
       "    </tr>\n",
       "    <tr>\n",
       "      <th>2</th>\n",
       "      <td>407586.434664</td>\n",
       "      <td>6.187039e+06</td>\n",
       "      <td>2</td>\n",
       "      <td>55.818437</td>\n",
       "      <td>37.524758</td>\n",
       "      <td>7840108</td>\n",
       "      <td>г. Москва, ул. Академическая Б., д. 6, к. 2</td>\n",
       "      <td>1965</td>\n",
       "      <td>25.12.2015 в 12:08</td>\n",
       "      <td>01.04.2010</td>\n",
       "      <td>...</td>\n",
       "      <td>NaN</td>\n",
       "      <td>Не присвоен</td>\n",
       "      <td>Не имеется</td>\n",
       "      <td>Не имеется</td>\n",
       "      <td>Не имеется</td>\n",
       "      <td>Не имеется</td>\n",
       "      <td>khrushev</td>\n",
       "      <td>5.0</td>\n",
       "      <td>1965.0</td>\n",
       "      <td>khrushev</td>\n",
       "    </tr>\n",
       "    <tr>\n",
       "      <th>3</th>\n",
       "      <td>407677.777355</td>\n",
       "      <td>6.187043e+06</td>\n",
       "      <td>3</td>\n",
       "      <td>55.818488</td>\n",
       "      <td>37.526214</td>\n",
       "      <td>7840136</td>\n",
       "      <td>г. Москва, ул. Академическая Б., д. 8, к. 1</td>\n",
       "      <td>1957</td>\n",
       "      <td>25.12.2015 в 12:08</td>\n",
       "      <td>01.04.2010</td>\n",
       "      <td>...</td>\n",
       "      <td>NaN</td>\n",
       "      <td>Не присвоен</td>\n",
       "      <td>Не имеется</td>\n",
       "      <td>Не имеется</td>\n",
       "      <td>Не имеется</td>\n",
       "      <td>Не имеется</td>\n",
       "      <td>khrushev</td>\n",
       "      <td>5.0</td>\n",
       "      <td>1957.0</td>\n",
       "      <td>khrushev</td>\n",
       "    </tr>\n",
       "    <tr>\n",
       "      <th>4</th>\n",
       "      <td>407594.917132</td>\n",
       "      <td>6.187093e+06</td>\n",
       "      <td>4</td>\n",
       "      <td>55.818923</td>\n",
       "      <td>37.524875</td>\n",
       "      <td>7840164</td>\n",
       "      <td>г. Москва, ул. Академическая Б., д. 8, к. 2</td>\n",
       "      <td>1960</td>\n",
       "      <td>25.12.2015 в 12:08</td>\n",
       "      <td>01.04.2010</td>\n",
       "      <td>...</td>\n",
       "      <td>NaN</td>\n",
       "      <td>Не присвоен</td>\n",
       "      <td>Не имеется</td>\n",
       "      <td>Не имеется</td>\n",
       "      <td>Не имеется</td>\n",
       "      <td>Не имеется</td>\n",
       "      <td>khrushev</td>\n",
       "      <td>5.0</td>\n",
       "      <td>1960.0</td>\n",
       "      <td>khrushev</td>\n",
       "    </tr>\n",
       "  </tbody>\n",
       "</table>\n",
       "<p>5 rows × 38 columns</p>\n",
       "</div>"
      ],
      "text/plain": [
       "               X             Y  field_1        lat        lon  house_id  \\\n",
       "0  407503.733246  6.186962e+06        0  55.817724  37.523465   7840062   \n",
       "1  407524.379896  6.187033e+06        1  55.818372  37.523770   7840091   \n",
       "2  407586.434664  6.187039e+06        2  55.818437  37.524758   7840108   \n",
       "3  407677.777355  6.187043e+06        3  55.818488  37.526214   7840136   \n",
       "4  407594.917132  6.187093e+06        4  55.818923  37.524875   7840164   \n",
       "\n",
       "                                       address  year          lastupdate  \\\n",
       "0        г. Москва, ул. Академическая Б., д. 4  1959  25.12.2015 в 12:07   \n",
       "1  г. Москва, ул. Академическая Б., д. 6, к. 1  1959  25.12.2015 в 12:07   \n",
       "2  г. Москва, ул. Академическая Б., д. 6, к. 2  1965  25.12.2015 в 12:08   \n",
       "3  г. Москва, ул. Академическая Б., д. 8, к. 1  1957  25.12.2015 в 12:08   \n",
       "4  г. Москва, ул. Академическая Б., д. 8, к. 2  1960  25.12.2015 в 12:08   \n",
       "\n",
       "   servicedat    ...    cadno   energy_cla  blag_playg  blag_sport  \\\n",
       "0  01.04.2010    ...      NaN  Не присвоен  Не имеется  Не имеется   \n",
       "1  01.04.2010    ...      NaN  Не присвоен  Не имеется  Не имеется   \n",
       "2  01.04.2010    ...      NaN  Не присвоен  Не имеется  Не имеется   \n",
       "3  01.04.2010    ...      NaN  Не присвоен  Не имеется  Не имеется   \n",
       "4  01.04.2010    ...      NaN  Не присвоен  Не имеется  Не имеется   \n",
       "\n",
       "   blag_other       other bldng_type levels_int year_int      type  \n",
       "0  Не имеется  Не имеется        NaN        8.0   1959.0       NaN  \n",
       "1  Не имеется  Не имеется   khrushev        5.0   1959.0  khrushev  \n",
       "2  Не имеется  Не имеется   khrushev        5.0   1965.0  khrushev  \n",
       "3  Не имеется  Не имеется   khrushev        5.0   1957.0  khrushev  \n",
       "4  Не имеется  Не имеется   khrushev        5.0   1960.0  khrushev  \n",
       "\n",
       "[5 rows x 38 columns]"
      ]
     },
     "execution_count": 5,
     "metadata": {},
     "output_type": "execute_result"
    }
   ],
   "source": [
    "data.head()"
   ]
  },
  {
   "cell_type": "markdown",
   "metadata": {},
   "source": [
    "## Сравнение данных по 5 выбранным районам и всем домам в Москве"
   ]
  },
  {
   "cell_type": "code",
   "execution_count": 6,
   "metadata": {
    "collapsed": false
   },
   "outputs": [],
   "source": [
    "types = data[\"type\"]"
   ]
  },
  {
   "cell_type": "code",
   "execution_count": 7,
   "metadata": {
    "collapsed": false
   },
   "outputs": [
    {
     "data": {
      "text/plain": [
       "array([nan, 'khrushev', 'mod_ec', 'brezhnev', 'stl', 'prestl', 'prerev',\n",
       "       'mod_prem', 'low_l', 'ind_pr_l'], dtype=object)"
      ]
     },
     "execution_count": 7,
     "metadata": {},
     "output_type": "execute_result"
    }
   ],
   "source": [
    "types.unique()"
   ]
  },
  {
   "cell_type": "code",
   "execution_count": 8,
   "metadata": {
    "collapsed": false
   },
   "outputs": [],
   "source": [
    "from collections import Counter"
   ]
  },
  {
   "cell_type": "code",
   "execution_count": 9,
   "metadata": {
    "collapsed": false
   },
   "outputs": [],
   "source": [
    "def draw_pie(types):\n",
    "    types_counter = Counter(types)\n",
    "    explode = []\n",
    "    fig1, ax1 = plt.subplots()\n",
    "    for key in types_counter.keys():\n",
    "        if key == \"khrushev\":\n",
    "            explode.append(0.2)\n",
    "        else: \n",
    "            explode.append(0)\n",
    "    ax1.pie([types_counter[key] for key in types_counter.keys()], \n",
    "            explode = explode,\n",
    "            labels = types_counter.keys(), \n",
    "            colors=[cm.Set2(20*i) for i in range(len(types_counter))],\n",
    "            shadow=True,\n",
    "            pctdistance=0.7,\n",
    "            labeldistance=1.2,\n",
    "            autopct='%1.1f%%',\n",
    "            radius=2, );"
   ]
  },
  {
   "cell_type": "code",
   "execution_count": 10,
   "metadata": {
    "collapsed": false
   },
   "outputs": [
    {
     "data": {
      "image/png": "[encoded data removed]",
      "text/plain": [
       "<matplotlib.figure.Figure at 0x10d9e0eb8>"
      ]
     },
     "metadata": {},
     "output_type": "display_data"
    }
   ],
   "source": [
    "draw_pie(types)"
   ]
  },
  {
   "cell_type": "code",
   "execution_count": 11,
   "metadata": {
    "collapsed": false
   },
   "outputs": [
    {
     "data": {
      "image/png": "[encoded data removed]",
      "text/plain": [
       "<matplotlib.figure.Figure at 0x102faff60>"
      ]
     },
     "metadata": {},
     "output_type": "display_data"
    }
   ],
   "source": [
    "draw_pie(data[\"bldng_type\"])"
   ]
  },
  {
   "cell_type": "markdown",
   "metadata": {},
   "source": [
    "Видно, что в bldng_type часть брежневок ушла в nan, а все остальное осталось почти неизменным, поэтому мы можем избавится от этого признака в силу его схожести с type"
   ]
  },
  {
   "cell_type": "code",
   "execution_count": 12,
   "metadata": {
    "collapsed": false
   },
   "outputs": [],
   "source": [
    "dataClarified = pd.read_csv(\"houses_5_pol.csv\", sep=\";\")"
   ]
  },
  {
   "cell_type": "code",
   "execution_count": 13,
   "metadata": {
    "collapsed": false
   },
   "outputs": [
    {
     "data": {
      "image/png": "[encoded data removed]",
      "text/plain": [
       "<matplotlib.figure.Figure at 0x106d0e6d8>"
      ]
     },
     "metadata": {},
     "output_type": "display_data"
    }
   ],
   "source": [
    "draw_pie(dataClarified[\"type\"])"
   ]
  },
  {
   "cell_type": "markdown",
   "metadata": {},
   "source": [
    "Сравним численные признаки(например год и площадь), чтобы быть еще уверенее что выборка репрезентативна"
   ]
  },
  {
   "cell_type": "code",
   "execution_count": 14,
   "metadata": {
    "collapsed": false
   },
   "outputs": [
    {
     "data": {
      "text/plain": [
       "count    31824.000000\n",
       "mean      1969.745318\n",
       "std         39.110425\n",
       "min          5.000000\n",
       "25%       1960.000000\n",
       "50%       1968.000000\n",
       "75%       1982.000000\n",
       "max       6796.000000\n",
       "Name: year_int, dtype: float64"
      ]
     },
     "execution_count": 14,
     "metadata": {},
     "output_type": "execute_result"
    }
   ],
   "source": [
    "data[\"year_int\"].describe()"
   ]
  },
  {
   "cell_type": "code",
   "execution_count": 15,
   "metadata": {
    "collapsed": false
   },
   "outputs": [],
   "source": [
    "import plotly.plotly as py\n",
    "import plotly.graph_objs as go"
   ]
  },
  {
   "cell_type": "code",
   "execution_count": 64,
   "metadata": {
    "collapsed": false
   },
   "outputs": [
    {
     "data": {
      "text/html": [
       "<iframe id=\"igraph\" scrolling=\"no\" style=\"border:none;\" seamless=\"seamless\" src=\"https://plot.ly/~nikitakrutoy/58.embed\" height=\"525px\" width=\"100%\"></iframe>"
      ],
      "text/plain": [
       "<plotly.tools.PlotlyDisplay object>"
      ]
     },
     "execution_count": 64,
     "metadata": {},
     "output_type": "execute_result"
    }
   ],
   "source": [
    "histAll = go.Histogram(\n",
    "    x=data[\"year_int\"], \n",
    "    xbins={\n",
    "        \"start\": 1850, \n",
    "        \"end\": 2100\n",
    "    },\n",
    "    name=\"All buildings\"\n",
    ")\n",
    "\n",
    "histClarified = go.Histogram(\n",
    "    x=dataClarified[\"year_int\"], \n",
    "    xbins={\n",
    "        \"start\": 1850, \n",
    "        \"end\": 2100\n",
    "    },\n",
    "    name=\"Clarified buildings\"\n",
    ")\n",
    "hists = [histAll, histClarified]\n",
    "\n",
    "layout = go.Layout(\n",
    "    title='Buildings year distrubution',\n",
    "    xaxis=dict(\n",
    "        title='Years'\n",
    "    ),\n",
    "    yaxis=dict(\n",
    "        title='Count'\n",
    "    ),\n",
    "    bargap=0.2,\n",
    "    bargroupgap=0.1\n",
    ")\n",
    "fig = go.Figure(data=hists, layout=layout)\n",
    "py.iplot(fig)"
   ]
  },
  {
   "cell_type": "markdown",
   "metadata": {},
   "source": [
    "Посмотрим на другие признаки и определим, какие из них катеориальные а какие численные"
   ]
  },
  {
   "cell_type": "code",
   "execution_count": 17,
   "metadata": {
    "collapsed": false,
    "scrolled": true
   },
   "outputs": [
    {
     "name": "stdout",
     "output_type": "stream",
     "text": [
      "X\n",
      "0    407503.733246\n",
      "1    407524.379896\n",
      "2    407586.434664\n",
      "3    407677.777355\n",
      "4    407594.917132\n",
      "Name: X, dtype: float64\n",
      "\n",
      "Y\n",
      "0    6.186962e+06\n",
      "1    6.187033e+06\n",
      "2    6.187039e+06\n",
      "3    6.187043e+06\n",
      "4    6.187093e+06\n",
      "Name: Y, dtype: float64\n",
      "\n",
      "field_1\n",
      "0    0\n",
      "1    1\n",
      "2    2\n",
      "3    3\n",
      "4    4\n",
      "Name: field_1, dtype: int64\n",
      "\n",
      "lat\n",
      "0    55.817724\n",
      "1    55.818372\n",
      "2    55.818437\n",
      "3    55.818488\n",
      "4    55.818923\n",
      "Name: lat, dtype: float64\n",
      "\n",
      "lon\n",
      "0    37.523465\n",
      "1    37.523770\n",
      "2    37.524758\n",
      "3    37.526214\n",
      "4    37.524875\n",
      "Name: lon, dtype: float64\n",
      "\n",
      "house_id\n",
      "0    7840062\n",
      "1    7840091\n",
      "2    7840108\n",
      "3    7840136\n",
      "4    7840164\n",
      "Name: house_id, dtype: int64\n",
      "\n",
      "address\n",
      "0          г. Москва, ул. Академическая Б., д. 4\n",
      "1    г. Москва, ул. Академическая Б., д. 6, к. 1\n",
      "2    г. Москва, ул. Академическая Б., д. 6, к. 2\n",
      "3    г. Москва, ул. Академическая Б., д. 8, к. 1\n",
      "4    г. Москва, ул. Академическая Б., д. 8, к. 2\n",
      "Name: address, dtype: object\n",
      "\n",
      "year\n",
      "0    1959\n",
      "1    1959\n",
      "2    1965\n",
      "3    1957\n",
      "4    1960\n",
      "Name: year, dtype: object\n",
      "\n",
      "lastupdate\n",
      "0    25.12.2015 в 12:07\n",
      "1    25.12.2015 в 12:07\n",
      "2    25.12.2015 в 12:08\n",
      "3    25.12.2015 в 12:08\n",
      "4    25.12.2015 в 12:08\n",
      "Name: lastupdate, dtype: object\n",
      "\n",
      "servicedat\n",
      "0    01.04.2010\n",
      "1    01.04.2010\n",
      "2    01.04.2010\n",
      "3    01.04.2010\n",
      "4    01.04.2010\n",
      "Name: servicedat, dtype: object\n",
      "\n",
      "serie\n",
      "0    инд.\n",
      "1     447\n",
      "2    инд.\n",
      "3    инд.\n",
      "4    инд.\n",
      "Name: serie, dtype: object\n",
      "\n",
      "house_type\n",
      "0    Многоквартирный дом\n",
      "1    Многоквартирный дом\n",
      "2    Многоквартирный дом\n",
      "3    Многоквартирный дом\n",
      "4    Многоквартирный дом\n",
      "Name: house_type, dtype: object\n",
      "\n",
      "capfond\n",
      "0    На счете регионального оператора\n",
      "1    На счете регионального оператора\n",
      "2    На счете регионального оператора\n",
      "3    На счете регионального оператора\n",
      "4    На счете регионального оператора\n",
      "Name: capfond, dtype: object\n",
      "\n",
      "mgmt_compa\n",
      "0    ООО \"МАКС-XXI\"\n",
      "1    ООО \"МАКС-XXI\"\n",
      "2    ООО \"МАКС-XXI\"\n",
      "3    ООО \"МАКС-XXI\"\n",
      "4    ООО \"МАКС-XXI\"\n",
      "Name: mgmt_compa, dtype: object\n",
      "\n",
      "mgmt_com_1\n",
      "0    http://www.reformagkh.ru/mymanager/profile/783...\n",
      "1    http://www.reformagkh.ru/mymanager/profile/783...\n",
      "2    http://www.reformagkh.ru/mymanager/profile/783...\n",
      "3    http://www.reformagkh.ru/mymanager/profile/783...\n",
      "4    http://www.reformagkh.ru/mymanager/profile/783...\n",
      "Name: mgmt_com_1, dtype: object\n",
      "\n",
      "avar\n",
      "0    Нет\n",
      "1    Нет\n",
      "2    Нет\n",
      "3    Нет\n",
      "4    Нет\n",
      "Name: avar, dtype: object\n",
      "\n",
      "levels_max\n",
      "0    8\n",
      "1    5\n",
      "2    5\n",
      "3    5\n",
      "4    5\n",
      "Name: levels_max, dtype: object\n",
      "\n",
      "levels_min\n",
      "0    8\n",
      "1    5\n",
      "2    5\n",
      "3    5\n",
      "4    5\n",
      "Name: levels_min, dtype: object\n",
      "\n",
      "doors\n",
      "0    4\n",
      "1    3\n",
      "2    3\n",
      "3    5\n",
      "4    5\n",
      "Name: doors, dtype: object\n",
      "\n",
      "room_count\n",
      "0    118\n",
      "1     56\n",
      "2     45\n",
      "3     50\n",
      "4     75\n",
      "Name: room_count, dtype: object\n",
      "\n",
      "room_cou_1\n",
      "0    0\n",
      "1    0\n",
      "2    0\n",
      "3    0\n",
      "4    0\n",
      "Name: room_cou_1, dtype: object\n",
      "\n",
      "room_cou_2\n",
      "0    0\n",
      "1    0\n",
      "2    0\n",
      "3    0\n",
      "4    0\n",
      "Name: room_cou_2, dtype: object\n",
      "\n",
      "area\n",
      "0    9597.70\n",
      "1    4688.10\n",
      "2    1882.60\n",
      "3    4480.60\n",
      "4    4018.80\n",
      "Name: area, dtype: object\n",
      "\n",
      "area_live\n",
      "0    8004.30\n",
      "1    3722.90\n",
      "2    1882.60\n",
      "3    4333.00\n",
      "4    4018.80\n",
      "Name: area_live, dtype: object\n",
      "\n",
      "area_nonli\n",
      "0    1593.40\n",
      "1     965.20\n",
      "2       0.00\n",
      "3     147.60\n",
      "4       0.00\n",
      "Name: area_nonli, dtype: object\n",
      "\n",
      "area_gen\n",
      "0    0.00\n",
      "1    0.00\n",
      "2    0.00\n",
      "3    0.00\n",
      "4    0.00\n",
      "Name: area_gen, dtype: object\n",
      "\n",
      "area_land\n",
      "0    0.00\n",
      "1    0.00\n",
      "2    0.00\n",
      "3    0.00\n",
      "4    0.00\n",
      "Name: area_land, dtype: object\n",
      "\n",
      "area_park\n",
      "0    0.00\n",
      "1    0.00\n",
      "2    0.00\n",
      "3    0.00\n",
      "4    0.00\n",
      "Name: area_park, dtype: object\n",
      "\n",
      "cadno\n",
      "0   NaN\n",
      "1   NaN\n",
      "2   NaN\n",
      "3   NaN\n",
      "4   NaN\n",
      "Name: cadno, dtype: float64\n",
      "\n",
      "energy_cla\n",
      "0    Не присвоен\n",
      "1    Не присвоен\n",
      "2    Не присвоен\n",
      "3    Не присвоен\n",
      "4    Не присвоен\n",
      "Name: energy_cla, dtype: object\n",
      "\n",
      "blag_playg\n",
      "0    Не имеется\n",
      "1    Не имеется\n",
      "2    Не имеется\n",
      "3    Не имеется\n",
      "4    Не имеется\n",
      "Name: blag_playg, dtype: object\n",
      "\n",
      "blag_sport\n",
      "0    Не имеется\n",
      "1    Не имеется\n",
      "2    Не имеется\n",
      "3    Не имеется\n",
      "4    Не имеется\n",
      "Name: blag_sport, dtype: object\n",
      "\n",
      "blag_other\n",
      "0    Не имеется\n",
      "1    Не имеется\n",
      "2    Не имеется\n",
      "3    Не имеется\n",
      "4    Не имеется\n",
      "Name: blag_other, dtype: object\n",
      "\n",
      "other\n",
      "0    Не имеется\n",
      "1    Не имеется\n",
      "2    Не имеется\n",
      "3    Не имеется\n",
      "4    Не имеется\n",
      "Name: other, dtype: object\n",
      "\n",
      "bldng_type\n",
      "0         NaN\n",
      "1    khrushev\n",
      "2    khrushev\n",
      "3    khrushev\n",
      "4    khrushev\n",
      "Name: bldng_type, dtype: object\n",
      "\n",
      "levels_int\n",
      "0    8.0\n",
      "1    5.0\n",
      "2    5.0\n",
      "3    5.0\n",
      "4    5.0\n",
      "Name: levels_int, dtype: float64\n",
      "\n",
      "year_int\n",
      "0    1959.0\n",
      "1    1959.0\n",
      "2    1965.0\n",
      "3    1957.0\n",
      "4    1960.0\n",
      "Name: year_int, dtype: float64\n",
      "\n",
      "type\n",
      "0         NaN\n",
      "1    khrushev\n",
      "2    khrushev\n",
      "3    khrushev\n",
      "4    khrushev\n",
      "Name: type, dtype: object\n",
      "\n"
     ]
    }
   ],
   "source": [
    "for feature in data.columns:\n",
    "    print(feature)\n",
    "    print(data[feature].head())\n",
    "    print()"
   ]
  },
  {
   "cell_type": "code",
   "execution_count": 18,
   "metadata": {
    "collapsed": false
   },
   "outputs": [
    {
     "name": "stdout",
     "output_type": "stream",
     "text": [
      "In emergency state among all buildings:  56\n",
      "In emergency state among clarified buildings:  2\n"
     ]
    }
   ],
   "source": [
    "print(\"In emergency state among all buildings: \", len(data[data[\"avar\"] == \"Да\"]))\n",
    "print(\"In emergency state among clarified buildings: \", len(dataClarified[dataClarified[\"avar\"] == \"Да\"]))"
   ]
  },
  {
   "cell_type": "code",
   "execution_count": 19,
   "metadata": {
    "collapsed": false
   },
   "outputs": [
    {
     "data": {
      "text/plain": [
       "array(['Не имеется', 'Имеется', 'Не заполнено'], dtype=object)"
      ]
     },
     "execution_count": 19,
     "metadata": {},
     "output_type": "execute_result"
    }
   ],
   "source": [
    "data[\"blag_playg\"].unique()"
   ]
  },
  {
   "cell_type": "code",
   "execution_count": 20,
   "metadata": {
    "collapsed": true
   },
   "outputs": [],
   "source": [
    "def checkCategories(feature, data):\n",
    "    print(feature)\n",
    "    unique = data[feature].unique()\n",
    "    print(\"Categories: \", unique)\n",
    "    \n",
    "    for category in unique:\n",
    "        print(category + \": \", len(data[data[feature] == category]))\n",
    "    print()"
   ]
  },
  {
   "cell_type": "code",
   "execution_count": 22,
   "metadata": {
    "collapsed": false
   },
   "outputs": [
    {
     "name": "stdout",
     "output_type": "stream",
     "text": [
      "energy_cla\n",
      "Categories:  ['Не присвоен' 'B' 'Не заполнено' 'C' 'D' 'E' 'A' 'B++' 'B+']\n",
      "Не присвоен:  16301\n",
      "B:  1381\n",
      "Не заполнено:  6164\n",
      "C:  1786\n",
      "D:  2880\n",
      "E:  3223\n",
      "A:  812\n",
      "B++:  200\n",
      "B+:  213\n",
      "\n",
      "blag_playg\n",
      "Categories:  ['Не имеется' 'Имеется' 'Не заполнено']\n",
      "Не имеется:  11354\n",
      "Имеется:  14349\n",
      "Не заполнено:  7257\n",
      "\n",
      "blag_sport\n",
      "Categories:  ['Не имеется' 'Не заполнено' 'Имеется']\n",
      "Не имеется:  21931\n",
      "Не заполнено:  7479\n",
      "Имеется:  3550\n",
      "\n"
     ]
    }
   ],
   "source": [
    "checkCategories(\"energy_cla\", data)\n",
    "checkCategories(\"blag_playg\", data)\n",
    "checkCategories(\"blag_sport\", data)"
   ]
  },
  {
   "cell_type": "code",
   "execution_count": 23,
   "metadata": {
    "collapsed": false
   },
   "outputs": [
    {
     "name": "stderr",
     "output_type": "stream",
     "text": [
      "Widget Javascript not detected.  It may not be installed properly. Did you enable the widgetsnbextension? If not, then run \"jupyter nbextension enable --py --sys-prefix widgetsnbextension\"\n"
     ]
    },
    {
     "name": "stdout",
     "output_type": "stream",
     "text": [
      "\n",
      "[8226994]\n"
     ]
    }
   ],
   "source": [
    "# Сравнение признаков bldng_type и type на равенство\n",
    "for i in tqdm_notebook(range(data.shape[0])):\n",
    "    dispairities = []\n",
    "    row = data.iloc[i]\n",
    "    if row[\"bldng_type\"] != row[\"type\"]:\n",
    "        dispairities.append(row[\"house_id\"])\n",
    "print(dispairities)"
   ]
  },
  {
   "cell_type": "code",
   "execution_count": 63,
   "metadata": {
    "collapsed": false
   },
   "outputs": [],
   "source": [
    "def diffHist(feature):\n",
    "    histAll = go.Histogram(\n",
    "        x=data[feature], \n",
    "        autobiny=True,\n",
    "        name=\"All buildings\"\n",
    "    )\n",
    "\n",
    "    histClarified = go.Histogram(\n",
    "        x=dataClarified[feature], \n",
    "        autobiny=True,\n",
    "        name=\"Clarified buildings\"\n",
    "    )\n",
    "    hists = [histAll, histClarified]\n",
    "\n",
    "    layout = go.Layout(\n",
    "        title='Buildings ' + feature + ' distrubution',\n",
    "        xaxis=dict(\n",
    "            title=feature\n",
    "        ),\n",
    "        yaxis=dict(\n",
    "            title='Count'\n",
    "        ),\n",
    "        bargap=0.2,\n",
    "        bargroupgap=0.1\n",
    "    )\n",
    "    fig = go.Figure(data=hists, layout=layout)\n",
    "    return fig"
   ]
  },
  {
   "cell_type": "code",
   "execution_count": 25,
   "metadata": {
    "collapsed": false
   },
   "outputs": [
    {
     "data": {
      "text/html": [
       "<iframe id=\"igraph\" scrolling=\"no\" style=\"border:none;\" seamless=\"seamless\" src=\"https://plot.ly/~nikitakrutoy/56.embed\" height=\"525px\" width=\"100%\"></iframe>"
      ],
      "text/plain": [
       "<plotly.tools.PlotlyDisplay object>"
      ]
     },
     "execution_count": 25,
     "metadata": {},
     "output_type": "execute_result"
    }
   ],
   "source": [
    "fig = diffHist(\"area\")\n",
    "fig[\"data\"][0][\"xbins\"] = {\n",
    "    \"start\": 0,\n",
    "    \"end\": 40000,\n",
    "    \"size\": 1000\n",
    "}\n",
    "fig[\"data\"][1][\"xbins\"] = {\n",
    "    \"start\": 0,\n",
    "    \"end\": 40000,\n",
    "    \"size\": 1000\n",
    "}\n",
    "\n",
    "\n",
    "py.iplot(fig)"
   ]
  },
  {
   "cell_type": "markdown",
   "metadata": {},
   "source": [
    "## Предобработка данных"
   ]
  },
  {
   "cell_type": "markdown",
   "metadata": {},
   "source": [
    "Избавимся от не нужный признаков"
   ]
  },
  {
   "cell_type": "code",
   "execution_count": 26,
   "metadata": {
    "collapsed": true
   },
   "outputs": [],
   "source": [
    "def get_rid_of_shitty_features(data):\n",
    "    temp = data.columns[11:]\n",
    "    temp = [i for i in temp if i not in [\"capfond\",\"room_count\", \"mgmt_compa\", \"mgmt_com_1\", \"levels_max\", \"levels_min\", \"room_cou_1\", \"room_cou_2\", \"cadno\", \"blag_other\", \"other\", \"bldng_type\"]]\n",
    "    features = temp + [\"house_id\"] + [\"servicedat\"]\n",
    "    return data[features]"
   ]
  },
  {
   "cell_type": "code",
   "execution_count": 27,
   "metadata": {
    "collapsed": false
   },
   "outputs": [
    {
     "data": {
      "text/html": [
       "<div>\n",
       "<style>\n",
       "    .dataframe thead tr:only-child th {\n",
       "        text-align: right;\n",
       "    }\n",
       "\n",
       "    .dataframe thead th {\n",
       "        text-align: left;\n",
       "    }\n",
       "\n",
       "    .dataframe tbody tr th {\n",
       "        vertical-align: top;\n",
       "    }\n",
       "</style>\n",
       "<table border=\"1\" class=\"dataframe\">\n",
       "  <thead>\n",
       "    <tr style=\"text-align: right;\">\n",
       "      <th></th>\n",
       "      <th>house_type</th>\n",
       "      <th>avar</th>\n",
       "      <th>doors</th>\n",
       "      <th>area</th>\n",
       "      <th>area_live</th>\n",
       "      <th>area_nonli</th>\n",
       "      <th>area_gen</th>\n",
       "      <th>area_land</th>\n",
       "      <th>area_park</th>\n",
       "      <th>energy_cla</th>\n",
       "      <th>blag_playg</th>\n",
       "      <th>blag_sport</th>\n",
       "      <th>levels_int</th>\n",
       "      <th>year_int</th>\n",
       "      <th>type</th>\n",
       "      <th>house_id</th>\n",
       "      <th>servicedat</th>\n",
       "    </tr>\n",
       "  </thead>\n",
       "  <tbody>\n",
       "    <tr>\n",
       "      <th>0</th>\n",
       "      <td>Многоквартирный дом</td>\n",
       "      <td>Нет</td>\n",
       "      <td>4</td>\n",
       "      <td>9597.70</td>\n",
       "      <td>8004.30</td>\n",
       "      <td>1593.40</td>\n",
       "      <td>0.00</td>\n",
       "      <td>0.00</td>\n",
       "      <td>0.00</td>\n",
       "      <td>Не присвоен</td>\n",
       "      <td>Не имеется</td>\n",
       "      <td>Не имеется</td>\n",
       "      <td>8.0</td>\n",
       "      <td>1959.0</td>\n",
       "      <td>NaN</td>\n",
       "      <td>7840062</td>\n",
       "      <td>01.04.2010</td>\n",
       "    </tr>\n",
       "    <tr>\n",
       "      <th>1</th>\n",
       "      <td>Многоквартирный дом</td>\n",
       "      <td>Нет</td>\n",
       "      <td>3</td>\n",
       "      <td>4688.10</td>\n",
       "      <td>3722.90</td>\n",
       "      <td>965.20</td>\n",
       "      <td>0.00</td>\n",
       "      <td>0.00</td>\n",
       "      <td>0.00</td>\n",
       "      <td>Не присвоен</td>\n",
       "      <td>Не имеется</td>\n",
       "      <td>Не имеется</td>\n",
       "      <td>5.0</td>\n",
       "      <td>1959.0</td>\n",
       "      <td>khrushev</td>\n",
       "      <td>7840091</td>\n",
       "      <td>01.04.2010</td>\n",
       "    </tr>\n",
       "  </tbody>\n",
       "</table>\n",
       "</div>"
      ],
      "text/plain": [
       "            house_type avar doors     area area_live area_nonli area_gen  \\\n",
       "0  Многоквартирный дом  Нет     4  9597.70   8004.30    1593.40     0.00   \n",
       "1  Многоквартирный дом  Нет     3  4688.10   3722.90     965.20     0.00   \n",
       "\n",
       "  area_land area_park   energy_cla  blag_playg  blag_sport  levels_int  \\\n",
       "0      0.00      0.00  Не присвоен  Не имеется  Не имеется         8.0   \n",
       "1      0.00      0.00  Не присвоен  Не имеется  Не имеется         5.0   \n",
       "\n",
       "   year_int      type  house_id  servicedat  \n",
       "0    1959.0       NaN   7840062  01.04.2010  \n",
       "1    1959.0  khrushev   7840091  01.04.2010  "
      ]
     },
     "execution_count": 27,
     "metadata": {},
     "output_type": "execute_result"
    }
   ],
   "source": [
    "X = get_rid_of_shitty_features(data)\n",
    "X.head(2)"
   ]
  },
  {
   "cell_type": "markdown",
   "metadata": {},
   "source": [
    "Чтобы представить даты как численные признаки переведем их в unix timestamp"
   ]
  },
  {
   "cell_type": "code",
   "execution_count": 28,
   "metadata": {
    "collapsed": false
   },
   "outputs": [],
   "source": [
    "# servicedat to Unix timestamp\n",
    "def data2timestamp(data):\n",
    "    feature = \"servicedat\"\n",
    "    if feature not in data:\n",
    "        print(\"No servicedat feature\")\n",
    "        return\n",
    "    \n",
    "    serviceDates = list(data[feature])\n",
    "    temp = []\n",
    "    for date in serviceDates:\n",
    "        if date != \"Не заполнено\":\n",
    "            date = date.split(\".\")\n",
    "            date = datetime.datetime(int(date[2]), int(date[1]), int(date[0]))\n",
    "            date = time.mktime(date.timetuple())\n",
    "        temp.append(date)\n",
    "\n",
    "    serviceDates = temp\n",
    "    data[\"servicedatUnix\"] = serviceDates\n",
    "\n",
    "data2timestamp(X)\n",
    "\n",
    "try:\n",
    "    del X[\"servicedat\"]\n",
    "except KeyError:\n",
    "    print(\"No servicedat feature to delete\")"
   ]
  },
  {
   "cell_type": "code",
   "execution_count": 29,
   "metadata": {
    "collapsed": false
   },
   "outputs": [
    {
     "data": {
      "text/html": [
       "<div>\n",
       "<style>\n",
       "    .dataframe thead tr:only-child th {\n",
       "        text-align: right;\n",
       "    }\n",
       "\n",
       "    .dataframe thead th {\n",
       "        text-align: left;\n",
       "    }\n",
       "\n",
       "    .dataframe tbody tr th {\n",
       "        vertical-align: top;\n",
       "    }\n",
       "</style>\n",
       "<table border=\"1\" class=\"dataframe\">\n",
       "  <thead>\n",
       "    <tr style=\"text-align: right;\">\n",
       "      <th></th>\n",
       "      <th>house_type</th>\n",
       "      <th>avar</th>\n",
       "      <th>doors</th>\n",
       "      <th>area</th>\n",
       "      <th>area_live</th>\n",
       "      <th>area_nonli</th>\n",
       "      <th>area_gen</th>\n",
       "      <th>area_land</th>\n",
       "      <th>area_park</th>\n",
       "      <th>energy_cla</th>\n",
       "      <th>blag_playg</th>\n",
       "      <th>blag_sport</th>\n",
       "      <th>levels_int</th>\n",
       "      <th>year_int</th>\n",
       "      <th>type</th>\n",
       "      <th>house_id</th>\n",
       "      <th>servicedatUnix</th>\n",
       "    </tr>\n",
       "  </thead>\n",
       "  <tbody>\n",
       "    <tr>\n",
       "      <th>0</th>\n",
       "      <td>Многоквартирный дом</td>\n",
       "      <td>Нет</td>\n",
       "      <td>4</td>\n",
       "      <td>9597.70</td>\n",
       "      <td>8004.30</td>\n",
       "      <td>1593.40</td>\n",
       "      <td>0.00</td>\n",
       "      <td>0.00</td>\n",
       "      <td>0.00</td>\n",
       "      <td>Не присвоен</td>\n",
       "      <td>Не имеется</td>\n",
       "      <td>Не имеется</td>\n",
       "      <td>8.0</td>\n",
       "      <td>1959.0</td>\n",
       "      <td>NaN</td>\n",
       "      <td>7840062</td>\n",
       "      <td>1.27007e+09</td>\n",
       "    </tr>\n",
       "    <tr>\n",
       "      <th>1</th>\n",
       "      <td>Многоквартирный дом</td>\n",
       "      <td>Нет</td>\n",
       "      <td>3</td>\n",
       "      <td>4688.10</td>\n",
       "      <td>3722.90</td>\n",
       "      <td>965.20</td>\n",
       "      <td>0.00</td>\n",
       "      <td>0.00</td>\n",
       "      <td>0.00</td>\n",
       "      <td>Не присвоен</td>\n",
       "      <td>Не имеется</td>\n",
       "      <td>Не имеется</td>\n",
       "      <td>5.0</td>\n",
       "      <td>1959.0</td>\n",
       "      <td>khrushev</td>\n",
       "      <td>7840091</td>\n",
       "      <td>1.27007e+09</td>\n",
       "    </tr>\n",
       "  </tbody>\n",
       "</table>\n",
       "</div>"
      ],
      "text/plain": [
       "            house_type avar doors     area area_live area_nonli area_gen  \\\n",
       "0  Многоквартирный дом  Нет     4  9597.70   8004.30    1593.40     0.00   \n",
       "1  Многоквартирный дом  Нет     3  4688.10   3722.90     965.20     0.00   \n",
       "\n",
       "  area_land area_park   energy_cla  blag_playg  blag_sport  levels_int  \\\n",
       "0      0.00      0.00  Не присвоен  Не имеется  Не имеется         8.0   \n",
       "1      0.00      0.00  Не присвоен  Не имеется  Не имеется         5.0   \n",
       "\n",
       "   year_int      type  house_id servicedatUnix  \n",
       "0    1959.0       NaN   7840062    1.27007e+09  \n",
       "1    1959.0  khrushev   7840091    1.27007e+09  "
      ]
     },
     "execution_count": 29,
     "metadata": {},
     "output_type": "execute_result"
    }
   ],
   "source": [
    "X.head(2)"
   ]
  },
  {
   "cell_type": "markdown",
   "metadata": {},
   "source": [
    "Используем следующие утилиты для отчиски данных"
   ]
  },
  {
   "cell_type": "code",
   "execution_count": 30,
   "metadata": {
    "collapsed": false
   },
   "outputs": [],
   "source": [
    "# Checks if cell is numerical data \n",
    "def is_number(string):\n",
    "    try:\n",
    "        float(string)\n",
    "    except ValueError:\n",
    "        return False\n",
    "    if np.isnan(float(string)):\n",
    "        return False\n",
    "    return True\n",
    "\n",
    "def is_feature_numeric(feature, data):\n",
    "    return is_number(data[feature][0])\n",
    "\n",
    "# Changes all nan for mean for current feature\n",
    "def nan2mean(feature, data):\n",
    "    feature_list = list(data[feature])\n",
    "    mean = int(np.mean([float(i) for i in feature_list if is_number(i)]))\n",
    "    print(feature, mean)\n",
    "    for i in range(len(feature_list)):\n",
    "        if not is_number(feature_list[i]):\n",
    "            feature_list[i] = mean\n",
    "    data[feature] = feature_list\n",
    "    \n",
    "\n",
    "# all blanks to nan for current feature\n",
    "def blank2nan(feature, data):\n",
    "    column = data[feature]\n",
    "    for row in range(len(column)):\n",
    "        value = column[row]\n",
    "        if value == 'Не заполнено' or value == 'Незаполнено':\n",
    "            data.set_value(row, feature, np.NaN)\n",
    "\n",
    "        \n",
    "# make dummies from categorical features\n",
    "def makeDummies(data):\n",
    "    features = data.columns\n",
    "    for feature in features:\n",
    "        if not is_feature_numeric(feature, data):\n",
    "            dummies = pd.get_dummies(data[feature]).rename(columns=lambda x: feature + \"_is_\" + str(x))\n",
    "            data = pd.concat([data, dummies], axis=1)\n",
    "            del data[feature]\n",
    "    return data\n",
    "            \n",
    "\n",
    "\n",
    "# check if there any blanks in dataframe and print them\n",
    "def check_for_nan(X):\n",
    "    strset = set()\n",
    "    for feature in tqdm_notebook(X.columns):\n",
    "        for row in X[feature]:\n",
    "            # We dont use is_number here because \n",
    "            # nan is not number too, and nan != nan\n",
    "            # so when making set every nan is a different object\n",
    "            try: \n",
    "                float(row)\n",
    "            except:\n",
    "                strset.add(row)\n",
    "    print(\"Categories: \", strset)\n",
    "    \n",
    "    if X.isnull().any().any():\n",
    "        print(\"NaN found\")\n",
    "    else:\n",
    "        print(\"NaN not found\")\n",
    "    "
   ]
  },
  {
   "cell_type": "code",
   "execution_count": 31,
   "metadata": {
    "collapsed": true
   },
   "outputs": [],
   "source": [
    "features = X.columns"
   ]
  },
  {
   "cell_type": "code",
   "execution_count": 32,
   "metadata": {
    "collapsed": false,
    "scrolled": true
   },
   "outputs": [
    {
     "name": "stderr",
     "output_type": "stream",
     "text": [
      "Widget Javascript not detected.  It may not be installed properly. Did you enable the widgetsnbextension? If not, then run \"jupyter nbextension enable --py --sys-prefix widgetsnbextension\"\n"
     ]
    },
    {
     "name": "stdout",
     "output_type": "stream",
     "text": [
      "\n"
     ]
    },
    {
     "name": "stderr",
     "output_type": "stream",
     "text": [
      "Widget Javascript not detected.  It may not be installed properly. Did you enable the widgetsnbextension? If not, then run \"jupyter nbextension enable --py --sys-prefix widgetsnbextension\"\n"
     ]
    },
    {
     "name": "stdout",
     "output_type": "stream",
     "text": [
      "\n",
      "Categories:  {'Имеется', 'C', 'low_l', 'Не имеется', 'ind_pr_l', 'mod_prem', 'stl', 'B++', 'prestl', 'Жилой дом блокированной застройки', 'khrushev', 'Специализированный жилищный фонд', 'Нет', 'A', 'B+', 'brezhnev', 'Не присвоен', 'Многоквартирный дом', 'E', 'prerev', 'Да', 'D', 'mod_ec', 'B'}\n",
      "NaN found\n"
     ]
    }
   ],
   "source": [
    "for feature in tqdm_notebook(X.columns):\n",
    "    blank2nan(feature, X)\n",
    "\n",
    "check_for_nan(X)"
   ]
  },
  {
   "cell_type": "code",
   "execution_count": 33,
   "metadata": {
    "collapsed": false
   },
   "outputs": [
    {
     "data": {
      "text/html": [
       "<div>\n",
       "<style>\n",
       "    .dataframe thead tr:only-child th {\n",
       "        text-align: right;\n",
       "    }\n",
       "\n",
       "    .dataframe thead th {\n",
       "        text-align: left;\n",
       "    }\n",
       "\n",
       "    .dataframe tbody tr th {\n",
       "        vertical-align: top;\n",
       "    }\n",
       "</style>\n",
       "<table border=\"1\" class=\"dataframe\">\n",
       "  <thead>\n",
       "    <tr style=\"text-align: right;\">\n",
       "      <th></th>\n",
       "      <th>house_type</th>\n",
       "      <th>avar</th>\n",
       "      <th>doors</th>\n",
       "      <th>area</th>\n",
       "      <th>area_live</th>\n",
       "      <th>area_nonli</th>\n",
       "      <th>area_gen</th>\n",
       "      <th>area_land</th>\n",
       "      <th>area_park</th>\n",
       "      <th>energy_cla</th>\n",
       "      <th>blag_playg</th>\n",
       "      <th>blag_sport</th>\n",
       "      <th>levels_int</th>\n",
       "      <th>year_int</th>\n",
       "      <th>type</th>\n",
       "      <th>house_id</th>\n",
       "      <th>servicedatUnix</th>\n",
       "    </tr>\n",
       "  </thead>\n",
       "  <tbody>\n",
       "    <tr>\n",
       "      <th>0</th>\n",
       "      <td>Многоквартирный дом</td>\n",
       "      <td>Нет</td>\n",
       "      <td>4</td>\n",
       "      <td>9597.70</td>\n",
       "      <td>8004.30</td>\n",
       "      <td>1593.40</td>\n",
       "      <td>0.00</td>\n",
       "      <td>0.00</td>\n",
       "      <td>0.00</td>\n",
       "      <td>Не присвоен</td>\n",
       "      <td>Не имеется</td>\n",
       "      <td>Не имеется</td>\n",
       "      <td>8.0</td>\n",
       "      <td>1959.0</td>\n",
       "      <td>NaN</td>\n",
       "      <td>7840062</td>\n",
       "      <td>1.27007e+09</td>\n",
       "    </tr>\n",
       "    <tr>\n",
       "      <th>1</th>\n",
       "      <td>Многоквартирный дом</td>\n",
       "      <td>Нет</td>\n",
       "      <td>3</td>\n",
       "      <td>4688.10</td>\n",
       "      <td>3722.90</td>\n",
       "      <td>965.20</td>\n",
       "      <td>0.00</td>\n",
       "      <td>0.00</td>\n",
       "      <td>0.00</td>\n",
       "      <td>Не присвоен</td>\n",
       "      <td>Не имеется</td>\n",
       "      <td>Не имеется</td>\n",
       "      <td>5.0</td>\n",
       "      <td>1959.0</td>\n",
       "      <td>khrushev</td>\n",
       "      <td>7840091</td>\n",
       "      <td>1.27007e+09</td>\n",
       "    </tr>\n",
       "  </tbody>\n",
       "</table>\n",
       "</div>"
      ],
      "text/plain": [
       "            house_type avar doors     area area_live area_nonli area_gen  \\\n",
       "0  Многоквартирный дом  Нет     4  9597.70   8004.30    1593.40     0.00   \n",
       "1  Многоквартирный дом  Нет     3  4688.10   3722.90     965.20     0.00   \n",
       "\n",
       "  area_land area_park   energy_cla  blag_playg  blag_sport  levels_int  \\\n",
       "0      0.00      0.00  Не присвоен  Не имеется  Не имеется         8.0   \n",
       "1      0.00      0.00  Не присвоен  Не имеется  Не имеется         5.0   \n",
       "\n",
       "   year_int      type  house_id servicedatUnix  \n",
       "0    1959.0       NaN   7840062    1.27007e+09  \n",
       "1    1959.0  khrushev   7840091    1.27007e+09  "
      ]
     },
     "execution_count": 33,
     "metadata": {},
     "output_type": "execute_result"
    }
   ],
   "source": [
    "X.head(2)"
   ]
  },
  {
   "cell_type": "code",
   "execution_count": 34,
   "metadata": {
    "collapsed": false
   },
   "outputs": [
    {
     "name": "stderr",
     "output_type": "stream",
     "text": [
      "Widget Javascript not detected.  It may not be installed properly. Did you enable the widgetsnbextension? If not, then run \"jupyter nbextension enable --py --sys-prefix widgetsnbextension\"\n"
     ]
    },
    {
     "name": "stdout",
     "output_type": "stream",
     "text": [
      "doors 3\n",
      "area 7769\n",
      "area_live 6590\n",
      "area_nonli 2452\n",
      "area_gen 4008\n",
      "area_land 1925\n",
      "area_park 138\n",
      "levels_int 9\n",
      "year_int 1969\n",
      "house_id 7902217\n",
      "servicedatUnix 1305964459\n",
      "\n"
     ]
    }
   ],
   "source": [
    "for feature in tqdm_notebook(X.columns):\n",
    "    if is_feature_numeric(feature, X):\n",
    "        nan2mean(feature, X)"
   ]
  },
  {
   "cell_type": "markdown",
   "metadata": {},
   "source": [
    "Делаем dummies"
   ]
  },
  {
   "cell_type": "code",
   "execution_count": 35,
   "metadata": {
    "collapsed": false
   },
   "outputs": [],
   "source": [
    "X = makeDummies(X)"
   ]
  },
  {
   "cell_type": "code",
   "execution_count": 36,
   "metadata": {
    "collapsed": false
   },
   "outputs": [
    {
     "data": {
      "text/html": [
       "<div>\n",
       "<style>\n",
       "    .dataframe thead tr:only-child th {\n",
       "        text-align: right;\n",
       "    }\n",
       "\n",
       "    .dataframe thead th {\n",
       "        text-align: left;\n",
       "    }\n",
       "\n",
       "    .dataframe tbody tr th {\n",
       "        vertical-align: top;\n",
       "    }\n",
       "</style>\n",
       "<table border=\"1\" class=\"dataframe\">\n",
       "  <thead>\n",
       "    <tr style=\"text-align: right;\">\n",
       "      <th></th>\n",
       "      <th>doors</th>\n",
       "      <th>area</th>\n",
       "      <th>area_live</th>\n",
       "      <th>area_nonli</th>\n",
       "      <th>area_gen</th>\n",
       "      <th>area_land</th>\n",
       "      <th>area_park</th>\n",
       "      <th>levels_int</th>\n",
       "      <th>year_int</th>\n",
       "      <th>house_id</th>\n",
       "      <th>...</th>\n",
       "      <th>blag_sport_is_Не имеется</th>\n",
       "      <th>type_is_brezhnev</th>\n",
       "      <th>type_is_ind_pr_l</th>\n",
       "      <th>type_is_khrushev</th>\n",
       "      <th>type_is_low_l</th>\n",
       "      <th>type_is_mod_ec</th>\n",
       "      <th>type_is_mod_prem</th>\n",
       "      <th>type_is_prerev</th>\n",
       "      <th>type_is_prestl</th>\n",
       "      <th>type_is_stl</th>\n",
       "    </tr>\n",
       "  </thead>\n",
       "  <tbody>\n",
       "    <tr>\n",
       "      <th>0</th>\n",
       "      <td>4</td>\n",
       "      <td>9597.70</td>\n",
       "      <td>8004.30</td>\n",
       "      <td>1593.40</td>\n",
       "      <td>0.00</td>\n",
       "      <td>0.00</td>\n",
       "      <td>0.00</td>\n",
       "      <td>8.0</td>\n",
       "      <td>1959.0</td>\n",
       "      <td>7840062</td>\n",
       "      <td>...</td>\n",
       "      <td>1</td>\n",
       "      <td>0</td>\n",
       "      <td>0</td>\n",
       "      <td>0</td>\n",
       "      <td>0</td>\n",
       "      <td>0</td>\n",
       "      <td>0</td>\n",
       "      <td>0</td>\n",
       "      <td>0</td>\n",
       "      <td>0</td>\n",
       "    </tr>\n",
       "    <tr>\n",
       "      <th>1</th>\n",
       "      <td>3</td>\n",
       "      <td>4688.10</td>\n",
       "      <td>3722.90</td>\n",
       "      <td>965.20</td>\n",
       "      <td>0.00</td>\n",
       "      <td>0.00</td>\n",
       "      <td>0.00</td>\n",
       "      <td>5.0</td>\n",
       "      <td>1959.0</td>\n",
       "      <td>7840091</td>\n",
       "      <td>...</td>\n",
       "      <td>1</td>\n",
       "      <td>0</td>\n",
       "      <td>0</td>\n",
       "      <td>1</td>\n",
       "      <td>0</td>\n",
       "      <td>0</td>\n",
       "      <td>0</td>\n",
       "      <td>0</td>\n",
       "      <td>0</td>\n",
       "      <td>0</td>\n",
       "    </tr>\n",
       "  </tbody>\n",
       "</table>\n",
       "<p>2 rows × 37 columns</p>\n",
       "</div>"
      ],
      "text/plain": [
       "  doors     area area_live area_nonli area_gen area_land area_park  \\\n",
       "0     4  9597.70   8004.30    1593.40     0.00      0.00      0.00   \n",
       "1     3  4688.10   3722.90     965.20     0.00      0.00      0.00   \n",
       "\n",
       "   levels_int  year_int  house_id     ...       blag_sport_is_Не имеется  \\\n",
       "0         8.0    1959.0   7840062     ...                              1   \n",
       "1         5.0    1959.0   7840091     ...                              1   \n",
       "\n",
       "   type_is_brezhnev  type_is_ind_pr_l  type_is_khrushev  type_is_low_l  \\\n",
       "0                 0                 0                 0              0   \n",
       "1                 0                 0                 1              0   \n",
       "\n",
       "   type_is_mod_ec  type_is_mod_prem  type_is_prerev  type_is_prestl  \\\n",
       "0               0                 0               0               0   \n",
       "1               0                 0               0               0   \n",
       "\n",
       "   type_is_stl  \n",
       "0            0  \n",
       "1            0  \n",
       "\n",
       "[2 rows x 37 columns]"
      ]
     },
     "execution_count": 36,
     "metadata": {},
     "output_type": "execute_result"
    }
   ],
   "source": [
    "X.head(2)"
   ]
  },
  {
   "cell_type": "code",
   "execution_count": 37,
   "metadata": {
    "collapsed": false
   },
   "outputs": [
    {
     "name": "stderr",
     "output_type": "stream",
     "text": [
      "Widget Javascript not detected.  It may not be installed properly. Did you enable the widgetsnbextension? If not, then run \"jupyter nbextension enable --py --sys-prefix widgetsnbextension\"\n"
     ]
    },
    {
     "name": "stdout",
     "output_type": "stream",
     "text": [
      "\n",
      "Categories:  set()\n",
      "NaN not found\n"
     ]
    }
   ],
   "source": [
    "check_for_nan(X)"
   ]
  },
  {
   "cell_type": "markdown",
   "metadata": {},
   "source": [
    "# МОЖНО КЛАССИФИЦИРОВАТЬ УРААААААЗыфшпрфщывалдоАЩФЫВДАЛФЫЛВОАЛФЫВА"
   ]
  },
  {
   "cell_type": "markdown",
   "metadata": {},
   "source": []
  },
  {
   "cell_type": "code",
   "execution_count": 38,
   "metadata": {
    "collapsed": false
   },
   "outputs": [],
   "source": [
    "renv = pd.read_csv(\"renovation.csv\")"
   ]
  },
  {
   "cell_type": "code",
   "execution_count": 39,
   "metadata": {
    "collapsed": false
   },
   "outputs": [
    {
     "data": {
      "text/html": [
       "<div>\n",
       "<style>\n",
       "    .dataframe thead tr:only-child th {\n",
       "        text-align: right;\n",
       "    }\n",
       "\n",
       "    .dataframe thead th {\n",
       "        text-align: left;\n",
       "    }\n",
       "\n",
       "    .dataframe tbody tr th {\n",
       "        vertical-align: top;\n",
       "    }\n",
       "</style>\n",
       "<table border=\"1\" class=\"dataframe\">\n",
       "  <thead>\n",
       "    <tr style=\"text-align: right;\">\n",
       "      <th></th>\n",
       "      <th>field_1</th>\n",
       "      <th>lat</th>\n",
       "      <th>lon</th>\n",
       "      <th>house_id</th>\n",
       "      <th>bldng_type</th>\n",
       "      <th>levels_int</th>\n",
       "      <th>year_int</th>\n",
       "      <th>type</th>\n",
       "      <th>field_1_1</th>\n",
       "      <th>name</th>\n",
       "      <th>za</th>\n",
       "      <th>yavka</th>\n",
       "      <th>protiv</th>\n",
       "    </tr>\n",
       "  </thead>\n",
       "  <tbody>\n",
       "    <tr>\n",
       "      <th>0</th>\n",
       "      <td>39</td>\n",
       "      <td>55.83183</td>\n",
       "      <td>37.53054</td>\n",
       "      <td>8151750</td>\n",
       "      <td>khrushev</td>\n",
       "      <td>5.0</td>\n",
       "      <td>1959.0</td>\n",
       "      <td>khrushev</td>\n",
       "      <td>21185</td>\n",
       "      <td>Большая Академическая улица, дом 35А</td>\n",
       "      <td>92</td>\n",
       "      <td>60</td>\n",
       "      <td>14</td>\n",
       "    </tr>\n",
       "    <tr>\n",
       "      <th>1</th>\n",
       "      <td>40</td>\n",
       "      <td>55.83200</td>\n",
       "      <td>37.52986</td>\n",
       "      <td>8151767</td>\n",
       "      <td>khrushev</td>\n",
       "      <td>5.0</td>\n",
       "      <td>1960.0</td>\n",
       "      <td>khrushev</td>\n",
       "      <td>21214</td>\n",
       "      <td>Большая Академическая улица, дом 35Б</td>\n",
       "      <td>97</td>\n",
       "      <td>67</td>\n",
       "      <td>5</td>\n",
       "    </tr>\n",
       "  </tbody>\n",
       "</table>\n",
       "</div>"
      ],
      "text/plain": [
       "   field_1       lat       lon  house_id bldng_type  levels_int  year_int  \\\n",
       "0       39  55.83183  37.53054   8151750   khrushev         5.0    1959.0   \n",
       "1       40  55.83200  37.52986   8151767   khrushev         5.0    1960.0   \n",
       "\n",
       "       type  field_1_1                                  name  za  yavka  \\\n",
       "0  khrushev      21185  Большая Академическая улица, дом 35А  92     60   \n",
       "1  khrushev      21214  Большая Академическая улица, дом 35Б  97     67   \n",
       "\n",
       "   protiv  \n",
       "0      14  \n",
       "1       5  "
      ]
     },
     "execution_count": 39,
     "metadata": {},
     "output_type": "execute_result"
    }
   ],
   "source": [
    "renv.head(2)"
   ]
  },
  {
   "cell_type": "code",
   "execution_count": 40,
   "metadata": {
    "collapsed": false
   },
   "outputs": [
    {
     "data": {
      "text/plain": [
       "numpy.int64"
      ]
     },
     "execution_count": 40,
     "metadata": {},
     "output_type": "execute_result"
    }
   ],
   "source": [
    "type(renv[\"house_id\"][0])"
   ]
  },
  {
   "cell_type": "code",
   "execution_count": 41,
   "metadata": {
    "collapsed": false
   },
   "outputs": [
    {
     "data": {
      "text/plain": [
       "{numpy.int64}"
      ]
     },
     "execution_count": 41,
     "metadata": {},
     "output_type": "execute_result"
    }
   ],
   "source": [
    "set(type(i) for i in list(X[\"house_id\"]))"
   ]
  },
  {
   "cell_type": "code",
   "execution_count": 42,
   "metadata": {
    "collapsed": true
   },
   "outputs": [],
   "source": [
    "renv_houses = set(renv[\"house_id\"])"
   ]
  },
  {
   "cell_type": "code",
   "execution_count": 43,
   "metadata": {
    "collapsed": true
   },
   "outputs": [],
   "source": [
    "def is_renv(data):\n",
    "    X_houses = set(data[\"house_id\"])\n",
    "    X = data.set_index(\"house_id\")\n",
    "    X[\"is_renv\"] = np.zeros((len(X), 1))\n",
    "    X_houses = X_houses & renv_houses\n",
    "    for house_id in X_houses:\n",
    "        X.set_value(house_id, \"is_renv\", 1)\n",
    "    return X"
   ]
  },
  {
   "cell_type": "code",
   "execution_count": 107,
   "metadata": {
    "collapsed": false
   },
   "outputs": [],
   "source": [
    "X1 = is_renv(X)"
   ]
  },
  {
   "cell_type": "code",
   "execution_count": 108,
   "metadata": {
    "collapsed": false
   },
   "outputs": [
    {
     "data": {
      "text/html": [
       "<div>\n",
       "<style>\n",
       "    .dataframe thead tr:only-child th {\n",
       "        text-align: right;\n",
       "    }\n",
       "\n",
       "    .dataframe thead th {\n",
       "        text-align: left;\n",
       "    }\n",
       "\n",
       "    .dataframe tbody tr th {\n",
       "        vertical-align: top;\n",
       "    }\n",
       "</style>\n",
       "<table border=\"1\" class=\"dataframe\">\n",
       "  <thead>\n",
       "    <tr style=\"text-align: right;\">\n",
       "      <th></th>\n",
       "      <th>doors</th>\n",
       "      <th>area</th>\n",
       "      <th>area_live</th>\n",
       "      <th>area_nonli</th>\n",
       "      <th>area_gen</th>\n",
       "      <th>area_land</th>\n",
       "      <th>area_park</th>\n",
       "      <th>levels_int</th>\n",
       "      <th>year_int</th>\n",
       "      <th>servicedatUnix</th>\n",
       "      <th>...</th>\n",
       "      <th>type_is_brezhnev</th>\n",
       "      <th>type_is_ind_pr_l</th>\n",
       "      <th>type_is_khrushev</th>\n",
       "      <th>type_is_low_l</th>\n",
       "      <th>type_is_mod_ec</th>\n",
       "      <th>type_is_mod_prem</th>\n",
       "      <th>type_is_prerev</th>\n",
       "      <th>type_is_prestl</th>\n",
       "      <th>type_is_stl</th>\n",
       "      <th>is_renv</th>\n",
       "    </tr>\n",
       "    <tr>\n",
       "      <th>house_id</th>\n",
       "      <th></th>\n",
       "      <th></th>\n",
       "      <th></th>\n",
       "      <th></th>\n",
       "      <th></th>\n",
       "      <th></th>\n",
       "      <th></th>\n",
       "      <th></th>\n",
       "      <th></th>\n",
       "      <th></th>\n",
       "      <th></th>\n",
       "      <th></th>\n",
       "      <th></th>\n",
       "      <th></th>\n",
       "      <th></th>\n",
       "      <th></th>\n",
       "      <th></th>\n",
       "      <th></th>\n",
       "      <th></th>\n",
       "      <th></th>\n",
       "      <th></th>\n",
       "    </tr>\n",
       "  </thead>\n",
       "  <tbody>\n",
       "    <tr>\n",
       "      <th>7840062</th>\n",
       "      <td>4</td>\n",
       "      <td>9597.70</td>\n",
       "      <td>8004.30</td>\n",
       "      <td>1593.40</td>\n",
       "      <td>0.00</td>\n",
       "      <td>0.00</td>\n",
       "      <td>0.00</td>\n",
       "      <td>8.0</td>\n",
       "      <td>1959.0</td>\n",
       "      <td>1.270066e+09</td>\n",
       "      <td>...</td>\n",
       "      <td>0</td>\n",
       "      <td>0</td>\n",
       "      <td>0</td>\n",
       "      <td>0</td>\n",
       "      <td>0</td>\n",
       "      <td>0</td>\n",
       "      <td>0</td>\n",
       "      <td>0</td>\n",
       "      <td>0</td>\n",
       "      <td>0.0</td>\n",
       "    </tr>\n",
       "    <tr>\n",
       "      <th>7840091</th>\n",
       "      <td>3</td>\n",
       "      <td>4688.10</td>\n",
       "      <td>3722.90</td>\n",
       "      <td>965.20</td>\n",
       "      <td>0.00</td>\n",
       "      <td>0.00</td>\n",
       "      <td>0.00</td>\n",
       "      <td>5.0</td>\n",
       "      <td>1959.0</td>\n",
       "      <td>1.270066e+09</td>\n",
       "      <td>...</td>\n",
       "      <td>0</td>\n",
       "      <td>0</td>\n",
       "      <td>1</td>\n",
       "      <td>0</td>\n",
       "      <td>0</td>\n",
       "      <td>0</td>\n",
       "      <td>0</td>\n",
       "      <td>0</td>\n",
       "      <td>0</td>\n",
       "      <td>0.0</td>\n",
       "    </tr>\n",
       "  </tbody>\n",
       "</table>\n",
       "<p>2 rows × 37 columns</p>\n",
       "</div>"
      ],
      "text/plain": [
       "         doors     area area_live area_nonli area_gen area_land area_park  \\\n",
       "house_id                                                                    \n",
       "7840062      4  9597.70   8004.30    1593.40     0.00      0.00      0.00   \n",
       "7840091      3  4688.10   3722.90     965.20     0.00      0.00      0.00   \n",
       "\n",
       "          levels_int  year_int  servicedatUnix   ...     type_is_brezhnev  \\\n",
       "house_id                                         ...                        \n",
       "7840062          8.0    1959.0    1.270066e+09   ...                    0   \n",
       "7840091          5.0    1959.0    1.270066e+09   ...                    0   \n",
       "\n",
       "          type_is_ind_pr_l  type_is_khrushev  type_is_low_l  type_is_mod_ec  \\\n",
       "house_id                                                                      \n",
       "7840062                  0                 0              0               0   \n",
       "7840091                  0                 1              0               0   \n",
       "\n",
       "          type_is_mod_prem  type_is_prerev  type_is_prestl  type_is_stl  \\\n",
       "house_id                                                                  \n",
       "7840062                  0               0               0            0   \n",
       "7840091                  0               0               0            0   \n",
       "\n",
       "          is_renv  \n",
       "house_id           \n",
       "7840062       0.0  \n",
       "7840091       0.0  \n",
       "\n",
       "[2 rows x 37 columns]"
      ]
     },
     "execution_count": 108,
     "metadata": {},
     "output_type": "execute_result"
    }
   ],
   "source": [
    "X1.head(2)"
   ]
  },
  {
   "cell_type": "code",
   "execution_count": 109,
   "metadata": {
    "collapsed": false
   },
   "outputs": [],
   "source": [
    "from sklearn import preprocessing\n",
    "\n",
    "# converts values to float for features from features \n",
    "def str2float(X, features):\n",
    "    for feature in features:\n",
    "        X[feature] = X[feature].apply(float)\n",
    "        \n",
    "def getZy(X1):\n",
    "    features = [i for i in list(X1.columns) if \"house_id\" not in i and i != \"is_renv\" and i != \"address\"]\n",
    "    str2float(X1, features)\n",
    "    Z = X1[features]\n",
    "    y = X1[\"is_renv\"]\n",
    "    return (Z, y)"
   ]
  },
  {
   "cell_type": "code",
   "execution_count": 111,
   "metadata": {
    "collapsed": true
   },
   "outputs": [],
   "source": [
    "X1_w_address = X1\n",
    "X1_w_address[\"address\"] = list(data[\"address\"])\n",
    "Z, y = getZy(X1_w_address)\n",
    "scaler = preprocessing.StandardScaler()\n",
    "Z = scaler.fit_transform(Z)"
   ]
  },
  {
   "cell_type": "code",
   "execution_count": 112,
   "metadata": {
    "collapsed": false
   },
   "outputs": [],
   "source": [
    "import seaborn as sns\n",
    "sns.set(style=\"ticks\", color_codes=True)"
   ]
  },
  {
   "cell_type": "code",
   "execution_count": 113,
   "metadata": {
    "collapsed": false
   },
   "outputs": [
    {
     "data": {
      "text/plain": [
       "<seaborn.axisgrid.PairGrid at 0x11a6d41d0>"
      ]
     },
     "execution_count": 113,
     "metadata": {},
     "output_type": "execute_result"
    },
    {
     "data": {
      "image/png": "[encoded data removed]",
      "text/plain": [
       "<matplotlib.figure.Figure at 0x11a6d4320>"
      ]
     },
     "metadata": {},
     "output_type": "display_data"
    }
   ],
   "source": [
    "numerical_features = list(X1.columns)[:10]\n",
    "sns.pairplot(X1[numerical_features], diag_kind=\"kde\")"
   ]
  },
  {
   "cell_type": "code",
   "execution_count": 114,
   "metadata": {
    "collapsed": false
   },
   "outputs": [
    {
     "data": {
      "text/plain": [
       "<seaborn.axisgrid.PairGrid at 0x1240acb70>"
      ]
     },
     "execution_count": 114,
     "metadata": {},
     "output_type": "execute_result"
    },
    {
     "data": {
      "image/png": "[encoded data removed]",
      "text/plain": [
       "<matplotlib.figure.Figure at 0x127db9ef0>"
      ]
     },
     "metadata": {},
     "output_type": "display_data"
    }
   ],
   "source": [
    "sns.pairplot(X1[numerical_features], diag_kind=\"kde\", vars=[\"servicedatUnix\", \"area\"])\n"
   ]
  },
  {
   "cell_type": "code",
   "execution_count": 115,
   "metadata": {
    "collapsed": false
   },
   "outputs": [],
   "source": [
    "from sklearn.linear_model import LogisticRegressionCV, LogisticRegression\n",
    "from sklearn.metrics import f1_score\n",
    "from sklearn.model_selection import train_test_split\n",
    "import eli5\n",
    "\n",
    "\n",
    "\n",
    "def logReg(X, y, l, solver, c):\n",
    "    lr = LogisticRegression(\n",
    "        penalty=l, \n",
    "        C=c, \n",
    "        solver=solver, \n",
    "        class_weight=\"balanced\",\n",
    "        verbose = 1,\n",
    "        random_state=42,\n",
    "    )\n",
    "        \n",
    "#     lr.fit(X, y)\n",
    "#     eli5.explain_weights(lr)\n",
    "    X_train, X_test, y_train, y_test = train_test_split(X, y, test_size=0.3, stratify = y)\n",
    "    lr.fit(X_train, y_train)\n",
    "    print()\n",
    "    print(\"f1_score: \", lr.score(X_test, y_test))\n",
    "    return lr"
   ]
  },
  {
   "cell_type": "code",
   "execution_count": 116,
   "metadata": {
    "collapsed": false
   },
   "outputs": [
    {
     "name": "stdout",
     "output_type": "stream",
     "text": [
      "[LibLinear]\n",
      "f1_score:  0.843345469256\n"
     ]
    }
   ],
   "source": [
    "lr = logReg(Z, y, l=\"l1\", solver=\"liblinear\", c=0.5)"
   ]
  },
  {
   "cell_type": "code",
   "execution_count": 118,
   "metadata": {
    "collapsed": false,
    "scrolled": false
   },
   "outputs": [
    {
     "data": {
      "text/html": [
       "\n",
       "    <style>\n",
       "    table.eli5-weights tr:hover {\n",
       "        filter: brightness(85%);\n",
       "    }\n",
       "</style>\n",
       "\n",
       "\n",
       "\n",
       "    \n",
       "\n",
       "    \n",
       "\n",
       "    \n",
       "\n",
       "    \n",
       "\n",
       "    \n",
       "\n",
       "    \n",
       "\n",
       "\n",
       "    \n",
       "\n",
       "    \n",
       "\n",
       "    \n",
       "\n",
       "    \n",
       "        \n",
       "\n",
       "    \n",
       "\n",
       "        \n",
       "            \n",
       "                \n",
       "                \n",
       "    \n",
       "        <p style=\"margin-bottom: 0.5em; margin-top: 0em\">\n",
       "            <b>\n",
       "    \n",
       "        y=1.0\n",
       "    \n",
       "</b>\n",
       "\n",
       "top features\n",
       "        </p>\n",
       "    \n",
       "    <table class=\"eli5-weights\"\n",
       "           style=\"border-collapse: collapse; border: none; margin-top: 0em; table-layout: auto; margin-bottom: 2em;\">\n",
       "        <thead>\n",
       "        <tr style=\"border: none;\">\n",
       "            \n",
       "                <th style=\"padding: 0 1em 0 0.5em; text-align: right; border: none;\" title=\"Feature weights. Note that weights do not account for feature value scales, so if feature values have different scales, features with highest weights might not be the most important.\">\n",
       "                    Weight<sup>?</sup>\n",
       "                </th>\n",
       "            \n",
       "            <th style=\"padding: 0 0.5em 0 0.5em; text-align: left; border: none;\">Feature</th>\n",
       "            \n",
       "        </tr>\n",
       "        </thead>\n",
       "        <tbody>\n",
       "        \n",
       "            <tr style=\"background-color: hsl(120, 100.00%, 91.39%); border: none;\">\n",
       "    <td style=\"padding: 0 1em 0 0.5em; text-align: right; border: none;\">\n",
       "        +1.081\n",
       "    </td>\n",
       "    <td style=\"padding: 0 0.5em 0 0.5em; text-align: left; border: none;\">\n",
       "        area_live\n",
       "    </td>\n",
       "    \n",
       "</tr>\n",
       "        \n",
       "            <tr style=\"background-color: hsl(120, 100.00%, 92.70%); border: none;\">\n",
       "    <td style=\"padding: 0 1em 0 0.5em; text-align: right; border: none;\">\n",
       "        +0.855\n",
       "    </td>\n",
       "    <td style=\"padding: 0 0.5em 0 0.5em; text-align: left; border: none;\">\n",
       "        type_is_khrushev\n",
       "    </td>\n",
       "    \n",
       "</tr>\n",
       "        \n",
       "            <tr style=\"background-color: hsl(120, 100.00%, 93.77%); border: none;\">\n",
       "    <td style=\"padding: 0 1em 0 0.5em; text-align: right; border: none;\">\n",
       "        +0.681\n",
       "    </td>\n",
       "    <td style=\"padding: 0 0.5em 0 0.5em; text-align: left; border: none;\">\n",
       "        doors\n",
       "    </td>\n",
       "    \n",
       "</tr>\n",
       "        \n",
       "            <tr style=\"background-color: hsl(120, 100.00%, 95.37%); border: none;\">\n",
       "    <td style=\"padding: 0 1em 0 0.5em; text-align: right; border: none;\">\n",
       "        +0.445\n",
       "    </td>\n",
       "    <td style=\"padding: 0 0.5em 0 0.5em; text-align: left; border: none;\">\n",
       "        blag_sport_is_Не имеется\n",
       "    </td>\n",
       "    \n",
       "</tr>\n",
       "        \n",
       "            <tr style=\"background-color: hsl(120, 100.00%, 96.78%); border: none;\">\n",
       "    <td style=\"padding: 0 1em 0 0.5em; text-align: right; border: none;\">\n",
       "        +0.265\n",
       "    </td>\n",
       "    <td style=\"padding: 0 0.5em 0 0.5em; text-align: left; border: none;\">\n",
       "        blag_sport_is_Имеется\n",
       "    </td>\n",
       "    \n",
       "</tr>\n",
       "        \n",
       "            <tr style=\"background-color: hsl(120, 100.00%, 97.80%); border: none;\">\n",
       "    <td style=\"padding: 0 1em 0 0.5em; text-align: right; border: none;\">\n",
       "        +0.154\n",
       "    </td>\n",
       "    <td style=\"padding: 0 0.5em 0 0.5em; text-align: left; border: none;\">\n",
       "        energy_cla_is_A\n",
       "    </td>\n",
       "    \n",
       "</tr>\n",
       "        \n",
       "            <tr style=\"background-color: hsl(120, 100.00%, 98.03%); border: none;\">\n",
       "    <td style=\"padding: 0 1em 0 0.5em; text-align: right; border: none;\">\n",
       "        +0.132\n",
       "    </td>\n",
       "    <td style=\"padding: 0 0.5em 0 0.5em; text-align: left; border: none;\">\n",
       "        servicedatUnix\n",
       "    </td>\n",
       "    \n",
       "</tr>\n",
       "        \n",
       "            <tr style=\"background-color: hsl(120, 100.00%, 98.16%); border: none;\">\n",
       "    <td style=\"padding: 0 1em 0 0.5em; text-align: right; border: none;\">\n",
       "        +0.119\n",
       "    </td>\n",
       "    <td style=\"padding: 0 0.5em 0 0.5em; text-align: left; border: none;\">\n",
       "        energy_cla_is_B\n",
       "    </td>\n",
       "    \n",
       "</tr>\n",
       "        \n",
       "            <tr style=\"background-color: hsl(120, 100.00%, 98.27%); border: none;\">\n",
       "    <td style=\"padding: 0 1em 0 0.5em; text-align: right; border: none;\">\n",
       "        +0.109\n",
       "    </td>\n",
       "    <td style=\"padding: 0 0.5em 0 0.5em; text-align: left; border: none;\">\n",
       "        energy_cla_is_E\n",
       "    </td>\n",
       "    \n",
       "</tr>\n",
       "        \n",
       "            <tr style=\"background-color: hsl(120, 100.00%, 98.78%); border: none;\">\n",
       "    <td style=\"padding: 0 1em 0 0.5em; text-align: right; border: none;\">\n",
       "        +0.067\n",
       "    </td>\n",
       "    <td style=\"padding: 0 0.5em 0 0.5em; text-align: left; border: none;\">\n",
       "        area_park\n",
       "    </td>\n",
       "    \n",
       "</tr>\n",
       "        \n",
       "            <tr style=\"background-color: hsl(120, 100.00%, 99.17%); border: none;\">\n",
       "    <td style=\"padding: 0 1em 0 0.5em; text-align: right; border: none;\">\n",
       "        +0.038\n",
       "    </td>\n",
       "    <td style=\"padding: 0 0.5em 0 0.5em; text-align: left; border: none;\">\n",
       "        year_int\n",
       "    </td>\n",
       "    \n",
       "</tr>\n",
       "        \n",
       "            <tr style=\"background-color: hsl(120, 100.00%, 99.62%); border: none;\">\n",
       "    <td style=\"padding: 0 1em 0 0.5em; text-align: right; border: none;\">\n",
       "        +0.012\n",
       "    </td>\n",
       "    <td style=\"padding: 0 0.5em 0 0.5em; text-align: left; border: none;\">\n",
       "        avar_is_Нет\n",
       "    </td>\n",
       "    \n",
       "</tr>\n",
       "        \n",
       "            <tr style=\"background-color: hsl(120, 100.00%, 99.65%); border: none;\">\n",
       "    <td style=\"padding: 0 1em 0 0.5em; text-align: right; border: none;\">\n",
       "        +0.011\n",
       "    </td>\n",
       "    <td style=\"padding: 0 0.5em 0 0.5em; text-align: left; border: none;\">\n",
       "        energy_cla_is_D\n",
       "    </td>\n",
       "    \n",
       "</tr>\n",
       "        \n",
       "        \n",
       "\n",
       "        \n",
       "        \n",
       "            <tr style=\"background-color: hsl(0, 100.00%, 99.22%); border: none;\">\n",
       "    <td style=\"padding: 0 1em 0 0.5em; text-align: right; border: none;\">\n",
       "        -0.035\n",
       "    </td>\n",
       "    <td style=\"padding: 0 0.5em 0 0.5em; text-align: left; border: none;\">\n",
       "        type_is_stl\n",
       "    </td>\n",
       "    \n",
       "</tr>\n",
       "        \n",
       "            <tr style=\"background-color: hsl(0, 100.00%, 98.88%); border: none;\">\n",
       "    <td style=\"padding: 0 1em 0 0.5em; text-align: right; border: none;\">\n",
       "        -0.059\n",
       "    </td>\n",
       "    <td style=\"padding: 0 0.5em 0 0.5em; text-align: left; border: none;\">\n",
       "        avar_is_Да\n",
       "    </td>\n",
       "    \n",
       "</tr>\n",
       "        \n",
       "            <tr style=\"background-color: hsl(0, 100.00%, 98.87%); border: none;\">\n",
       "    <td style=\"padding: 0 1em 0 0.5em; text-align: right; border: none;\">\n",
       "        -0.060\n",
       "    </td>\n",
       "    <td style=\"padding: 0 0.5em 0 0.5em; text-align: left; border: none;\">\n",
       "        energy_cla_is_Не присвоен\n",
       "    </td>\n",
       "    \n",
       "</tr>\n",
       "        \n",
       "            <tr style=\"background-color: hsl(0, 100.00%, 98.48%); border: none;\">\n",
       "    <td style=\"padding: 0 1em 0 0.5em; text-align: right; border: none;\">\n",
       "        -0.091\n",
       "    </td>\n",
       "    <td style=\"padding: 0 0.5em 0 0.5em; text-align: left; border: none;\">\n",
       "        energy_cla_is_C\n",
       "    </td>\n",
       "    \n",
       "</tr>\n",
       "        \n",
       "            <tr style=\"background-color: hsl(0, 100.00%, 98.23%); border: none;\">\n",
       "    <td style=\"padding: 0 1em 0 0.5em; text-align: right; border: none;\">\n",
       "        -0.112\n",
       "    </td>\n",
       "    <td style=\"padding: 0 0.5em 0 0.5em; text-align: left; border: none;\">\n",
       "        house_type_is_Жилой дом блокированной застройки\n",
       "    </td>\n",
       "    \n",
       "</tr>\n",
       "        \n",
       "            <tr style=\"background-color: hsl(0, 100.00%, 97.89%); border: none;\">\n",
       "    <td style=\"padding: 0 1em 0 0.5em; text-align: right; border: none;\">\n",
       "        -0.145\n",
       "    </td>\n",
       "    <td style=\"padding: 0 0.5em 0 0.5em; text-align: left; border: none;\">\n",
       "        type_is_low_l\n",
       "    </td>\n",
       "    \n",
       "</tr>\n",
       "        \n",
       "            <tr style=\"background-color: hsl(0, 100.00%, 97.28%); border: none;\">\n",
       "    <td style=\"padding: 0 1em 0 0.5em; text-align: right; border: none;\">\n",
       "        -0.208\n",
       "    </td>\n",
       "    <td style=\"padding: 0 0.5em 0 0.5em; text-align: left; border: none;\">\n",
       "        energy_cla_is_B++\n",
       "    </td>\n",
       "    \n",
       "</tr>\n",
       "        \n",
       "            <tr style=\"background-color: hsl(0, 100.00%, 97.09%); border: none;\">\n",
       "    <td style=\"padding: 0 1em 0 0.5em; text-align: right; border: none;\">\n",
       "        -0.229\n",
       "    </td>\n",
       "    <td style=\"padding: 0 0.5em 0 0.5em; text-align: left; border: none;\">\n",
       "        type_is_prestl\n",
       "    </td>\n",
       "    \n",
       "</tr>\n",
       "        \n",
       "            <tr style=\"background-color: hsl(0, 100.00%, 97.06%); border: none;\">\n",
       "    <td style=\"padding: 0 1em 0 0.5em; text-align: right; border: none;\">\n",
       "        -0.233\n",
       "    </td>\n",
       "    <td style=\"padding: 0 0.5em 0 0.5em; text-align: left; border: none;\">\n",
       "        house_type_is_Многоквартирный дом\n",
       "    </td>\n",
       "    \n",
       "</tr>\n",
       "        \n",
       "            <tr style=\"background-color: hsl(0, 100.00%, 96.08%); border: none;\">\n",
       "    <td style=\"padding: 0 1em 0 0.5em; text-align: right; border: none;\">\n",
       "        -0.351\n",
       "    </td>\n",
       "    <td style=\"padding: 0 0.5em 0 0.5em; text-align: left; border: none;\">\n",
       "        type_is_mod_ec\n",
       "    </td>\n",
       "    \n",
       "</tr>\n",
       "        \n",
       "            <tr style=\"background-color: hsl(0, 100.00%, 95.97%); border: none;\">\n",
       "    <td style=\"padding: 0 1em 0 0.5em; text-align: right; border: none;\">\n",
       "        -0.366\n",
       "    </td>\n",
       "    <td style=\"padding: 0 0.5em 0 0.5em; text-align: left; border: none;\">\n",
       "        blag_playg_is_Не имеется\n",
       "    </td>\n",
       "    \n",
       "</tr>\n",
       "        \n",
       "            <tr style=\"background-color: hsl(0, 100.00%, 95.83%); border: none;\">\n",
       "    <td style=\"padding: 0 1em 0 0.5em; text-align: right; border: none;\">\n",
       "        -0.384\n",
       "    </td>\n",
       "    <td style=\"padding: 0 0.5em 0 0.5em; text-align: left; border: none;\">\n",
       "        house_type_is_Специализированный жилищный фонд\n",
       "    </td>\n",
       "    \n",
       "</tr>\n",
       "        \n",
       "            <tr style=\"background-color: hsl(0, 100.00%, 95.79%); border: none;\">\n",
       "    <td style=\"padding: 0 1em 0 0.5em; text-align: right; border: none;\">\n",
       "        -0.390\n",
       "    </td>\n",
       "    <td style=\"padding: 0 0.5em 0 0.5em; text-align: left; border: none;\">\n",
       "        energy_cla_is_B+\n",
       "    </td>\n",
       "    \n",
       "</tr>\n",
       "        \n",
       "            <tr style=\"background-color: hsl(0, 100.00%, 95.71%); border: none;\">\n",
       "    <td style=\"padding: 0 1em 0 0.5em; text-align: right; border: none;\">\n",
       "        -0.399\n",
       "    </td>\n",
       "    <td style=\"padding: 0 0.5em 0 0.5em; text-align: left; border: none;\">\n",
       "        blag_playg_is_Имеется\n",
       "    </td>\n",
       "    \n",
       "</tr>\n",
       "        \n",
       "            <tr style=\"background-color: hsl(0, 100.00%, 95.67%); border: none;\">\n",
       "    <td style=\"padding: 0 1em 0 0.5em; text-align: right; border: none;\">\n",
       "        -0.405\n",
       "    </td>\n",
       "    <td style=\"padding: 0 0.5em 0 0.5em; text-align: left; border: none;\">\n",
       "        type_is_mod_prem\n",
       "    </td>\n",
       "    \n",
       "</tr>\n",
       "        \n",
       "            <tr style=\"background-color: hsl(0, 100.00%, 93.86%); border: none;\">\n",
       "    <td style=\"padding: 0 1em 0 0.5em; text-align: right; border: none;\">\n",
       "        -0.667\n",
       "    </td>\n",
       "    <td style=\"padding: 0 0.5em 0 0.5em; text-align: left; border: none;\">\n",
       "        type_is_prerev\n",
       "    </td>\n",
       "    \n",
       "</tr>\n",
       "        \n",
       "            <tr style=\"background-color: hsl(0, 100.00%, 93.63%); border: none;\">\n",
       "    <td style=\"padding: 0 1em 0 0.5em; text-align: right; border: none;\">\n",
       "        -0.703\n",
       "    </td>\n",
       "    <td style=\"padding: 0 0.5em 0 0.5em; text-align: left; border: none;\">\n",
       "        type_is_ind_pr_l\n",
       "    </td>\n",
       "    \n",
       "</tr>\n",
       "        \n",
       "            <tr style=\"background-color: hsl(0, 100.00%, 92.37%); border: none;\">\n",
       "    <td style=\"padding: 0 1em 0 0.5em; text-align: right; border: none;\">\n",
       "        -0.911\n",
       "    </td>\n",
       "    <td style=\"padding: 0 0.5em 0 0.5em; text-align: left; border: none;\">\n",
       "        area_land\n",
       "    </td>\n",
       "    \n",
       "</tr>\n",
       "        \n",
       "            <tr style=\"background-color: hsl(0, 100.00%, 90.31%); border: none;\">\n",
       "    <td style=\"padding: 0 1em 0 0.5em; text-align: right; border: none;\">\n",
       "        -1.280\n",
       "    </td>\n",
       "    <td style=\"padding: 0 0.5em 0 0.5em; text-align: left; border: none;\">\n",
       "        type_is_brezhnev\n",
       "    </td>\n",
       "    \n",
       "</tr>\n",
       "        \n",
       "            <tr style=\"background-color: hsl(0, 100.00%, 89.21%); border: none;\">\n",
       "    <td style=\"padding: 0 1em 0 0.5em; text-align: right; border: none;\">\n",
       "        -1.493\n",
       "    </td>\n",
       "    <td style=\"padding: 0 0.5em 0 0.5em; text-align: left; border: none;\">\n",
       "        area\n",
       "    </td>\n",
       "    \n",
       "</tr>\n",
       "        \n",
       "            <tr style=\"background-color: hsl(0, 100.00%, 85.73%); border: none;\">\n",
       "    <td style=\"padding: 0 1em 0 0.5em; text-align: right; border: none;\">\n",
       "        -2.226\n",
       "    </td>\n",
       "    <td style=\"padding: 0 0.5em 0 0.5em; text-align: left; border: none;\">\n",
       "        levels_int\n",
       "    </td>\n",
       "    \n",
       "</tr>\n",
       "        \n",
       "            <tr style=\"background-color: hsl(0, 100.00%, 80.31%); border: none;\">\n",
       "    <td style=\"padding: 0 1em 0 0.5em; text-align: right; border: none;\">\n",
       "        -3.525\n",
       "    </td>\n",
       "    <td style=\"padding: 0 0.5em 0 0.5em; text-align: left; border: none;\">\n",
       "        area_nonli\n",
       "    </td>\n",
       "    \n",
       "</tr>\n",
       "        \n",
       "            <tr style=\"background-color: hsl(0, 100.00%, 80.00%); border: none;\">\n",
       "    <td style=\"padding: 0 1em 0 0.5em; text-align: right; border: none;\">\n",
       "        -3.605\n",
       "    </td>\n",
       "    <td style=\"padding: 0 0.5em 0 0.5em; text-align: left; border: none;\">\n",
       "        &lt;BIAS&gt;\n",
       "    </td>\n",
       "    \n",
       "</tr>\n",
       "        \n",
       "\n",
       "        </tbody>\n",
       "    </table>\n",
       "\n",
       "            \n",
       "        \n",
       "\n",
       "        \n",
       "\n",
       "\n",
       "\n",
       "    \n",
       "\n",
       "    \n",
       "\n",
       "    \n",
       "\n",
       "    \n",
       "\n",
       "\n",
       "    \n",
       "\n",
       "    \n",
       "\n",
       "    \n",
       "\n",
       "    \n",
       "\n",
       "    \n",
       "\n",
       "    \n",
       "\n",
       "\n",
       "    \n",
       "\n",
       "    \n",
       "\n",
       "    \n",
       "\n",
       "    \n",
       "\n",
       "    \n",
       "\n",
       "    \n",
       "\n",
       "\n",
       "\n"
      ],
      "text/plain": [
       "Explanation(estimator=\"LogisticRegression(C=0.5, class_weight='balanced', dual=False,\\n          fit_intercept=True, intercept_scaling=1, max_iter=100,\\n          multi_class='ovr', n_jobs=1, penalty='l1', random_state=42,\\n          solver='liblinear', tol=0.0001, verbose=1, warm_start=False)\", description=\"\\nFeatures with largest coefficients.\\nCaveats:\\n1. Be careful with features which are not\\n   independent - weights don't show their importance.\\n2. If scale of input features is different then scale of coefficients\\n   will also be different, making direct comparison between coefficient values\\n   incorrect.\\n3. Depending on regularization, rare features sometimes may have high\\n   coefficients; this doesn't mean they contribute much to the\\n   classification result for most examples.\\n\", error=None, method='linear model', is_regression=False, targets=[TargetExplanation(target=1.0, feature_weights=FeatureWeights(pos=[FeatureWeight(feature='area_live', weight=1.0811902080344853, std=None, value=None), FeatureWeight(feature='type_is_khrushev', weight=0.85457036936776232, std=None, value=None), FeatureWeight(feature='doors', weight=0.6811278987013959, std=None, value=None), FeatureWeight(feature='blag_sport_is_Не имеется', weight=0.44522646910523289, std=None, value=None), FeatureWeight(feature='blag_sport_is_Имеется', weight=0.26503600740300737, std=None, value=None), FeatureWeight(feature='energy_cla_is_A', weight=0.15375090377598638, std=None, value=None), FeatureWeight(feature='servicedatUnix', weight=0.13178705368305482, std=None, value=None), FeatureWeight(feature='energy_cla_is_B', weight=0.11917133040189998, std=None, value=None), FeatureWeight(feature='energy_cla_is_E', weight=0.10937643967971537, std=None, value=None), FeatureWeight(feature='area_park', weight=0.066697341570544605, std=None, value=None), FeatureWeight(feature='year_int', weight=0.038045745566176244, std=None, value=None), FeatureWeight(feature='avar_is_Нет', weight=0.012384913391606099, std=None, value=None), FeatureWeight(feature='energy_cla_is_D', weight=0.011070560887395331, std=None, value=None)], neg=[FeatureWeight(feature='<BIAS>', weight=-3.6048434133034579, std=None, value=None), FeatureWeight(feature='area_nonli', weight=-3.5247430980676611, std=None, value=None), FeatureWeight(feature='levels_int', weight=-2.2261092203887669, std=None, value=None), FeatureWeight(feature='area', weight=-1.4927385279358947, std=None, value=None), FeatureWeight(feature='type_is_brezhnev', weight=-1.2795844369052434, std=None, value=None), FeatureWeight(feature='area_land', weight=-0.91060136725963714, std=None, value=None), FeatureWeight(feature='type_is_ind_pr_l', weight=-0.7026356875995462, std=None, value=None), FeatureWeight(feature='type_is_prerev', weight=-0.66698733779049046, std=None, value=None), FeatureWeight(feature='type_is_mod_prem', weight=-0.40483411954074616, std=None, value=None), FeatureWeight(feature='blag_playg_is_Имеется', weight=-0.39930566975290449, std=None, value=None), FeatureWeight(feature='energy_cla_is_B+', weight=-0.38954218918647365, std=None, value=None), FeatureWeight(feature='house_type_is_Специализированный жилищный фонд', weight=-0.38408708669305452, std=None, value=None), FeatureWeight(feature='blag_playg_is_Не имеется', weight=-0.3655496099113919, std=None, value=None), FeatureWeight(feature='type_is_mod_ec', weight=-0.35127167783584246, std=None, value=None), FeatureWeight(feature='house_type_is_Многоквартирный дом', weight=-0.23299436558383629, std=None, value=None), FeatureWeight(feature='type_is_prestl', weight=-0.22917329303258241, std=None, value=None), FeatureWeight(feature='energy_cla_is_B++', weight=-0.20815034086066575, std=None, value=None), FeatureWeight(feature='type_is_low_l', weight=-0.14457253054836922, std=None, value=None), FeatureWeight(feature='house_type_is_Жилой дом блокированной застройки', weight=-0.11240813069269771, std=None, value=None), FeatureWeight(feature='energy_cla_is_C', weight=-0.090672650698450499, std=None, value=None), FeatureWeight(feature='energy_cla_is_Не присвоен', weight=-0.059545798947018599, std=None, value=None), FeatureWeight(feature='avar_is_Да', weight=-0.058517549194643879, std=None, value=None), FeatureWeight(feature='type_is_stl', weight=-0.035117850407660904, std=None, value=None)], pos_remaining=0, neg_remaining=0), proba=None, score=None, weighted_spans=None)], feature_importances=None, decision_tree=None, highlight_spaces=None, transition_features=None)"
      ]
     },
     "execution_count": 118,
     "metadata": {},
     "output_type": "execute_result"
    }
   ],
   "source": [
    " eli5.explain_weights(lr, feature_names=[i for i in list(X1.columns) if \"house_id\" not in i and i != \"address\"][:-1], top=(40,40))"
   ]
  },
  {
   "cell_type": "code",
   "execution_count": 119,
   "metadata": {
    "collapsed": false
   },
   "outputs": [
    {
     "data": {
      "text/plain": [
       "array([[ 0.6811279 , -1.49273853,  1.08119021, -3.5247431 ,  0.        ,\n",
       "        -0.91060137,  0.06669734, -2.22610922,  0.03804575,  0.13178705,\n",
       "        -0.11240813, -0.23299437, -0.38408709, -0.05851755,  0.01238491,\n",
       "         0.1537509 ,  0.11917133, -0.38954219, -0.20815034, -0.09067265,\n",
       "         0.01107056,  0.10937644, -0.0595458 , -0.39930567, -0.36554961,\n",
       "         0.26503601,  0.44522647, -1.27958444, -0.70263569,  0.85457037,\n",
       "        -0.14457253, -0.35127168, -0.40483412, -0.66698734, -0.22917329,\n",
       "        -0.03511785]])"
      ]
     },
     "execution_count": 119,
     "metadata": {},
     "output_type": "execute_result"
    }
   ],
   "source": [
    "lr.coef_"
   ]
  },
  {
   "cell_type": "code",
   "execution_count": 120,
   "metadata": {
    "collapsed": false
   },
   "outputs": [
    {
     "name": "stdout",
     "output_type": "stream",
     "text": [
      "\n",
      "f1_score:  0.844154530744\n"
     ]
    },
    {
     "name": "stderr",
     "output_type": "stream",
     "text": [
      "[Parallel(n_jobs=1)]: Done   1 out of   1 | elapsed:    0.4s finished\n"
     ]
    }
   ],
   "source": [
    "lr = logReg(Z, y, l=\"l2\", solver=\"lbfgs\", c=10)"
   ]
  },
  {
   "cell_type": "code",
   "execution_count": 121,
   "metadata": {
    "collapsed": false
   },
   "outputs": [
    {
     "data": {
      "text/html": [
       "\n",
       "    <style>\n",
       "    table.eli5-weights tr:hover {\n",
       "        filter: brightness(85%);\n",
       "    }\n",
       "</style>\n",
       "\n",
       "\n",
       "\n",
       "    \n",
       "\n",
       "    \n",
       "\n",
       "    \n",
       "\n",
       "    \n",
       "\n",
       "    \n",
       "\n",
       "    \n",
       "\n",
       "\n",
       "    \n",
       "\n",
       "    \n",
       "\n",
       "    \n",
       "\n",
       "    \n",
       "        \n",
       "\n",
       "    \n",
       "\n",
       "        \n",
       "            \n",
       "                \n",
       "                \n",
       "    \n",
       "        <p style=\"margin-bottom: 0.5em; margin-top: 0em\">\n",
       "            <b>\n",
       "    \n",
       "        y=1.0\n",
       "    \n",
       "</b>\n",
       "\n",
       "top features\n",
       "        </p>\n",
       "    \n",
       "    <table class=\"eli5-weights\"\n",
       "           style=\"border-collapse: collapse; border: none; margin-top: 0em; table-layout: auto; margin-bottom: 2em;\">\n",
       "        <thead>\n",
       "        <tr style=\"border: none;\">\n",
       "            \n",
       "                <th style=\"padding: 0 1em 0 0.5em; text-align: right; border: none;\" title=\"Feature weights. Note that weights do not account for feature value scales, so if feature values have different scales, features with highest weights might not be the most important.\">\n",
       "                    Weight<sup>?</sup>\n",
       "                </th>\n",
       "            \n",
       "            <th style=\"padding: 0 0.5em 0 0.5em; text-align: left; border: none;\">Feature</th>\n",
       "            \n",
       "        </tr>\n",
       "        </thead>\n",
       "        <tbody>\n",
       "        \n",
       "            <tr style=\"background-color: hsl(120, 100.00%, 94.52%); border: none;\">\n",
       "    <td style=\"padding: 0 1em 0 0.5em; text-align: right; border: none;\">\n",
       "        +2.137\n",
       "    </td>\n",
       "    <td style=\"padding: 0 0.5em 0 0.5em; text-align: left; border: none;\">\n",
       "        area_live\n",
       "    </td>\n",
       "    \n",
       "</tr>\n",
       "        \n",
       "            <tr style=\"background-color: hsl(120, 100.00%, 97.18%); border: none;\">\n",
       "    <td style=\"padding: 0 1em 0 0.5em; text-align: right; border: none;\">\n",
       "        +0.829\n",
       "    </td>\n",
       "    <td style=\"padding: 0 0.5em 0 0.5em; text-align: left; border: none;\">\n",
       "        type_is_khrushev\n",
       "    </td>\n",
       "    \n",
       "</tr>\n",
       "        \n",
       "            <tr style=\"background-color: hsl(120, 100.00%, 97.44%); border: none;\">\n",
       "    <td style=\"padding: 0 1em 0 0.5em; text-align: right; border: none;\">\n",
       "        +0.721\n",
       "    </td>\n",
       "    <td style=\"padding: 0 0.5em 0 0.5em; text-align: left; border: none;\">\n",
       "        doors\n",
       "    </td>\n",
       "    \n",
       "</tr>\n",
       "        \n",
       "            <tr style=\"background-color: hsl(120, 100.00%, 97.53%); border: none;\">\n",
       "    <td style=\"padding: 0 1em 0 0.5em; text-align: right; border: none;\">\n",
       "        +0.687\n",
       "    </td>\n",
       "    <td style=\"padding: 0 0.5em 0 0.5em; text-align: left; border: none;\">\n",
       "        blag_sport_is_Не имеется\n",
       "    </td>\n",
       "    \n",
       "</tr>\n",
       "        \n",
       "            <tr style=\"background-color: hsl(120, 100.00%, 98.14%); border: none;\">\n",
       "    <td style=\"padding: 0 1em 0 0.5em; text-align: right; border: none;\">\n",
       "        +0.458\n",
       "    </td>\n",
       "    <td style=\"padding: 0 0.5em 0 0.5em; text-align: left; border: none;\">\n",
       "        blag_sport_is_Имеется\n",
       "    </td>\n",
       "    \n",
       "</tr>\n",
       "        \n",
       "            <tr style=\"background-color: hsl(120, 100.00%, 98.94%); border: none;\">\n",
       "    <td style=\"padding: 0 1em 0 0.5em; text-align: right; border: none;\">\n",
       "        +0.205\n",
       "    </td>\n",
       "    <td style=\"padding: 0 0.5em 0 0.5em; text-align: left; border: none;\">\n",
       "        area_park\n",
       "    </td>\n",
       "    \n",
       "</tr>\n",
       "        \n",
       "            <tr style=\"background-color: hsl(120, 100.00%, 98.99%); border: none;\">\n",
       "    <td style=\"padding: 0 1em 0 0.5em; text-align: right; border: none;\">\n",
       "        +0.191\n",
       "    </td>\n",
       "    <td style=\"padding: 0 0.5em 0 0.5em; text-align: left; border: none;\">\n",
       "        servicedatUnix\n",
       "    </td>\n",
       "    \n",
       "</tr>\n",
       "        \n",
       "            <tr style=\"background-color: hsl(120, 100.00%, 99.12%); border: none;\">\n",
       "    <td style=\"padding: 0 1em 0 0.5em; text-align: right; border: none;\">\n",
       "        +0.158\n",
       "    </td>\n",
       "    <td style=\"padding: 0 0.5em 0 0.5em; text-align: left; border: none;\">\n",
       "        energy_cla_is_A\n",
       "    </td>\n",
       "    \n",
       "</tr>\n",
       "        \n",
       "            <tr style=\"background-color: hsl(120, 100.00%, 99.38%); border: none;\">\n",
       "    <td style=\"padding: 0 1em 0 0.5em; text-align: right; border: none;\">\n",
       "        +0.095\n",
       "    </td>\n",
       "    <td style=\"padding: 0 0.5em 0 0.5em; text-align: left; border: none;\">\n",
       "        energy_cla_is_B\n",
       "    </td>\n",
       "    \n",
       "</tr>\n",
       "        \n",
       "            <tr style=\"background-color: hsl(120, 100.00%, 99.70%); border: none;\">\n",
       "    <td style=\"padding: 0 1em 0 0.5em; text-align: right; border: none;\">\n",
       "        +0.033\n",
       "    </td>\n",
       "    <td style=\"padding: 0 0.5em 0 0.5em; text-align: left; border: none;\">\n",
       "        year_int\n",
       "    </td>\n",
       "    \n",
       "</tr>\n",
       "        \n",
       "            <tr style=\"background-color: hsl(120, 100.00%, 99.71%); border: none;\">\n",
       "    <td style=\"padding: 0 1em 0 0.5em; text-align: right; border: none;\">\n",
       "        +0.031\n",
       "    </td>\n",
       "    <td style=\"padding: 0 0.5em 0 0.5em; text-align: left; border: none;\">\n",
       "        energy_cla_is_E\n",
       "    </td>\n",
       "    \n",
       "</tr>\n",
       "        \n",
       "            <tr style=\"background-color: hsl(120, 100.00%, 99.77%); border: none;\">\n",
       "    <td style=\"padding: 0 1em 0 0.5em; text-align: right; border: none;\">\n",
       "        +0.023\n",
       "    </td>\n",
       "    <td style=\"padding: 0 0.5em 0 0.5em; text-align: left; border: none;\">\n",
       "        avar_is_Нет\n",
       "    </td>\n",
       "    \n",
       "</tr>\n",
       "        \n",
       "        \n",
       "\n",
       "        \n",
       "        \n",
       "            <tr style=\"background-color: hsl(0, 100.00%, 99.77%); border: none;\">\n",
       "    <td style=\"padding: 0 1em 0 0.5em; text-align: right; border: none;\">\n",
       "        -0.023\n",
       "    </td>\n",
       "    <td style=\"padding: 0 0.5em 0 0.5em; text-align: left; border: none;\">\n",
       "        avar_is_Да\n",
       "    </td>\n",
       "    \n",
       "</tr>\n",
       "        \n",
       "            <tr style=\"background-color: hsl(0, 100.00%, 99.71%); border: none;\">\n",
       "    <td style=\"padding: 0 1em 0 0.5em; text-align: right; border: none;\">\n",
       "        -0.032\n",
       "    </td>\n",
       "    <td style=\"padding: 0 0.5em 0 0.5em; text-align: left; border: none;\">\n",
       "        type_is_stl\n",
       "    </td>\n",
       "    \n",
       "</tr>\n",
       "        \n",
       "            <tr style=\"background-color: hsl(0, 100.00%, 99.68%); border: none;\">\n",
       "    <td style=\"padding: 0 1em 0 0.5em; text-align: right; border: none;\">\n",
       "        -0.037\n",
       "    </td>\n",
       "    <td style=\"padding: 0 0.5em 0 0.5em; text-align: left; border: none;\">\n",
       "        energy_cla_is_D\n",
       "    </td>\n",
       "    \n",
       "</tr>\n",
       "        \n",
       "            <tr style=\"background-color: hsl(0, 100.00%, 99.44%); border: none;\">\n",
       "    <td style=\"padding: 0 1em 0 0.5em; text-align: right; border: none;\">\n",
       "        -0.082\n",
       "    </td>\n",
       "    <td style=\"padding: 0 0.5em 0 0.5em; text-align: left; border: none;\">\n",
       "        energy_cla_is_B+\n",
       "    </td>\n",
       "    \n",
       "</tr>\n",
       "        \n",
       "            <tr style=\"background-color: hsl(0, 100.00%, 99.17%); border: none;\">\n",
       "    <td style=\"padding: 0 1em 0 0.5em; text-align: right; border: none;\">\n",
       "        -0.146\n",
       "    </td>\n",
       "    <td style=\"padding: 0 0.5em 0 0.5em; text-align: left; border: none;\">\n",
       "        house_type_is_Жилой дом блокированной застройки\n",
       "    </td>\n",
       "    \n",
       "</tr>\n",
       "        \n",
       "            <tr style=\"background-color: hsl(0, 100.00%, 99.15%); border: none;\">\n",
       "    <td style=\"padding: 0 1em 0 0.5em; text-align: right; border: none;\">\n",
       "        -0.149\n",
       "    </td>\n",
       "    <td style=\"padding: 0 0.5em 0 0.5em; text-align: left; border: none;\">\n",
       "        energy_cla_is_B++\n",
       "    </td>\n",
       "    \n",
       "</tr>\n",
       "        \n",
       "            <tr style=\"background-color: hsl(0, 100.00%, 99.14%); border: none;\">\n",
       "    <td style=\"padding: 0 1em 0 0.5em; text-align: right; border: none;\">\n",
       "        -0.151\n",
       "    </td>\n",
       "    <td style=\"padding: 0 0.5em 0 0.5em; text-align: left; border: none;\">\n",
       "        energy_cla_is_C\n",
       "    </td>\n",
       "    \n",
       "</tr>\n",
       "        \n",
       "            <tr style=\"background-color: hsl(0, 100.00%, 99.06%); border: none;\">\n",
       "    <td style=\"padding: 0 1em 0 0.5em; text-align: right; border: none;\">\n",
       "        -0.172\n",
       "    </td>\n",
       "    <td style=\"padding: 0 0.5em 0 0.5em; text-align: left; border: none;\">\n",
       "        type_is_low_l\n",
       "    </td>\n",
       "    \n",
       "</tr>\n",
       "        \n",
       "            <tr style=\"background-color: hsl(0, 100.00%, 99.06%); border: none;\">\n",
       "    <td style=\"padding: 0 1em 0 0.5em; text-align: right; border: none;\">\n",
       "        -0.172\n",
       "    </td>\n",
       "    <td style=\"padding: 0 0.5em 0 0.5em; text-align: left; border: none;\">\n",
       "        energy_cla_is_Не присвоен\n",
       "    </td>\n",
       "    \n",
       "</tr>\n",
       "        \n",
       "            <tr style=\"background-color: hsl(0, 100.00%, 99.04%); border: none;\">\n",
       "    <td style=\"padding: 0 1em 0 0.5em; text-align: right; border: none;\">\n",
       "        -0.177\n",
       "    </td>\n",
       "    <td style=\"padding: 0 0.5em 0 0.5em; text-align: left; border: none;\">\n",
       "        house_type_is_Специализированный жилищный фонд\n",
       "    </td>\n",
       "    \n",
       "</tr>\n",
       "        \n",
       "            <tr style=\"background-color: hsl(0, 100.00%, 98.98%); border: none;\">\n",
       "    <td style=\"padding: 0 1em 0 0.5em; text-align: right; border: none;\">\n",
       "        -0.194\n",
       "    </td>\n",
       "    <td style=\"padding: 0 0.5em 0 0.5em; text-align: left; border: none;\">\n",
       "        house_type_is_Многоквартирный дом\n",
       "    </td>\n",
       "    \n",
       "</tr>\n",
       "        \n",
       "            <tr style=\"background-color: hsl(0, 100.00%, 98.81%); border: none;\">\n",
       "    <td style=\"padding: 0 1em 0 0.5em; text-align: right; border: none;\">\n",
       "        -0.242\n",
       "    </td>\n",
       "    <td style=\"padding: 0 0.5em 0 0.5em; text-align: left; border: none;\">\n",
       "        type_is_prestl\n",
       "    </td>\n",
       "    \n",
       "</tr>\n",
       "        \n",
       "            <tr style=\"background-color: hsl(0, 100.00%, 98.23%); border: none;\">\n",
       "    <td style=\"padding: 0 1em 0 0.5em; text-align: right; border: none;\">\n",
       "        -0.425\n",
       "    </td>\n",
       "    <td style=\"padding: 0 0.5em 0 0.5em; text-align: left; border: none;\">\n",
       "        type_is_mod_prem\n",
       "    </td>\n",
       "    \n",
       "</tr>\n",
       "        \n",
       "            <tr style=\"background-color: hsl(0, 100.00%, 97.79%); border: none;\">\n",
       "    <td style=\"padding: 0 1em 0 0.5em; text-align: right; border: none;\">\n",
       "        -0.586\n",
       "    </td>\n",
       "    <td style=\"padding: 0 0.5em 0 0.5em; text-align: left; border: none;\">\n",
       "        blag_playg_is_Не имеется\n",
       "    </td>\n",
       "    \n",
       "</tr>\n",
       "        \n",
       "            <tr style=\"background-color: hsl(0, 100.00%, 97.64%); border: none;\">\n",
       "    <td style=\"padding: 0 1em 0 0.5em; text-align: right; border: none;\">\n",
       "        -0.641\n",
       "    </td>\n",
       "    <td style=\"padding: 0 0.5em 0 0.5em; text-align: left; border: none;\">\n",
       "        blag_playg_is_Имеется\n",
       "    </td>\n",
       "    \n",
       "</tr>\n",
       "        \n",
       "            <tr style=\"background-color: hsl(0, 100.00%, 97.60%); border: none;\">\n",
       "    <td style=\"padding: 0 1em 0 0.5em; text-align: right; border: none;\">\n",
       "        -0.658\n",
       "    </td>\n",
       "    <td style=\"padding: 0 0.5em 0 0.5em; text-align: left; border: none;\">\n",
       "        type_is_prerev\n",
       "    </td>\n",
       "    \n",
       "</tr>\n",
       "        \n",
       "            <tr style=\"background-color: hsl(0, 100.00%, 97.57%); border: none;\">\n",
       "    <td style=\"padding: 0 1em 0 0.5em; text-align: right; border: none;\">\n",
       "        -0.669\n",
       "    </td>\n",
       "    <td style=\"padding: 0 0.5em 0 0.5em; text-align: left; border: none;\">\n",
       "        type_is_mod_ec\n",
       "    </td>\n",
       "    \n",
       "</tr>\n",
       "        \n",
       "            <tr style=\"background-color: hsl(0, 100.00%, 96.93%); border: none;\">\n",
       "    <td style=\"padding: 0 1em 0 0.5em; text-align: right; border: none;\">\n",
       "        -0.934\n",
       "    </td>\n",
       "    <td style=\"padding: 0 0.5em 0 0.5em; text-align: left; border: none;\">\n",
       "        area_land\n",
       "    </td>\n",
       "    \n",
       "</tr>\n",
       "        \n",
       "            <tr style=\"background-color: hsl(0, 100.00%, 96.61%); border: none;\">\n",
       "    <td style=\"padding: 0 1em 0 0.5em; text-align: right; border: none;\">\n",
       "        -1.079\n",
       "    </td>\n",
       "    <td style=\"padding: 0 0.5em 0 0.5em; text-align: left; border: none;\">\n",
       "        type_is_ind_pr_l\n",
       "    </td>\n",
       "    \n",
       "</tr>\n",
       "        \n",
       "            <tr style=\"background-color: hsl(0, 100.00%, 95.81%); border: none;\">\n",
       "    <td style=\"padding: 0 1em 0 0.5em; text-align: right; border: none;\">\n",
       "        -1.459\n",
       "    </td>\n",
       "    <td style=\"padding: 0 0.5em 0 0.5em; text-align: left; border: none;\">\n",
       "        type_is_brezhnev\n",
       "    </td>\n",
       "    \n",
       "</tr>\n",
       "        \n",
       "            <tr style=\"background-color: hsl(0, 100.00%, 95.20%); border: none;\">\n",
       "    <td style=\"padding: 0 1em 0 0.5em; text-align: right; border: none;\">\n",
       "        -1.773\n",
       "    </td>\n",
       "    <td style=\"padding: 0 0.5em 0 0.5em; text-align: left; border: none;\">\n",
       "        area\n",
       "    </td>\n",
       "    \n",
       "</tr>\n",
       "        \n",
       "            <tr style=\"background-color: hsl(0, 100.00%, 94.34%); border: none;\">\n",
       "    <td style=\"padding: 0 1em 0 0.5em; text-align: right; border: none;\">\n",
       "        -2.240\n",
       "    </td>\n",
       "    <td style=\"padding: 0 0.5em 0 0.5em; text-align: left; border: none;\">\n",
       "        levels_int\n",
       "    </td>\n",
       "    \n",
       "</tr>\n",
       "        \n",
       "            <tr style=\"background-color: hsl(0, 100.00%, 93.68%); border: none;\">\n",
       "    <td style=\"padding: 0 1em 0 0.5em; text-align: right; border: none;\">\n",
       "        -2.624\n",
       "    </td>\n",
       "    <td style=\"padding: 0 0.5em 0 0.5em; text-align: left; border: none;\">\n",
       "        area_gen\n",
       "    </td>\n",
       "    \n",
       "</tr>\n",
       "        \n",
       "            <tr style=\"background-color: hsl(0, 100.00%, 91.55%); border: none;\">\n",
       "    <td style=\"padding: 0 1em 0 0.5em; text-align: right; border: none;\">\n",
       "        -3.970\n",
       "    </td>\n",
       "    <td style=\"padding: 0 0.5em 0 0.5em; text-align: left; border: none;\">\n",
       "        &lt;BIAS&gt;\n",
       "    </td>\n",
       "    \n",
       "</tr>\n",
       "        \n",
       "            <tr style=\"background-color: hsl(0, 100.00%, 80.00%); border: none;\">\n",
       "    <td style=\"padding: 0 1em 0 0.5em; text-align: right; border: none;\">\n",
       "        -13.599\n",
       "    </td>\n",
       "    <td style=\"padding: 0 0.5em 0 0.5em; text-align: left; border: none;\">\n",
       "        area_nonli\n",
       "    </td>\n",
       "    \n",
       "</tr>\n",
       "        \n",
       "\n",
       "        </tbody>\n",
       "    </table>\n",
       "\n",
       "            \n",
       "        \n",
       "\n",
       "        \n",
       "\n",
       "\n",
       "\n",
       "    \n",
       "\n",
       "    \n",
       "\n",
       "    \n",
       "\n",
       "    \n",
       "\n",
       "\n",
       "    \n",
       "\n",
       "    \n",
       "\n",
       "    \n",
       "\n",
       "    \n",
       "\n",
       "    \n",
       "\n",
       "    \n",
       "\n",
       "\n",
       "    \n",
       "\n",
       "    \n",
       "\n",
       "    \n",
       "\n",
       "    \n",
       "\n",
       "    \n",
       "\n",
       "    \n",
       "\n",
       "\n",
       "\n"
      ],
      "text/plain": [
       "Explanation(estimator=\"LogisticRegression(C=10, class_weight='balanced', dual=False,\\n          fit_intercept=True, intercept_scaling=1, max_iter=100,\\n          multi_class='ovr', n_jobs=1, penalty='l2', random_state=42,\\n          solver='lbfgs', tol=0.0001, verbose=1, warm_start=False)\", description=\"\\nFeatures with largest coefficients.\\nCaveats:\\n1. Be careful with features which are not\\n   independent - weights don't show their importance.\\n2. If scale of input features is different then scale of coefficients\\n   will also be different, making direct comparison between coefficient values\\n   incorrect.\\n3. Depending on regularization, rare features sometimes may have high\\n   coefficients; this doesn't mean they contribute much to the\\n   classification result for most examples.\\n\", error=None, method='linear model', is_regression=False, targets=[TargetExplanation(target=1.0, feature_weights=FeatureWeights(pos=[FeatureWeight(feature='area_live', weight=2.1367363689111425, std=None, value=None), FeatureWeight(feature='type_is_khrushev', weight=0.82907843058726649, std=None, value=None), FeatureWeight(feature='doors', weight=0.72091640570348881, std=None, value=None), FeatureWeight(feature='blag_sport_is_Не имеется', weight=0.68695995262832144, std=None, value=None), FeatureWeight(feature='blag_sport_is_Имеется', weight=0.45796406016950925, std=None, value=None), FeatureWeight(feature='area_park', weight=0.20544589093473026, std=None, value=None), FeatureWeight(feature='servicedatUnix', weight=0.19142288256352183, std=None, value=None), FeatureWeight(feature='energy_cla_is_A', weight=0.15807963335082534, std=None, value=None), FeatureWeight(feature='energy_cla_is_B', weight=0.094523602332032483, std=None, value=None), FeatureWeight(feature='year_int', weight=0.03323680772353458, std=None, value=None), FeatureWeight(feature='energy_cla_is_E', weight=0.031382809865662144, std=None, value=None), FeatureWeight(feature='avar_is_Нет', weight=0.02259925104745782, std=None, value=None)], neg=[FeatureWeight(feature='area_nonli', weight=-13.599243567749467, std=None, value=None), FeatureWeight(feature='<BIAS>', weight=-3.9704484750129714, std=None, value=None), FeatureWeight(feature='area_gen', weight=-2.6244428611773007, std=None, value=None), FeatureWeight(feature='levels_int', weight=-2.2396631931584672, std=None, value=None), FeatureWeight(feature='area', weight=-1.7731237913041042, std=None, value=None), FeatureWeight(feature='type_is_brezhnev', weight=-1.4586895629628542, std=None, value=None), FeatureWeight(feature='type_is_ind_pr_l', weight=-1.0791670870433931, std=None, value=None), FeatureWeight(feature='area_land', weight=-0.93391259384532044, std=None, value=None), FeatureWeight(feature='type_is_mod_ec', weight=-0.66867434432768846, std=None, value=None), FeatureWeight(feature='type_is_prerev', weight=-0.65825582643012825, std=None, value=None), FeatureWeight(feature='blag_playg_is_Имеется', weight=-0.64147274295555545, std=None, value=None), FeatureWeight(feature='blag_playg_is_Не имеется', weight=-0.5859657608721458, std=None, value=None), FeatureWeight(feature='type_is_mod_prem', weight=-0.42538723650804899, std=None, value=None), FeatureWeight(feature='type_is_prestl', weight=-0.24215653399055478, std=None, value=None), FeatureWeight(feature='house_type_is_Многоквартирный дом', weight=-0.19413675200936761, std=None, value=None), FeatureWeight(feature='house_type_is_Специализированный жилищный фонд', weight=-0.17710319064084026, std=None, value=None), FeatureWeight(feature='energy_cla_is_Не присвоен', weight=-0.17245910373561293, std=None, value=None), FeatureWeight(feature='type_is_low_l', weight=-0.17179040049287303, std=None, value=None), FeatureWeight(feature='energy_cla_is_C', weight=-0.15065597032497932, std=None, value=None), FeatureWeight(feature='energy_cla_is_B++', weight=-0.14883930110328689, std=None, value=None), FeatureWeight(feature='house_type_is_Жилой дом блокированной застройки', weight=-0.14555220732724516, std=None, value=None), FeatureWeight(feature='energy_cla_is_B+', weight=-0.082291436258983761, std=None, value=None), FeatureWeight(feature='energy_cla_is_D', weight=-0.03650085034686059, std=None, value=None), FeatureWeight(feature='type_is_stl', weight=-0.03244608897680494, std=None, value=None), FeatureWeight(feature='avar_is_Да', weight=-0.02259925104727404, std=None, value=None)], pos_remaining=0, neg_remaining=0), proba=None, score=None, weighted_spans=None)], feature_importances=None, decision_tree=None, highlight_spaces=None, transition_features=None)"
      ]
     },
     "execution_count": 121,
     "metadata": {},
     "output_type": "execute_result"
    }
   ],
   "source": [
    " eli5.explain_weights(lr, feature_names=[i for i in list(X1.columns) if \"house_id\" not in i and i != \"address\"][:-1], top=(40,40))"
   ]
  },
  {
   "cell_type": "code",
   "execution_count": 122,
   "metadata": {
    "collapsed": false
   },
   "outputs": [
    {
     "name": "stdout",
     "output_type": "stream",
     "text": [
      "max_iter reached after 2 seconds\n",
      "\n",
      "f1_score:  0.847694174757\n"
     ]
    },
    {
     "name": "stderr",
     "output_type": "stream",
     "text": [
      "[Parallel(n_jobs=1)]: Done   1 out of   1 | elapsed:    1.7s finished\n"
     ]
    }
   ],
   "source": [
    "lr = logReg(Z, y, l=\"l2\", solver=\"sag\", c=10)"
   ]
  },
  {
   "cell_type": "code",
   "execution_count": 123,
   "metadata": {
    "collapsed": false
   },
   "outputs": [
    {
     "data": {
      "text/html": [
       "\n",
       "    <style>\n",
       "    table.eli5-weights tr:hover {\n",
       "        filter: brightness(85%);\n",
       "    }\n",
       "</style>\n",
       "\n",
       "\n",
       "\n",
       "    \n",
       "\n",
       "    \n",
       "\n",
       "    \n",
       "\n",
       "    \n",
       "\n",
       "    \n",
       "\n",
       "    \n",
       "\n",
       "\n",
       "    \n",
       "\n",
       "    \n",
       "\n",
       "    \n",
       "\n",
       "    \n",
       "        \n",
       "\n",
       "    \n",
       "\n",
       "        \n",
       "            \n",
       "                \n",
       "                \n",
       "    \n",
       "        <p style=\"margin-bottom: 0.5em; margin-top: 0em\">\n",
       "            <b>\n",
       "    \n",
       "        y=1.0\n",
       "    \n",
       "</b>\n",
       "\n",
       "top features\n",
       "        </p>\n",
       "    \n",
       "    <table class=\"eli5-weights\"\n",
       "           style=\"border-collapse: collapse; border: none; margin-top: 0em; table-layout: auto; margin-bottom: 2em;\">\n",
       "        <thead>\n",
       "        <tr style=\"border: none;\">\n",
       "            \n",
       "                <th style=\"padding: 0 1em 0 0.5em; text-align: right; border: none;\" title=\"Feature weights. Note that weights do not account for feature value scales, so if feature values have different scales, features with highest weights might not be the most important.\">\n",
       "                    Weight<sup>?</sup>\n",
       "                </th>\n",
       "            \n",
       "            <th style=\"padding: 0 0.5em 0 0.5em; text-align: left; border: none;\">Feature</th>\n",
       "            \n",
       "        </tr>\n",
       "        </thead>\n",
       "        <tbody>\n",
       "        \n",
       "            <tr style=\"background-color: hsl(120, 100.00%, 88.84%); border: none;\">\n",
       "    <td style=\"padding: 0 1em 0 0.5em; text-align: right; border: none;\">\n",
       "        +1.129\n",
       "    </td>\n",
       "    <td style=\"padding: 0 0.5em 0 0.5em; text-align: left; border: none;\">\n",
       "        type_is_khrushev\n",
       "    </td>\n",
       "    \n",
       "</tr>\n",
       "        \n",
       "            <tr style=\"background-color: hsl(120, 100.00%, 93.75%); border: none;\">\n",
       "    <td style=\"padding: 0 1em 0 0.5em; text-align: right; border: none;\">\n",
       "        +0.493\n",
       "    </td>\n",
       "    <td style=\"padding: 0 0.5em 0 0.5em; text-align: left; border: none;\">\n",
       "        doors\n",
       "    </td>\n",
       "    \n",
       "</tr>\n",
       "        \n",
       "            <tr style=\"background-color: hsl(120, 100.00%, 96.95%); border: none;\">\n",
       "    <td style=\"padding: 0 1em 0 0.5em; text-align: right; border: none;\">\n",
       "        +0.177\n",
       "    </td>\n",
       "    <td style=\"padding: 0 0.5em 0 0.5em; text-align: left; border: none;\">\n",
       "        servicedatUnix\n",
       "    </td>\n",
       "    \n",
       "</tr>\n",
       "        \n",
       "            <tr style=\"background-color: hsl(120, 100.00%, 97.48%); border: none;\">\n",
       "    <td style=\"padding: 0 1em 0 0.5em; text-align: right; border: none;\">\n",
       "        +0.135\n",
       "    </td>\n",
       "    <td style=\"padding: 0 0.5em 0 0.5em; text-align: left; border: none;\">\n",
       "        energy_cla_is_A\n",
       "    </td>\n",
       "    \n",
       "</tr>\n",
       "        \n",
       "            <tr style=\"background-color: hsl(120, 100.00%, 97.48%); border: none;\">\n",
       "    <td style=\"padding: 0 1em 0 0.5em; text-align: right; border: none;\">\n",
       "        +0.135\n",
       "    </td>\n",
       "    <td style=\"padding: 0 0.5em 0 0.5em; text-align: left; border: none;\">\n",
       "        energy_cla_is_B\n",
       "    </td>\n",
       "    \n",
       "</tr>\n",
       "        \n",
       "            <tr style=\"background-color: hsl(120, 100.00%, 97.79%); border: none;\">\n",
       "    <td style=\"padding: 0 1em 0 0.5em; text-align: right; border: none;\">\n",
       "        +0.111\n",
       "    </td>\n",
       "    <td style=\"padding: 0 0.5em 0 0.5em; text-align: left; border: none;\">\n",
       "        blag_sport_is_Не имеется\n",
       "    </td>\n",
       "    \n",
       "</tr>\n",
       "        \n",
       "            <tr style=\"background-color: hsl(120, 100.00%, 97.89%); border: none;\">\n",
       "    <td style=\"padding: 0 1em 0 0.5em; text-align: right; border: none;\">\n",
       "        +0.105\n",
       "    </td>\n",
       "    <td style=\"padding: 0 0.5em 0 0.5em; text-align: left; border: none;\">\n",
       "        energy_cla_is_E\n",
       "    </td>\n",
       "    \n",
       "</tr>\n",
       "        \n",
       "            <tr style=\"background-color: hsl(120, 100.00%, 98.59%); border: none;\">\n",
       "    <td style=\"padding: 0 1em 0 0.5em; text-align: right; border: none;\">\n",
       "        +0.059\n",
       "    </td>\n",
       "    <td style=\"padding: 0 0.5em 0 0.5em; text-align: left; border: none;\">\n",
       "        type_is_stl\n",
       "    </td>\n",
       "    \n",
       "</tr>\n",
       "        \n",
       "            <tr style=\"background-color: hsl(120, 100.00%, 98.67%); border: none;\">\n",
       "    <td style=\"padding: 0 1em 0 0.5em; text-align: right; border: none;\">\n",
       "        +0.054\n",
       "    </td>\n",
       "    <td style=\"padding: 0 0.5em 0 0.5em; text-align: left; border: none;\">\n",
       "        blag_sport_is_Имеется\n",
       "    </td>\n",
       "    \n",
       "</tr>\n",
       "        \n",
       "            <tr style=\"background-color: hsl(120, 100.00%, 98.88%); border: none;\">\n",
       "    <td style=\"padding: 0 1em 0 0.5em; text-align: right; border: none;\">\n",
       "        +0.042\n",
       "    </td>\n",
       "    <td style=\"padding: 0 0.5em 0 0.5em; text-align: left; border: none;\">\n",
       "        area_park\n",
       "    </td>\n",
       "    \n",
       "</tr>\n",
       "        \n",
       "            <tr style=\"background-color: hsl(120, 100.00%, 99.26%); border: none;\">\n",
       "    <td style=\"padding: 0 1em 0 0.5em; text-align: right; border: none;\">\n",
       "        +0.024\n",
       "    </td>\n",
       "    <td style=\"padding: 0 0.5em 0 0.5em; text-align: left; border: none;\">\n",
       "        avar_is_Нет\n",
       "    </td>\n",
       "    \n",
       "</tr>\n",
       "        \n",
       "            <tr style=\"background-color: hsl(120, 100.00%, 99.86%); border: none;\">\n",
       "    <td style=\"padding: 0 1em 0 0.5em; text-align: right; border: none;\">\n",
       "        +0.002\n",
       "    </td>\n",
       "    <td style=\"padding: 0 0.5em 0 0.5em; text-align: left; border: none;\">\n",
       "        area_gen\n",
       "    </td>\n",
       "    \n",
       "</tr>\n",
       "        \n",
       "        \n",
       "\n",
       "        \n",
       "        \n",
       "            <tr style=\"background-color: hsl(0, 100.00%, 99.77%); border: none;\">\n",
       "    <td style=\"padding: 0 1em 0 0.5em; text-align: right; border: none;\">\n",
       "        -0.004\n",
       "    </td>\n",
       "    <td style=\"padding: 0 0.5em 0 0.5em; text-align: left; border: none;\">\n",
       "        area_nonli\n",
       "    </td>\n",
       "    \n",
       "</tr>\n",
       "        \n",
       "            <tr style=\"background-color: hsl(0, 100.00%, 99.73%); border: none;\">\n",
       "    <td style=\"padding: 0 1em 0 0.5em; text-align: right; border: none;\">\n",
       "        -0.006\n",
       "    </td>\n",
       "    <td style=\"padding: 0 0.5em 0 0.5em; text-align: left; border: none;\">\n",
       "        energy_cla_is_D\n",
       "    </td>\n",
       "    \n",
       "</tr>\n",
       "        \n",
       "            <tr style=\"background-color: hsl(0, 100.00%, 99.44%); border: none;\">\n",
       "    <td style=\"padding: 0 1em 0 0.5em; text-align: right; border: none;\">\n",
       "        -0.016\n",
       "    </td>\n",
       "    <td style=\"padding: 0 0.5em 0 0.5em; text-align: left; border: none;\">\n",
       "        type_is_low_l\n",
       "    </td>\n",
       "    \n",
       "</tr>\n",
       "        \n",
       "            <tr style=\"background-color: hsl(0, 100.00%, 99.26%); border: none;\">\n",
       "    <td style=\"padding: 0 1em 0 0.5em; text-align: right; border: none;\">\n",
       "        -0.024\n",
       "    </td>\n",
       "    <td style=\"padding: 0 0.5em 0 0.5em; text-align: left; border: none;\">\n",
       "        avar_is_Да\n",
       "    </td>\n",
       "    \n",
       "</tr>\n",
       "        \n",
       "            <tr style=\"background-color: hsl(0, 100.00%, 99.13%); border: none;\">\n",
       "    <td style=\"padding: 0 1em 0 0.5em; text-align: right; border: none;\">\n",
       "        -0.030\n",
       "    </td>\n",
       "    <td style=\"padding: 0 0.5em 0 0.5em; text-align: left; border: none;\">\n",
       "        year_int\n",
       "    </td>\n",
       "    \n",
       "</tr>\n",
       "        \n",
       "            <tr style=\"background-color: hsl(0, 100.00%, 98.98%); border: none;\">\n",
       "    <td style=\"padding: 0 1em 0 0.5em; text-align: right; border: none;\">\n",
       "        -0.037\n",
       "    </td>\n",
       "    <td style=\"padding: 0 0.5em 0 0.5em; text-align: left; border: none;\">\n",
       "        energy_cla_is_B+\n",
       "    </td>\n",
       "    \n",
       "</tr>\n",
       "        \n",
       "            <tr style=\"background-color: hsl(0, 100.00%, 98.94%); border: none;\">\n",
       "    <td style=\"padding: 0 1em 0 0.5em; text-align: right; border: none;\">\n",
       "        -0.039\n",
       "    </td>\n",
       "    <td style=\"padding: 0 0.5em 0 0.5em; text-align: left; border: none;\">\n",
       "        blag_playg_is_Не имеется\n",
       "    </td>\n",
       "    \n",
       "</tr>\n",
       "        \n",
       "            <tr style=\"background-color: hsl(0, 100.00%, 98.59%); border: none;\">\n",
       "    <td style=\"padding: 0 1em 0 0.5em; text-align: right; border: none;\">\n",
       "        -0.059\n",
       "    </td>\n",
       "    <td style=\"padding: 0 0.5em 0 0.5em; text-align: left; border: none;\">\n",
       "        blag_playg_is_Имеется\n",
       "    </td>\n",
       "    \n",
       "</tr>\n",
       "        \n",
       "            <tr style=\"background-color: hsl(0, 100.00%, 98.40%); border: none;\">\n",
       "    <td style=\"padding: 0 1em 0 0.5em; text-align: right; border: none;\">\n",
       "        -0.070\n",
       "    </td>\n",
       "    <td style=\"padding: 0 0.5em 0 0.5em; text-align: left; border: none;\">\n",
       "        energy_cla_is_Не присвоен\n",
       "    </td>\n",
       "    \n",
       "</tr>\n",
       "        \n",
       "            <tr style=\"background-color: hsl(0, 100.00%, 98.04%); border: none;\">\n",
       "    <td style=\"padding: 0 1em 0 0.5em; text-align: right; border: none;\">\n",
       "        -0.094\n",
       "    </td>\n",
       "    <td style=\"padding: 0 0.5em 0 0.5em; text-align: left; border: none;\">\n",
       "        type_is_prestl\n",
       "    </td>\n",
       "    \n",
       "</tr>\n",
       "        \n",
       "            <tr style=\"background-color: hsl(0, 100.00%, 97.98%); border: none;\">\n",
       "    <td style=\"padding: 0 1em 0 0.5em; text-align: right; border: none;\">\n",
       "        -0.098\n",
       "    </td>\n",
       "    <td style=\"padding: 0 0.5em 0 0.5em; text-align: left; border: none;\">\n",
       "        energy_cla_is_C\n",
       "    </td>\n",
       "    \n",
       "</tr>\n",
       "        \n",
       "            <tr style=\"background-color: hsl(0, 100.00%, 97.90%); border: none;\">\n",
       "    <td style=\"padding: 0 1em 0 0.5em; text-align: right; border: none;\">\n",
       "        -0.104\n",
       "    </td>\n",
       "    <td style=\"padding: 0 0.5em 0 0.5em; text-align: left; border: none;\">\n",
       "        house_type_is_Жилой дом блокированной застройки\n",
       "    </td>\n",
       "    \n",
       "</tr>\n",
       "        \n",
       "            <tr style=\"background-color: hsl(0, 100.00%, 97.69%); border: none;\">\n",
       "    <td style=\"padding: 0 1em 0 0.5em; text-align: right; border: none;\">\n",
       "        -0.119\n",
       "    </td>\n",
       "    <td style=\"padding: 0 0.5em 0 0.5em; text-align: left; border: none;\">\n",
       "        area_live\n",
       "    </td>\n",
       "    \n",
       "</tr>\n",
       "        \n",
       "            <tr style=\"background-color: hsl(0, 100.00%, 97.18%); border: none;\">\n",
       "    <td style=\"padding: 0 1em 0 0.5em; text-align: right; border: none;\">\n",
       "        -0.159\n",
       "    </td>\n",
       "    <td style=\"padding: 0 0.5em 0 0.5em; text-align: left; border: none;\">\n",
       "        energy_cla_is_B++\n",
       "    </td>\n",
       "    \n",
       "</tr>\n",
       "        \n",
       "            <tr style=\"background-color: hsl(0, 100.00%, 96.92%); border: none;\">\n",
       "    <td style=\"padding: 0 1em 0 0.5em; text-align: right; border: none;\">\n",
       "        -0.180\n",
       "    </td>\n",
       "    <td style=\"padding: 0 0.5em 0 0.5em; text-align: left; border: none;\">\n",
       "        house_type_is_Специализированный жилищный фонд\n",
       "    </td>\n",
       "    \n",
       "</tr>\n",
       "        \n",
       "            <tr style=\"background-color: hsl(0, 100.00%, 96.82%); border: none;\">\n",
       "    <td style=\"padding: 0 1em 0 0.5em; text-align: right; border: none;\">\n",
       "        -0.188\n",
       "    </td>\n",
       "    <td style=\"padding: 0 0.5em 0 0.5em; text-align: left; border: none;\">\n",
       "        house_type_is_Многоквартирный дом\n",
       "    </td>\n",
       "    \n",
       "</tr>\n",
       "        \n",
       "            <tr style=\"background-color: hsl(0, 100.00%, 96.65%); border: none;\">\n",
       "    <td style=\"padding: 0 1em 0 0.5em; text-align: right; border: none;\">\n",
       "        -0.203\n",
       "    </td>\n",
       "    <td style=\"padding: 0 0.5em 0 0.5em; text-align: left; border: none;\">\n",
       "        type_is_mod_ec\n",
       "    </td>\n",
       "    \n",
       "</tr>\n",
       "        \n",
       "            <tr style=\"background-color: hsl(0, 100.00%, 95.81%); border: none;\">\n",
       "    <td style=\"padding: 0 1em 0 0.5em; text-align: right; border: none;\">\n",
       "        -0.279\n",
       "    </td>\n",
       "    <td style=\"padding: 0 0.5em 0 0.5em; text-align: left; border: none;\">\n",
       "        type_is_mod_prem\n",
       "    </td>\n",
       "    \n",
       "</tr>\n",
       "        \n",
       "            <tr style=\"background-color: hsl(0, 100.00%, 95.22%); border: none;\">\n",
       "    <td style=\"padding: 0 1em 0 0.5em; text-align: right; border: none;\">\n",
       "        -0.336\n",
       "    </td>\n",
       "    <td style=\"padding: 0 0.5em 0 0.5em; text-align: left; border: none;\">\n",
       "        area_land\n",
       "    </td>\n",
       "    \n",
       "</tr>\n",
       "        \n",
       "            <tr style=\"background-color: hsl(0, 100.00%, 95.05%); border: none;\">\n",
       "    <td style=\"padding: 0 1em 0 0.5em; text-align: right; border: none;\">\n",
       "        -0.353\n",
       "    </td>\n",
       "    <td style=\"padding: 0 0.5em 0 0.5em; text-align: left; border: none;\">\n",
       "        type_is_ind_pr_l\n",
       "    </td>\n",
       "    \n",
       "</tr>\n",
       "        \n",
       "            <tr style=\"background-color: hsl(0, 100.00%, 94.56%); border: none;\">\n",
       "    <td style=\"padding: 0 1em 0 0.5em; text-align: right; border: none;\">\n",
       "        -0.404\n",
       "    </td>\n",
       "    <td style=\"padding: 0 0.5em 0 0.5em; text-align: left; border: none;\">\n",
       "        type_is_prerev\n",
       "    </td>\n",
       "    \n",
       "</tr>\n",
       "        \n",
       "            <tr style=\"background-color: hsl(0, 100.00%, 91.30%); border: none;\">\n",
       "    <td style=\"padding: 0 1em 0 0.5em; text-align: right; border: none;\">\n",
       "        -0.791\n",
       "    </td>\n",
       "    <td style=\"padding: 0 0.5em 0 0.5em; text-align: left; border: none;\">\n",
       "        area\n",
       "    </td>\n",
       "    \n",
       "</tr>\n",
       "        \n",
       "            <tr style=\"background-color: hsl(0, 100.00%, 91.13%); border: none;\">\n",
       "    <td style=\"padding: 0 1em 0 0.5em; text-align: right; border: none;\">\n",
       "        -0.813\n",
       "    </td>\n",
       "    <td style=\"padding: 0 0.5em 0 0.5em; text-align: left; border: none;\">\n",
       "        type_is_brezhnev\n",
       "    </td>\n",
       "    \n",
       "</tr>\n",
       "        \n",
       "            <tr style=\"background-color: hsl(0, 100.00%, 86.37%); border: none;\">\n",
       "    <td style=\"padding: 0 1em 0 0.5em; text-align: right; border: none;\">\n",
       "        -1.502\n",
       "    </td>\n",
       "    <td style=\"padding: 0 0.5em 0 0.5em; text-align: left; border: none;\">\n",
       "        levels_int\n",
       "    </td>\n",
       "    \n",
       "</tr>\n",
       "        \n",
       "            <tr style=\"background-color: hsl(0, 100.00%, 80.00%); border: none;\">\n",
       "    <td style=\"padding: 0 1em 0 0.5em; text-align: right; border: none;\">\n",
       "        -2.597\n",
       "    </td>\n",
       "    <td style=\"padding: 0 0.5em 0 0.5em; text-align: left; border: none;\">\n",
       "        &lt;BIAS&gt;\n",
       "    </td>\n",
       "    \n",
       "</tr>\n",
       "        \n",
       "\n",
       "        </tbody>\n",
       "    </table>\n",
       "\n",
       "            \n",
       "        \n",
       "\n",
       "        \n",
       "\n",
       "\n",
       "\n",
       "    \n",
       "\n",
       "    \n",
       "\n",
       "    \n",
       "\n",
       "    \n",
       "\n",
       "\n",
       "    \n",
       "\n",
       "    \n",
       "\n",
       "    \n",
       "\n",
       "    \n",
       "\n",
       "    \n",
       "\n",
       "    \n",
       "\n",
       "\n",
       "    \n",
       "\n",
       "    \n",
       "\n",
       "    \n",
       "\n",
       "    \n",
       "\n",
       "    \n",
       "\n",
       "    \n",
       "\n",
       "\n",
       "\n"
      ],
      "text/plain": [
       "Explanation(estimator=\"LogisticRegression(C=10, class_weight='balanced', dual=False,\\n          fit_intercept=True, intercept_scaling=1, max_iter=100,\\n          multi_class='ovr', n_jobs=1, penalty='l2', random_state=42,\\n          solver='sag', tol=0.0001, verbose=1, warm_start=False)\", description=\"\\nFeatures with largest coefficients.\\nCaveats:\\n1. Be careful with features which are not\\n   independent - weights don't show their importance.\\n2. If scale of input features is different then scale of coefficients\\n   will also be different, making direct comparison between coefficient values\\n   incorrect.\\n3. Depending on regularization, rare features sometimes may have high\\n   coefficients; this doesn't mean they contribute much to the\\n   classification result for most examples.\\n\", error=None, method='linear model', is_regression=False, targets=[TargetExplanation(target=1.0, feature_weights=FeatureWeights(pos=[FeatureWeight(feature='type_is_khrushev', weight=1.1292652629997781, std=None, value=None), FeatureWeight(feature='doors', weight=0.49298110764013864, std=None, value=None), FeatureWeight(feature='servicedatUnix', weight=0.17705494303863872, std=None, value=None), FeatureWeight(feature='energy_cla_is_A', weight=0.13505075752014961, std=None, value=None), FeatureWeight(feature='energy_cla_is_B', weight=0.13487122999649773, std=None, value=None), FeatureWeight(feature='blag_sport_is_Не имеется', weight=0.1113458219839798, std=None, value=None), FeatureWeight(feature='energy_cla_is_E', weight=0.10455224411404219, std=None, value=None), FeatureWeight(feature='type_is_stl', weight=0.058785076846245343, std=None, value=None), FeatureWeight(feature='blag_sport_is_Имеется', weight=0.054061118139617552, std=None, value=None), FeatureWeight(feature='area_park', weight=0.042290962283784594, std=None, value=None), FeatureWeight(feature='avar_is_Нет', weight=0.023535340964527363, std=None, value=None), FeatureWeight(feature='area_gen', weight=0.0021659513955962109, std=None, value=None)], neg=[FeatureWeight(feature='<BIAS>', weight=-2.5973349740147236, std=None, value=None), FeatureWeight(feature='levels_int', weight=-1.5016399516620671, std=None, value=None), FeatureWeight(feature='type_is_brezhnev', weight=-0.81267023674502648, std=None, value=None), FeatureWeight(feature='area', weight=-0.79074142165398364, std=None, value=None), FeatureWeight(feature='type_is_prerev', weight=-0.40432869012857098, std=None, value=None), FeatureWeight(feature='type_is_ind_pr_l', weight=-0.35298603766790221, std=None, value=None), FeatureWeight(feature='area_land', weight=-0.33634270669536631, std=None, value=None), FeatureWeight(feature='type_is_mod_prem', weight=-0.27889056502678777, std=None, value=None), FeatureWeight(feature='type_is_mod_ec', weight=-0.20269104969680127, std=None, value=None), FeatureWeight(feature='house_type_is_Многоквартирный дом', weight=-0.18773044228639743, std=None, value=None), FeatureWeight(feature='house_type_is_Специализированный жилищный фонд', weight=-0.17950059794506945, std=None, value=None), FeatureWeight(feature='energy_cla_is_B++', weight=-0.15852370915494912, std=None, value=None), FeatureWeight(feature='area_live', weight=-0.11863023683564074, std=None, value=None), FeatureWeight(feature='house_type_is_Жилой дом блокированной застройки', weight=-0.10350623945654355, std=None, value=None), FeatureWeight(feature='energy_cla_is_C', weight=-0.098308695297982515, std=None, value=None), FeatureWeight(feature='type_is_prestl', weight=-0.093953566879548381, std=None, value=None), FeatureWeight(feature='energy_cla_is_Не присвоен', weight=-0.070396519023979254, std=None, value=None), FeatureWeight(feature='blag_playg_is_Имеется', weight=-0.058612323175172891, std=None, value=None), FeatureWeight(feature='blag_playg_is_Не имеется', weight=-0.039122216296785507, std=None, value=None), FeatureWeight(feature='energy_cla_is_B+', weight=-0.037051927058735265, std=None, value=None), FeatureWeight(feature='year_int', weight=-0.029510607232231829, std=None, value=None), FeatureWeight(feature='avar_is_Да', weight=-0.023535340964526214, std=None, value=None), FeatureWeight(feature='type_is_low_l', weight=-0.015527939082156278, std=None, value=None), FeatureWeight(feature='energy_cla_is_D', weight=-0.0055320101828513716, std=None, value=None), FeatureWeight(feature='area_nonli', weight=-0.0043149800036377068, std=None, value=None)], pos_remaining=0, neg_remaining=0), proba=None, score=None, weighted_spans=None)], feature_importances=None, decision_tree=None, highlight_spaces=None, transition_features=None)"
      ]
     },
     "execution_count": 123,
     "metadata": {},
     "output_type": "execute_result"
    }
   ],
   "source": [
    " eli5.explain_weights(lr, feature_names=[i for i in list(X1.columns) if \"house_id\" not in i and i != \"address\"][:-1], top=(40,40))"
   ]
  },
  {
   "cell_type": "markdown",
   "metadata": {},
   "source": [
    "Посмотрим на дома с большой нежилой площадью"
   ]
  },
  {
   "cell_type": "code",
   "execution_count": 124,
   "metadata": {
    "collapsed": false
   },
   "outputs": [
    {
     "data": {
      "text/html": [
       "<div>\n",
       "<style>\n",
       "    .dataframe thead tr:only-child th {\n",
       "        text-align: right;\n",
       "    }\n",
       "\n",
       "    .dataframe thead th {\n",
       "        text-align: left;\n",
       "    }\n",
       "\n",
       "    .dataframe tbody tr th {\n",
       "        vertical-align: top;\n",
       "    }\n",
       "</style>\n",
       "<table border=\"1\" class=\"dataframe\">\n",
       "  <thead>\n",
       "    <tr style=\"text-align: right;\">\n",
       "      <th></th>\n",
       "      <th>address</th>\n",
       "      <th>area_nonli</th>\n",
       "    </tr>\n",
       "    <tr>\n",
       "      <th>house_id</th>\n",
       "      <th></th>\n",
       "      <th></th>\n",
       "    </tr>\n",
       "  </thead>\n",
       "  <tbody>\n",
       "    <tr>\n",
       "      <th>8218518</th>\n",
       "      <td>г. Москва, г. Троицк, б-р. Сиреневый, д. 11</td>\n",
       "      <td>28411220.2</td>\n",
       "    </tr>\n",
       "    <tr>\n",
       "      <th>9084016</th>\n",
       "      <td>г. Москва, г. Зеленоград, д. 1306, к. 1</td>\n",
       "      <td>23463435.0</td>\n",
       "    </tr>\n",
       "    <tr>\n",
       "      <th>9068616</th>\n",
       "      <td>г. Москва, г. Зеленоград, ул. Радио, д. 2307, ...</td>\n",
       "      <td>3165644.0</td>\n",
       "    </tr>\n",
       "    <tr>\n",
       "      <th>7618935</th>\n",
       "      <td>г. Москва, наб. Академика Туполева, д. 15</td>\n",
       "      <td>135524.7</td>\n",
       "    </tr>\n",
       "    <tr>\n",
       "      <th>8663761</th>\n",
       "      <td>г. Москва, ул. Михневская, д. 8</td>\n",
       "      <td>118679.1</td>\n",
       "    </tr>\n",
       "    <tr>\n",
       "      <th>8091210</th>\n",
       "      <td>г. Москва, ш. Хорошевское, д. 12</td>\n",
       "      <td>71211.8</td>\n",
       "    </tr>\n",
       "    <tr>\n",
       "      <th>7550760</th>\n",
       "      <td>г. Москва, ул. Мосфильмовская, д. 70</td>\n",
       "      <td>68884.2</td>\n",
       "    </tr>\n",
       "    <tr>\n",
       "      <th>7977692</th>\n",
       "      <td>г. Москва, ул. Покрышкина, д. 8</td>\n",
       "      <td>53758.5</td>\n",
       "    </tr>\n",
       "    <tr>\n",
       "      <th>8000797</th>\n",
       "      <td>г. Москва, ул. Татарская Б., д. 7</td>\n",
       "      <td>53120.0</td>\n",
       "    </tr>\n",
       "    <tr>\n",
       "      <th>9036432</th>\n",
       "      <td>г. Москва, пр-кт. Новоясеневский, д. 9</td>\n",
       "      <td>48715.0</td>\n",
       "    </tr>\n",
       "    <tr>\n",
       "      <th>8205536</th>\n",
       "      <td>г. Москва, ул. Профсоюзная, д. 64, к. 2</td>\n",
       "      <td>46118.2</td>\n",
       "    </tr>\n",
       "    <tr>\n",
       "      <th>9021057</th>\n",
       "      <td>г. Москва, ул. Фадеева, д. 4а</td>\n",
       "      <td>43075.6</td>\n",
       "    </tr>\n",
       "    <tr>\n",
       "      <th>7822898</th>\n",
       "      <td>г. Москва, пер. Вятский 4-й, д. 35</td>\n",
       "      <td>42140.0</td>\n",
       "    </tr>\n",
       "    <tr>\n",
       "      <th>7594831</th>\n",
       "      <td>г. Москва, ул. Воронцовские Пруды, д. 3</td>\n",
       "      <td>41021.0</td>\n",
       "    </tr>\n",
       "    <tr>\n",
       "      <th>7550747</th>\n",
       "      <td>г. Москва, пер. Чапаевский, д. 3</td>\n",
       "      <td>41006.7</td>\n",
       "    </tr>\n",
       "    <tr>\n",
       "      <th>9079463</th>\n",
       "      <td>г. Москва, ул. Пироговская М., д. 8</td>\n",
       "      <td>40870.0</td>\n",
       "    </tr>\n",
       "    <tr>\n",
       "      <th>9099925</th>\n",
       "      <td>г. Москва, проезд. Береговой, д. 5, к. 2</td>\n",
       "      <td>37586.7</td>\n",
       "    </tr>\n",
       "    <tr>\n",
       "      <th>7817810</th>\n",
       "      <td>г. Москва, ул. Новочеремушкинская, д. 71/32</td>\n",
       "      <td>37013.0</td>\n",
       "    </tr>\n",
       "    <tr>\n",
       "      <th>8979953</th>\n",
       "      <td>г. Москва, пр-кт. Ленинский, д. 111, к. 1</td>\n",
       "      <td>35540.2</td>\n",
       "    </tr>\n",
       "    <tr>\n",
       "      <th>8122652</th>\n",
       "      <td>г. Москва, проезд. Погонный, д. 3А</td>\n",
       "      <td>34539.9</td>\n",
       "    </tr>\n",
       "    <tr>\n",
       "      <th>7867323</th>\n",
       "      <td>г. Москва, ул. Первомайская, д. 42.</td>\n",
       "      <td>32971.3</td>\n",
       "    </tr>\n",
       "    <tr>\n",
       "      <th>8441216</th>\n",
       "      <td>г. Москва, пр-кт. Маршала Жукова, д. 76, к. 2</td>\n",
       "      <td>32872.0</td>\n",
       "    </tr>\n",
       "    <tr>\n",
       "      <th>8217730</th>\n",
       "      <td>г. Москва, ш. Рублевское, д. 107</td>\n",
       "      <td>30920.4</td>\n",
       "    </tr>\n",
       "    <tr>\n",
       "      <th>7613729</th>\n",
       "      <td>г. Москва, ул. Профсоюзная, д. 104</td>\n",
       "      <td>30564.6</td>\n",
       "    </tr>\n",
       "    <tr>\n",
       "      <th>7717492</th>\n",
       "      <td>г. Москва, ул. Серафимовича, д. 2</td>\n",
       "      <td>29872.2</td>\n",
       "    </tr>\n",
       "    <tr>\n",
       "      <th>8177946</th>\n",
       "      <td>г. Москва, пр-кт. Ленинский, д. 131</td>\n",
       "      <td>29871.0</td>\n",
       "    </tr>\n",
       "    <tr>\n",
       "      <th>8288449</th>\n",
       "      <td>г. Москва, проезд. Шмитовский, д. 16, стр. 2</td>\n",
       "      <td>28805.7</td>\n",
       "    </tr>\n",
       "    <tr>\n",
       "      <th>7593647</th>\n",
       "      <td>г. Москва, ул. Улофа Пальме, д. 1</td>\n",
       "      <td>28590.5</td>\n",
       "    </tr>\n",
       "    <tr>\n",
       "      <th>9105725</th>\n",
       "      <td>г. Москва, г. Зеленоград, д. 534</td>\n",
       "      <td>26000.0</td>\n",
       "    </tr>\n",
       "    <tr>\n",
       "      <th>8099398</th>\n",
       "      <td>г. Москва, ул. Зоологическая, д. 26, стр. 2</td>\n",
       "      <td>25548.6</td>\n",
       "    </tr>\n",
       "    <tr>\n",
       "      <th>...</th>\n",
       "      <td>...</td>\n",
       "      <td>...</td>\n",
       "    </tr>\n",
       "    <tr>\n",
       "      <th>7647658</th>\n",
       "      <td>г. Москва, ул. Яхромская, д. 3, к. 4</td>\n",
       "      <td>0.0</td>\n",
       "    </tr>\n",
       "    <tr>\n",
       "      <th>7647655</th>\n",
       "      <td>г. Москва, ул. Яхромская, д. 3, к. 3</td>\n",
       "      <td>0.0</td>\n",
       "    </tr>\n",
       "    <tr>\n",
       "      <th>7647650</th>\n",
       "      <td>г. Москва, ул. Яхромская, д. 3, к. 2</td>\n",
       "      <td>0.0</td>\n",
       "    </tr>\n",
       "    <tr>\n",
       "      <th>7647632</th>\n",
       "      <td>г. Москва, ул. Учинская, д. 11</td>\n",
       "      <td>0.0</td>\n",
       "    </tr>\n",
       "    <tr>\n",
       "      <th>7647626</th>\n",
       "      <td>г. Москва, ул. Учинская, д. 1, к. A</td>\n",
       "      <td>0.0</td>\n",
       "    </tr>\n",
       "    <tr>\n",
       "      <th>7647623</th>\n",
       "      <td>г. Москва, ул. Софьи Ковалевской, д. 18</td>\n",
       "      <td>0.0</td>\n",
       "    </tr>\n",
       "    <tr>\n",
       "      <th>7864029</th>\n",
       "      <td>г. Москва, ул. Россошанская, д. 11, к. 1</td>\n",
       "      <td>0.0</td>\n",
       "    </tr>\n",
       "    <tr>\n",
       "      <th>7822668</th>\n",
       "      <td>г. Москва, ул. Башиловская, д. 28</td>\n",
       "      <td>0.0</td>\n",
       "    </tr>\n",
       "    <tr>\n",
       "      <th>7705571</th>\n",
       "      <td>г. Москва, ш. Варшавское, д. 154, к. 2</td>\n",
       "      <td>0.0</td>\n",
       "    </tr>\n",
       "    <tr>\n",
       "      <th>7864016</th>\n",
       "      <td>г. Москва, ул. Россошанская, д. 5, к. 2</td>\n",
       "      <td>0.0</td>\n",
       "    </tr>\n",
       "    <tr>\n",
       "      <th>7822780</th>\n",
       "      <td>г. Москва, ул. Бутырская, д. 19</td>\n",
       "      <td>0.0</td>\n",
       "    </tr>\n",
       "    <tr>\n",
       "      <th>7961377</th>\n",
       "      <td>г. Москва, ул. Газопровод, д. 6г, к. 3</td>\n",
       "      <td>0.0</td>\n",
       "    </tr>\n",
       "    <tr>\n",
       "      <th>7962090</th>\n",
       "      <td>г. Москва, ул. Дорожная, д. 7, к. 2</td>\n",
       "      <td>0.0</td>\n",
       "    </tr>\n",
       "    <tr>\n",
       "      <th>7962091</th>\n",
       "      <td>г. Москва, ул. Дорожная, д. 7, к. 3</td>\n",
       "      <td>0.0</td>\n",
       "    </tr>\n",
       "    <tr>\n",
       "      <th>7822737</th>\n",
       "      <td>г. Москва, ул. Бебеля 2-я, д. 38, к. 3</td>\n",
       "      <td>0.0</td>\n",
       "    </tr>\n",
       "    <tr>\n",
       "      <th>7822734</th>\n",
       "      <td>г. Москва, ул. Бебеля 2-я, д. 38, к. 2</td>\n",
       "      <td>0.0</td>\n",
       "    </tr>\n",
       "    <tr>\n",
       "      <th>7921788</th>\n",
       "      <td>г. Москва, ул. Дорожная, д. 28, к. 2</td>\n",
       "      <td>0.0</td>\n",
       "    </tr>\n",
       "    <tr>\n",
       "      <th>7962275</th>\n",
       "      <td>г. Москва, ул. Дорожная, д. 30, к. 1</td>\n",
       "      <td>0.0</td>\n",
       "    </tr>\n",
       "    <tr>\n",
       "      <th>7698654</th>\n",
       "      <td>г. Москва, проезд. Дорожный 3-й, д. 5, к. 1</td>\n",
       "      <td>0.0</td>\n",
       "    </tr>\n",
       "    <tr>\n",
       "      <th>7553480</th>\n",
       "      <td>г. Москва, ул. Бебеля 1-я, д. 7, стр. а</td>\n",
       "      <td>0.0</td>\n",
       "    </tr>\n",
       "    <tr>\n",
       "      <th>7963209</th>\n",
       "      <td>г. Москва, ул. Кировоградская, д. 40, к. 1</td>\n",
       "      <td>0.0</td>\n",
       "    </tr>\n",
       "    <tr>\n",
       "      <th>7963210</th>\n",
       "      <td>г. Москва, ул. Кировоградская, д. 40, к. 2</td>\n",
       "      <td>0.0</td>\n",
       "    </tr>\n",
       "    <tr>\n",
       "      <th>7963248</th>\n",
       "      <td>г. Москва, ул. Кировоградская, д. 44, к. 1</td>\n",
       "      <td>0.0</td>\n",
       "    </tr>\n",
       "    <tr>\n",
       "      <th>7553473</th>\n",
       "      <td>г. Москва, ул. Бебеля 1-я, д. 3, стр. а</td>\n",
       "      <td>0.0</td>\n",
       "    </tr>\n",
       "    <tr>\n",
       "      <th>7963392</th>\n",
       "      <td>г. Москва, ул. Подольских Курсантов, д. 4, к. 2</td>\n",
       "      <td>0.0</td>\n",
       "    </tr>\n",
       "    <tr>\n",
       "      <th>7963426</th>\n",
       "      <td>г. Москва, ул. Подольских Курсантов, д. 18, к. 1</td>\n",
       "      <td>0.0</td>\n",
       "    </tr>\n",
       "    <tr>\n",
       "      <th>7864002</th>\n",
       "      <td>г. Москва, ул. Россошанская, д. 2, к. 1</td>\n",
       "      <td>0.0</td>\n",
       "    </tr>\n",
       "    <tr>\n",
       "      <th>7822676</th>\n",
       "      <td>г. Москва, ул. Башиловская, д. 32</td>\n",
       "      <td>0.0</td>\n",
       "    </tr>\n",
       "    <tr>\n",
       "      <th>7562199</th>\n",
       "      <td>г. Москва, ул. Россошанская, д. 5, к. 1</td>\n",
       "      <td>0.0</td>\n",
       "    </tr>\n",
       "    <tr>\n",
       "      <th>8092388</th>\n",
       "      <td>г. Москва, пр-кт. Ленинский, д. 69, к. 3</td>\n",
       "      <td>0.0</td>\n",
       "    </tr>\n",
       "  </tbody>\n",
       "</table>\n",
       "<p>32960 rows × 2 columns</p>\n",
       "</div>"
      ],
      "text/plain": [
       "                                                    address  area_nonli\n",
       "house_id                                                               \n",
       "8218518         г. Москва, г. Троицк, б-р. Сиреневый, д. 11  28411220.2\n",
       "9084016             г. Москва, г. Зеленоград, д. 1306, к. 1  23463435.0\n",
       "9068616   г. Москва, г. Зеленоград, ул. Радио, д. 2307, ...   3165644.0\n",
       "7618935           г. Москва, наб. Академика Туполева, д. 15    135524.7\n",
       "8663761                     г. Москва, ул. Михневская, д. 8    118679.1\n",
       "8091210                    г. Москва, ш. Хорошевское, д. 12     71211.8\n",
       "7550760                г. Москва, ул. Мосфильмовская, д. 70     68884.2\n",
       "7977692                     г. Москва, ул. Покрышкина, д. 8     53758.5\n",
       "8000797                   г. Москва, ул. Татарская Б., д. 7     53120.0\n",
       "9036432              г. Москва, пр-кт. Новоясеневский, д. 9     48715.0\n",
       "8205536             г. Москва, ул. Профсоюзная, д. 64, к. 2     46118.2\n",
       "9021057                       г. Москва, ул. Фадеева, д. 4а     43075.6\n",
       "7822898                  г. Москва, пер. Вятский 4-й, д. 35     42140.0\n",
       "7594831             г. Москва, ул. Воронцовские Пруды, д. 3     41021.0\n",
       "7550747                    г. Москва, пер. Чапаевский, д. 3     41006.7\n",
       "9079463                 г. Москва, ул. Пироговская М., д. 8     40870.0\n",
       "9099925            г. Москва, проезд. Береговой, д. 5, к. 2     37586.7\n",
       "7817810         г. Москва, ул. Новочеремушкинская, д. 71/32     37013.0\n",
       "8979953           г. Москва, пр-кт. Ленинский, д. 111, к. 1     35540.2\n",
       "8122652                  г. Москва, проезд. Погонный, д. 3А     34539.9\n",
       "7867323                 г. Москва, ул. Первомайская, д. 42.     32971.3\n",
       "8441216       г. Москва, пр-кт. Маршала Жукова, д. 76, к. 2     32872.0\n",
       "8217730                    г. Москва, ш. Рублевское, д. 107     30920.4\n",
       "7613729                  г. Москва, ул. Профсоюзная, д. 104     30564.6\n",
       "7717492                   г. Москва, ул. Серафимовича, д. 2     29872.2\n",
       "8177946                 г. Москва, пр-кт. Ленинский, д. 131     29871.0\n",
       "8288449        г. Москва, проезд. Шмитовский, д. 16, стр. 2     28805.7\n",
       "7593647                   г. Москва, ул. Улофа Пальме, д. 1     28590.5\n",
       "9105725                    г. Москва, г. Зеленоград, д. 534     26000.0\n",
       "8099398         г. Москва, ул. Зоологическая, д. 26, стр. 2     25548.6\n",
       "...                                                     ...         ...\n",
       "7647658                г. Москва, ул. Яхромская, д. 3, к. 4         0.0\n",
       "7647655                г. Москва, ул. Яхромская, д. 3, к. 3         0.0\n",
       "7647650                г. Москва, ул. Яхромская, д. 3, к. 2         0.0\n",
       "7647632                      г. Москва, ул. Учинская, д. 11         0.0\n",
       "7647626                 г. Москва, ул. Учинская, д. 1, к. A         0.0\n",
       "7647623             г. Москва, ул. Софьи Ковалевской, д. 18         0.0\n",
       "7864029            г. Москва, ул. Россошанская, д. 11, к. 1         0.0\n",
       "7822668                   г. Москва, ул. Башиловская, д. 28         0.0\n",
       "7705571              г. Москва, ш. Варшавское, д. 154, к. 2         0.0\n",
       "7864016             г. Москва, ул. Россошанская, д. 5, к. 2         0.0\n",
       "7822780                     г. Москва, ул. Бутырская, д. 19         0.0\n",
       "7961377              г. Москва, ул. Газопровод, д. 6г, к. 3         0.0\n",
       "7962090                 г. Москва, ул. Дорожная, д. 7, к. 2         0.0\n",
       "7962091                 г. Москва, ул. Дорожная, д. 7, к. 3         0.0\n",
       "7822737              г. Москва, ул. Бебеля 2-я, д. 38, к. 3         0.0\n",
       "7822734              г. Москва, ул. Бебеля 2-я, д. 38, к. 2         0.0\n",
       "7921788                г. Москва, ул. Дорожная, д. 28, к. 2         0.0\n",
       "7962275                г. Москва, ул. Дорожная, д. 30, к. 1         0.0\n",
       "7698654         г. Москва, проезд. Дорожный 3-й, д. 5, к. 1         0.0\n",
       "7553480             г. Москва, ул. Бебеля 1-я, д. 7, стр. а         0.0\n",
       "7963209          г. Москва, ул. Кировоградская, д. 40, к. 1         0.0\n",
       "7963210          г. Москва, ул. Кировоградская, д. 40, к. 2         0.0\n",
       "7963248          г. Москва, ул. Кировоградская, д. 44, к. 1         0.0\n",
       "7553473             г. Москва, ул. Бебеля 1-я, д. 3, стр. а         0.0\n",
       "7963392     г. Москва, ул. Подольских Курсантов, д. 4, к. 2         0.0\n",
       "7963426    г. Москва, ул. Подольских Курсантов, д. 18, к. 1         0.0\n",
       "7864002             г. Москва, ул. Россошанская, д. 2, к. 1         0.0\n",
       "7822676                   г. Москва, ул. Башиловская, д. 32         0.0\n",
       "7562199             г. Москва, ул. Россошанская, д. 5, к. 1         0.0\n",
       "8092388            г. Москва, пр-кт. Ленинский, д. 69, к. 3         0.0\n",
       "\n",
       "[32960 rows x 2 columns]"
      ]
     },
     "execution_count": 124,
     "metadata": {},
     "output_type": "execute_result"
    }
   ],
   "source": [
    "X1_sorted_by_nonli = X1_w_address.sort_values(\"area_nonli\", ascending=False)\n",
    "X1_sorted_by_nonli[[\"address\", \"area_nonli\"]] "
   ]
  },
  {
   "cell_type": "code",
   "execution_count": 125,
   "metadata": {
    "collapsed": false
   },
   "outputs": [
    {
     "data": {
      "text/html": [
       "<div>\n",
       "<style>\n",
       "    .dataframe thead tr:only-child th {\n",
       "        text-align: right;\n",
       "    }\n",
       "\n",
       "    .dataframe thead th {\n",
       "        text-align: left;\n",
       "    }\n",
       "\n",
       "    .dataframe tbody tr th {\n",
       "        vertical-align: top;\n",
       "    }\n",
       "</style>\n",
       "<table border=\"1\" class=\"dataframe\">\n",
       "  <thead>\n",
       "    <tr style=\"text-align: right;\">\n",
       "      <th></th>\n",
       "      <th>doors</th>\n",
       "      <th>area</th>\n",
       "      <th>area_live</th>\n",
       "      <th>area_nonli</th>\n",
       "      <th>area_gen</th>\n",
       "      <th>area_land</th>\n",
       "      <th>area_park</th>\n",
       "      <th>levels_int</th>\n",
       "      <th>year_int</th>\n",
       "      <th>servicedatUnix</th>\n",
       "      <th>...</th>\n",
       "      <th>type_is_ind_pr_l</th>\n",
       "      <th>type_is_khrushev</th>\n",
       "      <th>type_is_low_l</th>\n",
       "      <th>type_is_mod_ec</th>\n",
       "      <th>type_is_mod_prem</th>\n",
       "      <th>type_is_prerev</th>\n",
       "      <th>type_is_prestl</th>\n",
       "      <th>type_is_stl</th>\n",
       "      <th>is_renv</th>\n",
       "      <th>address</th>\n",
       "    </tr>\n",
       "    <tr>\n",
       "      <th>house_id</th>\n",
       "      <th></th>\n",
       "      <th></th>\n",
       "      <th></th>\n",
       "      <th></th>\n",
       "      <th></th>\n",
       "      <th></th>\n",
       "      <th></th>\n",
       "      <th></th>\n",
       "      <th></th>\n",
       "      <th></th>\n",
       "      <th></th>\n",
       "      <th></th>\n",
       "      <th></th>\n",
       "      <th></th>\n",
       "      <th></th>\n",
       "      <th></th>\n",
       "      <th></th>\n",
       "      <th></th>\n",
       "      <th></th>\n",
       "      <th></th>\n",
       "      <th></th>\n",
       "    </tr>\n",
       "  </thead>\n",
       "  <tbody>\n",
       "    <tr>\n",
       "      <th>7840062</th>\n",
       "      <td>4.0</td>\n",
       "      <td>9597.7</td>\n",
       "      <td>8004.3</td>\n",
       "      <td>1593.4</td>\n",
       "      <td>0.0</td>\n",
       "      <td>0.0</td>\n",
       "      <td>0.0</td>\n",
       "      <td>8.0</td>\n",
       "      <td>1959.0</td>\n",
       "      <td>1.270066e+09</td>\n",
       "      <td>...</td>\n",
       "      <td>0.0</td>\n",
       "      <td>0.0</td>\n",
       "      <td>0.0</td>\n",
       "      <td>0.0</td>\n",
       "      <td>0.0</td>\n",
       "      <td>0.0</td>\n",
       "      <td>0.0</td>\n",
       "      <td>0.0</td>\n",
       "      <td>0.0</td>\n",
       "      <td>г. Москва, ул. Академическая Б., д. 4</td>\n",
       "    </tr>\n",
       "    <tr>\n",
       "      <th>7840091</th>\n",
       "      <td>3.0</td>\n",
       "      <td>4688.1</td>\n",
       "      <td>3722.9</td>\n",
       "      <td>965.2</td>\n",
       "      <td>0.0</td>\n",
       "      <td>0.0</td>\n",
       "      <td>0.0</td>\n",
       "      <td>5.0</td>\n",
       "      <td>1959.0</td>\n",
       "      <td>1.270066e+09</td>\n",
       "      <td>...</td>\n",
       "      <td>0.0</td>\n",
       "      <td>1.0</td>\n",
       "      <td>0.0</td>\n",
       "      <td>0.0</td>\n",
       "      <td>0.0</td>\n",
       "      <td>0.0</td>\n",
       "      <td>0.0</td>\n",
       "      <td>0.0</td>\n",
       "      <td>0.0</td>\n",
       "      <td>г. Москва, ул. Академическая Б., д. 6, к. 1</td>\n",
       "    </tr>\n",
       "    <tr>\n",
       "      <th>7840108</th>\n",
       "      <td>3.0</td>\n",
       "      <td>1882.6</td>\n",
       "      <td>1882.6</td>\n",
       "      <td>0.0</td>\n",
       "      <td>0.0</td>\n",
       "      <td>0.0</td>\n",
       "      <td>0.0</td>\n",
       "      <td>5.0</td>\n",
       "      <td>1965.0</td>\n",
       "      <td>1.270066e+09</td>\n",
       "      <td>...</td>\n",
       "      <td>0.0</td>\n",
       "      <td>1.0</td>\n",
       "      <td>0.0</td>\n",
       "      <td>0.0</td>\n",
       "      <td>0.0</td>\n",
       "      <td>0.0</td>\n",
       "      <td>0.0</td>\n",
       "      <td>0.0</td>\n",
       "      <td>0.0</td>\n",
       "      <td>г. Москва, ул. Академическая Б., д. 6, к. 2</td>\n",
       "    </tr>\n",
       "    <tr>\n",
       "      <th>7840136</th>\n",
       "      <td>5.0</td>\n",
       "      <td>4480.6</td>\n",
       "      <td>4333.0</td>\n",
       "      <td>147.6</td>\n",
       "      <td>0.0</td>\n",
       "      <td>0.0</td>\n",
       "      <td>0.0</td>\n",
       "      <td>5.0</td>\n",
       "      <td>1957.0</td>\n",
       "      <td>1.270066e+09</td>\n",
       "      <td>...</td>\n",
       "      <td>0.0</td>\n",
       "      <td>1.0</td>\n",
       "      <td>0.0</td>\n",
       "      <td>0.0</td>\n",
       "      <td>0.0</td>\n",
       "      <td>0.0</td>\n",
       "      <td>0.0</td>\n",
       "      <td>0.0</td>\n",
       "      <td>0.0</td>\n",
       "      <td>г. Москва, ул. Академическая Б., д. 8, к. 1</td>\n",
       "    </tr>\n",
       "    <tr>\n",
       "      <th>7840164</th>\n",
       "      <td>5.0</td>\n",
       "      <td>4018.8</td>\n",
       "      <td>4018.8</td>\n",
       "      <td>0.0</td>\n",
       "      <td>0.0</td>\n",
       "      <td>0.0</td>\n",
       "      <td>0.0</td>\n",
       "      <td>5.0</td>\n",
       "      <td>1960.0</td>\n",
       "      <td>1.270066e+09</td>\n",
       "      <td>...</td>\n",
       "      <td>0.0</td>\n",
       "      <td>1.0</td>\n",
       "      <td>0.0</td>\n",
       "      <td>0.0</td>\n",
       "      <td>0.0</td>\n",
       "      <td>0.0</td>\n",
       "      <td>0.0</td>\n",
       "      <td>0.0</td>\n",
       "      <td>0.0</td>\n",
       "      <td>г. Москва, ул. Академическая Б., д. 8, к. 2</td>\n",
       "    </tr>\n",
       "  </tbody>\n",
       "</table>\n",
       "<p>5 rows × 38 columns</p>\n",
       "</div>"
      ],
      "text/plain": [
       "          doors    area  area_live  area_nonli  area_gen  area_land  \\\n",
       "house_id                                                              \n",
       "7840062     4.0  9597.7     8004.3      1593.4       0.0        0.0   \n",
       "7840091     3.0  4688.1     3722.9       965.2       0.0        0.0   \n",
       "7840108     3.0  1882.6     1882.6         0.0       0.0        0.0   \n",
       "7840136     5.0  4480.6     4333.0       147.6       0.0        0.0   \n",
       "7840164     5.0  4018.8     4018.8         0.0       0.0        0.0   \n",
       "\n",
       "          area_park  levels_int  year_int  servicedatUnix  \\\n",
       "house_id                                                    \n",
       "7840062         0.0         8.0    1959.0    1.270066e+09   \n",
       "7840091         0.0         5.0    1959.0    1.270066e+09   \n",
       "7840108         0.0         5.0    1965.0    1.270066e+09   \n",
       "7840136         0.0         5.0    1957.0    1.270066e+09   \n",
       "7840164         0.0         5.0    1960.0    1.270066e+09   \n",
       "\n",
       "                             ...                       type_is_ind_pr_l  \\\n",
       "house_id                     ...                                          \n",
       "7840062                      ...                                    0.0   \n",
       "7840091                      ...                                    0.0   \n",
       "7840108                      ...                                    0.0   \n",
       "7840136                      ...                                    0.0   \n",
       "7840164                      ...                                    0.0   \n",
       "\n",
       "          type_is_khrushev  type_is_low_l  type_is_mod_ec  type_is_mod_prem  \\\n",
       "house_id                                                                      \n",
       "7840062                0.0            0.0             0.0               0.0   \n",
       "7840091                1.0            0.0             0.0               0.0   \n",
       "7840108                1.0            0.0             0.0               0.0   \n",
       "7840136                1.0            0.0             0.0               0.0   \n",
       "7840164                1.0            0.0             0.0               0.0   \n",
       "\n",
       "          type_is_prerev  type_is_prestl  type_is_stl  is_renv  \\\n",
       "house_id                                                         \n",
       "7840062              0.0             0.0          0.0      0.0   \n",
       "7840091              0.0             0.0          0.0      0.0   \n",
       "7840108              0.0             0.0          0.0      0.0   \n",
       "7840136              0.0             0.0          0.0      0.0   \n",
       "7840164              0.0             0.0          0.0      0.0   \n",
       "\n",
       "                                              address  \n",
       "house_id                                               \n",
       "7840062         г. Москва, ул. Академическая Б., д. 4  \n",
       "7840091   г. Москва, ул. Академическая Б., д. 6, к. 1  \n",
       "7840108   г. Москва, ул. Академическая Б., д. 6, к. 2  \n",
       "7840136   г. Москва, ул. Академическая Б., д. 8, к. 1  \n",
       "7840164   г. Москва, ул. Академическая Б., д. 8, к. 2  \n",
       "\n",
       "[5 rows x 38 columns]"
      ]
     },
     "execution_count": 125,
     "metadata": {},
     "output_type": "execute_result"
    }
   ],
   "source": [
    "X1_w_address.head()"
   ]
  },
  {
   "cell_type": "markdown",
   "metadata": {},
   "source": [
    "### Дома с самой большой нежилой площадью в Москве\n",
    "\n",
    "г. Москва, г. Троицк, б-р. Сиреневый, д. 11 - выглядит как жилой дом( 28411220.2 )\n",
    "\n",
    "г. Москва, г. Зеленоград, д. 1306, к. 1 - тоже жилой дом(23463435.0)\n",
    "\n",
    "г. Москва, г. Зеленоград, ул. Радио, д. 23с7 площать с несколькими строениями, включая цвет торг(3165644.0)\n",
    "\n",
    "г. Москва, наб. Академика Туполева, д. 15 - большой жилой дом(135524.7)\n",
    "\n",
    "г. Москва, ул. Михневская, д. 8 - аналогично\n",
    "\n",
    "г. Москва, ш. Хорошевское, д. 12 - аналогично\n",
    "\n",
    "г. Москва, ул. Мосфильмовская, д. 70 - аналогично"
   ]
  },
  {
   "cell_type": "markdown",
   "metadata": {},
   "source": [
    "## Классфикация 5 районов с признаками 5 минутной доступности"
   ]
  },
  {
   "cell_type": "code",
   "execution_count": 155,
   "metadata": {
    "collapsed": true
   },
   "outputs": [],
   "source": [
    "min5servicies = pd.read_csv(\"houses_5_pol_5_min_services.csv\", sep=\";\")\n"
   ]
  },
  {
   "cell_type": "code",
   "execution_count": 156,
   "metadata": {
    "collapsed": false
   },
   "outputs": [
    {
     "data": {
      "text/html": [
       "<div>\n",
       "<style>\n",
       "    .dataframe thead tr:only-child th {\n",
       "        text-align: right;\n",
       "    }\n",
       "\n",
       "    .dataframe thead th {\n",
       "        text-align: left;\n",
       "    }\n",
       "\n",
       "    .dataframe tbody tr th {\n",
       "        vertical-align: top;\n",
       "    }\n",
       "</style>\n",
       "<table border=\"1\" class=\"dataframe\">\n",
       "  <thead>\n",
       "    <tr style=\"text-align: right;\">\n",
       "      <th></th>\n",
       "      <th>ref_gkh_id</th>\n",
       "      <th>lat</th>\n",
       "      <th>lon</th>\n",
       "      <th>house_id</th>\n",
       "      <th>doors</th>\n",
       "      <th>room_count</th>\n",
       "      <th>room_cou_1</th>\n",
       "      <th>room_cou_2</th>\n",
       "      <th>area</th>\n",
       "      <th>area_live</th>\n",
       "      <th>...</th>\n",
       "      <th>5_Food_serv</th>\n",
       "      <th>5_Entertain</th>\n",
       "      <th>5_Finance</th>\n",
       "      <th>5_Car_serv</th>\n",
       "      <th>5_Outdoor_spaces</th>\n",
       "      <th>5_Prof_serv</th>\n",
       "      <th>5_Retail</th>\n",
       "      <th>5_Admin</th>\n",
       "      <th>5_Everyday_serv</th>\n",
       "      <th>5_Transport</th>\n",
       "    </tr>\n",
       "  </thead>\n",
       "  <tbody>\n",
       "    <tr>\n",
       "      <th>0</th>\n",
       "      <td>16728</td>\n",
       "      <td>55.662334</td>\n",
       "      <td>37.605715</td>\n",
       "      <td>7579059</td>\n",
       "      <td>3</td>\n",
       "      <td>47</td>\n",
       "      <td>40</td>\n",
       "      <td>7</td>\n",
       "      <td>4484.80</td>\n",
       "      <td>2835.20</td>\n",
       "      <td>...</td>\n",
       "      <td>8</td>\n",
       "      <td>2</td>\n",
       "      <td>15</td>\n",
       "      <td>2</td>\n",
       "      <td>12</td>\n",
       "      <td>25</td>\n",
       "      <td>97</td>\n",
       "      <td>4</td>\n",
       "      <td>17</td>\n",
       "      <td>25</td>\n",
       "    </tr>\n",
       "    <tr>\n",
       "      <th>1</th>\n",
       "      <td>16729</td>\n",
       "      <td>55.660374</td>\n",
       "      <td>37.602049</td>\n",
       "      <td>8343061</td>\n",
       "      <td>5</td>\n",
       "      <td>239</td>\n",
       "      <td>РќРµ Р·Р°РїРѕР»РЅРµРЅРѕ</td>\n",
       "      <td>РќРµ Р·Р°РїРѕР»РЅРµРЅРѕ</td>\n",
       "      <td>11952.00</td>\n",
       "      <td>7802.00</td>\n",
       "      <td>...</td>\n",
       "      <td>6</td>\n",
       "      <td>3</td>\n",
       "      <td>8</td>\n",
       "      <td>3</td>\n",
       "      <td>8</td>\n",
       "      <td>20</td>\n",
       "      <td>69</td>\n",
       "      <td>4</td>\n",
       "      <td>14</td>\n",
       "      <td>15</td>\n",
       "    </tr>\n",
       "  </tbody>\n",
       "</table>\n",
       "<p>2 rows × 33 columns</p>\n",
       "</div>"
      ],
      "text/plain": [
       "   ref_gkh_id        lat        lon  house_id doors room_count  \\\n",
       "0       16728  55.662334  37.605715   7579059     3         47   \n",
       "1       16729  55.660374  37.602049   8343061     5        239   \n",
       "\n",
       "                room_cou_1               room_cou_2      area area_live  \\\n",
       "0                       40                        7   4484.80   2835.20   \n",
       "1  РќРµ Р·Р°РїРѕР»РЅРµРЅРѕ  РќРµ Р·Р°РїРѕР»РЅРµРЅРѕ  11952.00   7802.00   \n",
       "\n",
       "      ...      5_Food_serv 5_Entertain 5_Finance 5_Car_serv  5_Outdoor_spaces  \\\n",
       "0     ...                8           2        15          2                12   \n",
       "1     ...                6           3         8          3                 8   \n",
       "\n",
       "   5_Prof_serv 5_Retail  5_Admin  5_Everyday_serv  5_Transport  \n",
       "0           25       97        4               17           25  \n",
       "1           20       69        4               14           15  \n",
       "\n",
       "[2 rows x 33 columns]"
      ]
     },
     "execution_count": 156,
     "metadata": {},
     "output_type": "execute_result"
    }
   ],
   "source": [
    "min5servicies.head(2)"
   ]
  },
  {
   "cell_type": "code",
   "execution_count": 157,
   "metadata": {
    "collapsed": false
   },
   "outputs": [
    {
     "data": {
      "text/plain": [
       "Index(['ref_gkh_id', 'lat', 'lon', 'house_id', 'doors', 'room_count',\n",
       "       'room_cou_1', 'room_cou_2', 'area', 'area_live', 'area_nonli',\n",
       "       'area_gen', 'area_land', 'area_park', 'levels_int', 'year_int', 'type',\n",
       "       'hses_p5_id', '5_Art', '5_Edu', '5_Health', '5_Relig', '5_Admin_area',\n",
       "       '5_Food_serv', '5_Entertain', '5_Finance', '5_Car_serv',\n",
       "       '5_Outdoor_spaces', '5_Prof_serv', '5_Retail', '5_Admin',\n",
       "       '5_Everyday_serv', '5_Transport'],\n",
       "      dtype='object')"
      ]
     },
     "execution_count": 157,
     "metadata": {},
     "output_type": "execute_result"
    }
   ],
   "source": [
    "min5servicies.columns"
   ]
  },
  {
   "cell_type": "code",
   "execution_count": 158,
   "metadata": {
    "collapsed": false
   },
   "outputs": [],
   "source": [
    "X1_w_5min = X1_w_address.loc[list(min5servicies[\"house_id\"])]"
   ]
  },
  {
   "cell_type": "code",
   "execution_count": 159,
   "metadata": {
    "collapsed": false
   },
   "outputs": [],
   "source": [
    "min5feature = [feature for feature in list(min5servicies.columns) if \"5\" in feature and feature not in ['5_Art', '5_Relig', '5_Admin_area']][1:]"
   ]
  },
  {
   "cell_type": "code",
   "execution_count": 160,
   "metadata": {
    "collapsed": false
   },
   "outputs": [
    {
     "data": {
      "text/html": [
       "<div>\n",
       "<style>\n",
       "    .dataframe thead tr:only-child th {\n",
       "        text-align: right;\n",
       "    }\n",
       "\n",
       "    .dataframe thead th {\n",
       "        text-align: left;\n",
       "    }\n",
       "\n",
       "    .dataframe tbody tr th {\n",
       "        vertical-align: top;\n",
       "    }\n",
       "</style>\n",
       "<table border=\"1\" class=\"dataframe\">\n",
       "  <thead>\n",
       "    <tr style=\"text-align: right;\">\n",
       "      <th></th>\n",
       "      <th>ref_gkh_id</th>\n",
       "      <th>lat</th>\n",
       "      <th>lon</th>\n",
       "      <th>doors</th>\n",
       "      <th>room_count</th>\n",
       "      <th>room_cou_1</th>\n",
       "      <th>room_cou_2</th>\n",
       "      <th>area</th>\n",
       "      <th>area_live</th>\n",
       "      <th>area_nonli</th>\n",
       "      <th>...</th>\n",
       "      <th>5_Food_serv</th>\n",
       "      <th>5_Entertain</th>\n",
       "      <th>5_Finance</th>\n",
       "      <th>5_Car_serv</th>\n",
       "      <th>5_Outdoor_spaces</th>\n",
       "      <th>5_Prof_serv</th>\n",
       "      <th>5_Retail</th>\n",
       "      <th>5_Admin</th>\n",
       "      <th>5_Everyday_serv</th>\n",
       "      <th>5_Transport</th>\n",
       "    </tr>\n",
       "    <tr>\n",
       "      <th>house_id</th>\n",
       "      <th></th>\n",
       "      <th></th>\n",
       "      <th></th>\n",
       "      <th></th>\n",
       "      <th></th>\n",
       "      <th></th>\n",
       "      <th></th>\n",
       "      <th></th>\n",
       "      <th></th>\n",
       "      <th></th>\n",
       "      <th></th>\n",
       "      <th></th>\n",
       "      <th></th>\n",
       "      <th></th>\n",
       "      <th></th>\n",
       "      <th></th>\n",
       "      <th></th>\n",
       "      <th></th>\n",
       "      <th></th>\n",
       "      <th></th>\n",
       "      <th></th>\n",
       "    </tr>\n",
       "  </thead>\n",
       "  <tbody>\n",
       "    <tr>\n",
       "      <th>7579059</th>\n",
       "      <td>16728</td>\n",
       "      <td>55.662334</td>\n",
       "      <td>37.605715</td>\n",
       "      <td>3</td>\n",
       "      <td>47</td>\n",
       "      <td>40</td>\n",
       "      <td>7</td>\n",
       "      <td>4484.80</td>\n",
       "      <td>2835.20</td>\n",
       "      <td>1649.60</td>\n",
       "      <td>...</td>\n",
       "      <td>8</td>\n",
       "      <td>2</td>\n",
       "      <td>15</td>\n",
       "      <td>2</td>\n",
       "      <td>12</td>\n",
       "      <td>25</td>\n",
       "      <td>97</td>\n",
       "      <td>4</td>\n",
       "      <td>17</td>\n",
       "      <td>25</td>\n",
       "    </tr>\n",
       "    <tr>\n",
       "      <th>8343061</th>\n",
       "      <td>16729</td>\n",
       "      <td>55.660374</td>\n",
       "      <td>37.602049</td>\n",
       "      <td>5</td>\n",
       "      <td>239</td>\n",
       "      <td>РќРµ Р·Р°РїРѕР»РЅРµРЅРѕ</td>\n",
       "      <td>РќРµ Р·Р°РїРѕР»РЅРµРЅРѕ</td>\n",
       "      <td>11952.00</td>\n",
       "      <td>7802.00</td>\n",
       "      <td>РќРµР·Р°РїРѕР»РЅРµРЅРѕ</td>\n",
       "      <td>...</td>\n",
       "      <td>6</td>\n",
       "      <td>3</td>\n",
       "      <td>8</td>\n",
       "      <td>3</td>\n",
       "      <td>8</td>\n",
       "      <td>20</td>\n",
       "      <td>69</td>\n",
       "      <td>4</td>\n",
       "      <td>14</td>\n",
       "      <td>15</td>\n",
       "    </tr>\n",
       "  </tbody>\n",
       "</table>\n",
       "<p>2 rows × 32 columns</p>\n",
       "</div>"
      ],
      "text/plain": [
       "          ref_gkh_id        lat        lon doors room_count  \\\n",
       "house_id                                                      \n",
       "7579059        16728  55.662334  37.605715     3         47   \n",
       "8343061        16729  55.660374  37.602049     5        239   \n",
       "\n",
       "                       room_cou_1               room_cou_2      area  \\\n",
       "house_id                                                               \n",
       "7579059                        40                        7   4484.80   \n",
       "8343061   РќРµ Р·Р°РїРѕР»РЅРµРЅРѕ  РќРµ Р·Р°РїРѕР»РЅРµРЅРѕ  11952.00   \n",
       "\n",
       "         area_live              area_nonli     ...      5_Food_serv  \\\n",
       "house_id                                       ...                    \n",
       "7579059    2835.20                 1649.60     ...                8   \n",
       "8343061    7802.00  РќРµР·Р°РїРѕР»РЅРµРЅРѕ     ...                6   \n",
       "\n",
       "         5_Entertain 5_Finance  5_Car_serv  5_Outdoor_spaces 5_Prof_serv  \\\n",
       "house_id                                                                   \n",
       "7579059            2        15           2                12          25   \n",
       "8343061            3         8           3                 8          20   \n",
       "\n",
       "          5_Retail  5_Admin  5_Everyday_serv  5_Transport  \n",
       "house_id                                                   \n",
       "7579059         97        4               17           25  \n",
       "8343061         69        4               14           15  \n",
       "\n",
       "[2 rows x 32 columns]"
      ]
     },
     "execution_count": 160,
     "metadata": {},
     "output_type": "execute_result"
    }
   ],
   "source": [
    "min5servicies.set_index(\"house_id\", inplace=True)\n",
    "min5servicies.head(2)"
   ]
  },
  {
   "cell_type": "code",
   "execution_count": 161,
   "metadata": {
    "collapsed": false
   },
   "outputs": [
    {
     "data": {
      "text/html": [
       "<div>\n",
       "<style>\n",
       "    .dataframe thead tr:only-child th {\n",
       "        text-align: right;\n",
       "    }\n",
       "\n",
       "    .dataframe thead th {\n",
       "        text-align: left;\n",
       "    }\n",
       "\n",
       "    .dataframe tbody tr th {\n",
       "        vertical-align: top;\n",
       "    }\n",
       "</style>\n",
       "<table border=\"1\" class=\"dataframe\">\n",
       "  <thead>\n",
       "    <tr style=\"text-align: right;\">\n",
       "      <th></th>\n",
       "      <th>doors</th>\n",
       "      <th>area</th>\n",
       "      <th>area_live</th>\n",
       "      <th>area_nonli</th>\n",
       "      <th>area_gen</th>\n",
       "      <th>area_land</th>\n",
       "      <th>area_park</th>\n",
       "      <th>levels_int</th>\n",
       "      <th>year_int</th>\n",
       "      <th>servicedatUnix</th>\n",
       "      <th>...</th>\n",
       "      <th>type_is_ind_pr_l</th>\n",
       "      <th>type_is_khrushev</th>\n",
       "      <th>type_is_low_l</th>\n",
       "      <th>type_is_mod_ec</th>\n",
       "      <th>type_is_mod_prem</th>\n",
       "      <th>type_is_prerev</th>\n",
       "      <th>type_is_prestl</th>\n",
       "      <th>type_is_stl</th>\n",
       "      <th>is_renv</th>\n",
       "      <th>address</th>\n",
       "    </tr>\n",
       "    <tr>\n",
       "      <th>house_id</th>\n",
       "      <th></th>\n",
       "      <th></th>\n",
       "      <th></th>\n",
       "      <th></th>\n",
       "      <th></th>\n",
       "      <th></th>\n",
       "      <th></th>\n",
       "      <th></th>\n",
       "      <th></th>\n",
       "      <th></th>\n",
       "      <th></th>\n",
       "      <th></th>\n",
       "      <th></th>\n",
       "      <th></th>\n",
       "      <th></th>\n",
       "      <th></th>\n",
       "      <th></th>\n",
       "      <th></th>\n",
       "      <th></th>\n",
       "      <th></th>\n",
       "      <th></th>\n",
       "    </tr>\n",
       "  </thead>\n",
       "  <tbody>\n",
       "    <tr>\n",
       "      <th>7579059</th>\n",
       "      <td>3.0</td>\n",
       "      <td>4484.8</td>\n",
       "      <td>2835.2</td>\n",
       "      <td>1649.6</td>\n",
       "      <td>0.0</td>\n",
       "      <td>0.0</td>\n",
       "      <td>0.0</td>\n",
       "      <td>5.0</td>\n",
       "      <td>1955.0</td>\n",
       "      <td>1.435698e+09</td>\n",
       "      <td>...</td>\n",
       "      <td>0.0</td>\n",
       "      <td>0.0</td>\n",
       "      <td>0.0</td>\n",
       "      <td>0.0</td>\n",
       "      <td>0.0</td>\n",
       "      <td>0.0</td>\n",
       "      <td>0.0</td>\n",
       "      <td>1.0</td>\n",
       "      <td>0.0</td>\n",
       "      <td>г. Москва, ул. Азовская, д. 3</td>\n",
       "    </tr>\n",
       "    <tr>\n",
       "      <th>8343061</th>\n",
       "      <td>5.0</td>\n",
       "      <td>11952.0</td>\n",
       "      <td>7802.0</td>\n",
       "      <td>2452.0</td>\n",
       "      <td>4008.0</td>\n",
       "      <td>1925.0</td>\n",
       "      <td>138.0</td>\n",
       "      <td>12.0</td>\n",
       "      <td>1971.0</td>\n",
       "      <td>1.305964e+09</td>\n",
       "      <td>...</td>\n",
       "      <td>0.0</td>\n",
       "      <td>0.0</td>\n",
       "      <td>0.0</td>\n",
       "      <td>0.0</td>\n",
       "      <td>0.0</td>\n",
       "      <td>0.0</td>\n",
       "      <td>0.0</td>\n",
       "      <td>0.0</td>\n",
       "      <td>0.0</td>\n",
       "      <td>г. Москва, ул. Азовская, д. 4</td>\n",
       "    </tr>\n",
       "    <tr>\n",
       "      <th>7580908</th>\n",
       "      <td>3.0</td>\n",
       "      <td>2652.9</td>\n",
       "      <td>2340.1</td>\n",
       "      <td>312.8</td>\n",
       "      <td>0.0</td>\n",
       "      <td>0.0</td>\n",
       "      <td>0.0</td>\n",
       "      <td>5.0</td>\n",
       "      <td>1958.0</td>\n",
       "      <td>1.435698e+09</td>\n",
       "      <td>...</td>\n",
       "      <td>0.0</td>\n",
       "      <td>1.0</td>\n",
       "      <td>0.0</td>\n",
       "      <td>0.0</td>\n",
       "      <td>0.0</td>\n",
       "      <td>0.0</td>\n",
       "      <td>0.0</td>\n",
       "      <td>0.0</td>\n",
       "      <td>0.0</td>\n",
       "      <td>г. Москва, ул. Азовская, д. 6, к. 1</td>\n",
       "    </tr>\n",
       "    <tr>\n",
       "      <th>8038760</th>\n",
       "      <td>2.0</td>\n",
       "      <td>1797.7</td>\n",
       "      <td>1604.6</td>\n",
       "      <td>259.3</td>\n",
       "      <td>0.0</td>\n",
       "      <td>0.0</td>\n",
       "      <td>0.0</td>\n",
       "      <td>5.0</td>\n",
       "      <td>1959.0</td>\n",
       "      <td>1.435698e+09</td>\n",
       "      <td>...</td>\n",
       "      <td>0.0</td>\n",
       "      <td>1.0</td>\n",
       "      <td>0.0</td>\n",
       "      <td>0.0</td>\n",
       "      <td>0.0</td>\n",
       "      <td>0.0</td>\n",
       "      <td>0.0</td>\n",
       "      <td>0.0</td>\n",
       "      <td>0.0</td>\n",
       "      <td>г. Москва, ул. Азовская, д. 6, к. 2</td>\n",
       "    </tr>\n",
       "    <tr>\n",
       "      <th>8038764</th>\n",
       "      <td>1.0</td>\n",
       "      <td>2586.7</td>\n",
       "      <td>2586.7</td>\n",
       "      <td>0.0</td>\n",
       "      <td>0.0</td>\n",
       "      <td>0.0</td>\n",
       "      <td>0.0</td>\n",
       "      <td>9.0</td>\n",
       "      <td>1963.0</td>\n",
       "      <td>1.435698e+09</td>\n",
       "      <td>...</td>\n",
       "      <td>0.0</td>\n",
       "      <td>0.0</td>\n",
       "      <td>0.0</td>\n",
       "      <td>0.0</td>\n",
       "      <td>0.0</td>\n",
       "      <td>0.0</td>\n",
       "      <td>0.0</td>\n",
       "      <td>0.0</td>\n",
       "      <td>0.0</td>\n",
       "      <td>г. Москва, ул. Азовская, д. 7, к. 1</td>\n",
       "    </tr>\n",
       "  </tbody>\n",
       "</table>\n",
       "<p>5 rows × 38 columns</p>\n",
       "</div>"
      ],
      "text/plain": [
       "          doors     area  area_live  area_nonli  area_gen  area_land  \\\n",
       "house_id                                                               \n",
       "7579059     3.0   4484.8     2835.2      1649.6       0.0        0.0   \n",
       "8343061     5.0  11952.0     7802.0      2452.0    4008.0     1925.0   \n",
       "7580908     3.0   2652.9     2340.1       312.8       0.0        0.0   \n",
       "8038760     2.0   1797.7     1604.6       259.3       0.0        0.0   \n",
       "8038764     1.0   2586.7     2586.7         0.0       0.0        0.0   \n",
       "\n",
       "          area_park  levels_int  year_int  servicedatUnix  \\\n",
       "house_id                                                    \n",
       "7579059         0.0         5.0    1955.0    1.435698e+09   \n",
       "8343061       138.0        12.0    1971.0    1.305964e+09   \n",
       "7580908         0.0         5.0    1958.0    1.435698e+09   \n",
       "8038760         0.0         5.0    1959.0    1.435698e+09   \n",
       "8038764         0.0         9.0    1963.0    1.435698e+09   \n",
       "\n",
       "                         ...                   type_is_ind_pr_l  \\\n",
       "house_id                 ...                                      \n",
       "7579059                  ...                                0.0   \n",
       "8343061                  ...                                0.0   \n",
       "7580908                  ...                                0.0   \n",
       "8038760                  ...                                0.0   \n",
       "8038764                  ...                                0.0   \n",
       "\n",
       "          type_is_khrushev  type_is_low_l  type_is_mod_ec  type_is_mod_prem  \\\n",
       "house_id                                                                      \n",
       "7579059                0.0            0.0             0.0               0.0   \n",
       "8343061                0.0            0.0             0.0               0.0   \n",
       "7580908                1.0            0.0             0.0               0.0   \n",
       "8038760                1.0            0.0             0.0               0.0   \n",
       "8038764                0.0            0.0             0.0               0.0   \n",
       "\n",
       "          type_is_prerev  type_is_prestl  type_is_stl  is_renv  \\\n",
       "house_id                                                         \n",
       "7579059              0.0             0.0          1.0      0.0   \n",
       "8343061              0.0             0.0          0.0      0.0   \n",
       "7580908              0.0             0.0          0.0      0.0   \n",
       "8038760              0.0             0.0          0.0      0.0   \n",
       "8038764              0.0             0.0          0.0      0.0   \n",
       "\n",
       "                                      address  \n",
       "house_id                                       \n",
       "7579059         г. Москва, ул. Азовская, д. 3  \n",
       "8343061         г. Москва, ул. Азовская, д. 4  \n",
       "7580908   г. Москва, ул. Азовская, д. 6, к. 1  \n",
       "8038760   г. Москва, ул. Азовская, д. 6, к. 2  \n",
       "8038764   г. Москва, ул. Азовская, д. 7, к. 1  \n",
       "\n",
       "[5 rows x 38 columns]"
      ]
     },
     "execution_count": 161,
     "metadata": {},
     "output_type": "execute_result"
    }
   ],
   "source": [
    "X1_w_5min.head()"
   ]
  },
  {
   "cell_type": "code",
   "execution_count": 164,
   "metadata": {
    "collapsed": false
   },
   "outputs": [],
   "source": [
    "X1_w_5min = pd.concat((X1_w_5min, min5servicies[min5feature]), axis=1)"
   ]
  },
  {
   "cell_type": "code",
   "execution_count": 165,
   "metadata": {
    "collapsed": true
   },
   "outputs": [],
   "source": [
    "Z, y = getZy(X1_w_5min)"
   ]
  },
  {
   "cell_type": "code",
   "execution_count": 219,
   "metadata": {
    "collapsed": false
   },
   "outputs": [
    {
     "name": "stdout",
     "output_type": "stream",
     "text": [
      "[LibLinear]\n",
      "f1_score:  0.942857142857\n"
     ]
    }
   ],
   "source": [
    "lr = logReg(Z, y, l=\"l1\", solver=\"liblinear\", c=10)"
   ]
  },
  {
   "cell_type": "code",
   "execution_count": 220,
   "metadata": {
    "collapsed": false
   },
   "outputs": [
    {
     "data": {
      "text/html": [
       "\n",
       "    <style>\n",
       "    table.eli5-weights tr:hover {\n",
       "        filter: brightness(85%);\n",
       "    }\n",
       "</style>\n",
       "\n",
       "\n",
       "\n",
       "    \n",
       "\n",
       "    \n",
       "\n",
       "    \n",
       "\n",
       "    \n",
       "\n",
       "    \n",
       "\n",
       "    \n",
       "\n",
       "\n",
       "    \n",
       "\n",
       "    \n",
       "\n",
       "    \n",
       "\n",
       "    \n",
       "        \n",
       "\n",
       "    \n",
       "\n",
       "        \n",
       "            \n",
       "                \n",
       "                \n",
       "    \n",
       "        <p style=\"margin-bottom: 0.5em; margin-top: 0em\">\n",
       "            <b>\n",
       "    \n",
       "        y=1.0\n",
       "    \n",
       "</b>\n",
       "\n",
       "top features\n",
       "        </p>\n",
       "    \n",
       "    <table class=\"eli5-weights\"\n",
       "           style=\"border-collapse: collapse; border: none; margin-top: 0em; table-layout: auto; margin-bottom: 2em;\">\n",
       "        <thead>\n",
       "        <tr style=\"border: none;\">\n",
       "            \n",
       "                <th style=\"padding: 0 1em 0 0.5em; text-align: right; border: none;\" title=\"Feature weights. Note that weights do not account for feature value scales, so if feature values have different scales, features with highest weights might not be the most important.\">\n",
       "                    Weight<sup>?</sup>\n",
       "                </th>\n",
       "            \n",
       "            <th style=\"padding: 0 0.5em 0 0.5em; text-align: left; border: none;\">Feature</th>\n",
       "            \n",
       "        </tr>\n",
       "        </thead>\n",
       "        <tbody>\n",
       "        \n",
       "            <tr style=\"background-color: hsl(120, 100.00%, 90.18%); border: none;\">\n",
       "    <td style=\"padding: 0 1em 0 0.5em; text-align: right; border: none;\">\n",
       "        +4.860\n",
       "    </td>\n",
       "    <td style=\"padding: 0 0.5em 0 0.5em; text-align: left; border: none;\">\n",
       "        type_is_low_l\n",
       "    </td>\n",
       "    \n",
       "</tr>\n",
       "        \n",
       "            <tr style=\"background-color: hsl(120, 100.00%, 91.36%); border: none;\">\n",
       "    <td style=\"padding: 0 1em 0 0.5em; text-align: right; border: none;\">\n",
       "        +4.043\n",
       "    </td>\n",
       "    <td style=\"padding: 0 0.5em 0 0.5em; text-align: left; border: none;\">\n",
       "        type_is_khrushev\n",
       "    </td>\n",
       "    \n",
       "</tr>\n",
       "        \n",
       "            <tr style=\"background-color: hsl(120, 100.00%, 93.70%); border: none;\">\n",
       "    <td style=\"padding: 0 1em 0 0.5em; text-align: right; border: none;\">\n",
       "        +2.579\n",
       "    </td>\n",
       "    <td style=\"padding: 0 0.5em 0 0.5em; text-align: left; border: none;\">\n",
       "        blag_sport_is_Не имеется\n",
       "    </td>\n",
       "    \n",
       "</tr>\n",
       "        \n",
       "            <tr style=\"background-color: hsl(120, 100.00%, 94.27%); border: none;\">\n",
       "    <td style=\"padding: 0 1em 0 0.5em; text-align: right; border: none;\">\n",
       "        +2.248\n",
       "    </td>\n",
       "    <td style=\"padding: 0 0.5em 0 0.5em; text-align: left; border: none;\">\n",
       "        type_is_prestl\n",
       "    </td>\n",
       "    \n",
       "</tr>\n",
       "        \n",
       "            <tr style=\"background-color: hsl(120, 100.00%, 94.89%); border: none;\">\n",
       "    <td style=\"padding: 0 1em 0 0.5em; text-align: right; border: none;\">\n",
       "        +1.908\n",
       "    </td>\n",
       "    <td style=\"padding: 0 0.5em 0 0.5em; text-align: left; border: none;\">\n",
       "        energy_cla_is_A\n",
       "    </td>\n",
       "    \n",
       "</tr>\n",
       "        \n",
       "            <tr style=\"background-color: hsl(120, 100.00%, 95.68%); border: none;\">\n",
       "    <td style=\"padding: 0 1em 0 0.5em; text-align: right; border: none;\">\n",
       "        +1.503\n",
       "    </td>\n",
       "    <td style=\"padding: 0 0.5em 0 0.5em; text-align: left; border: none;\">\n",
       "        blag_sport_is_Имеется\n",
       "    </td>\n",
       "    \n",
       "</tr>\n",
       "        \n",
       "            <tr style=\"background-color: hsl(120, 100.00%, 97.97%); border: none;\">\n",
       "    <td style=\"padding: 0 1em 0 0.5em; text-align: right; border: none;\">\n",
       "        +0.513\n",
       "    </td>\n",
       "    <td style=\"padding: 0 0.5em 0 0.5em; text-align: left; border: none;\">\n",
       "        doors\n",
       "    </td>\n",
       "    \n",
       "</tr>\n",
       "        \n",
       "            <tr style=\"background-color: hsl(120, 100.00%, 99.12%); border: none;\">\n",
       "    <td style=\"padding: 0 1em 0 0.5em; text-align: right; border: none;\">\n",
       "        +0.154\n",
       "    </td>\n",
       "    <td style=\"padding: 0 0.5em 0 0.5em; text-align: left; border: none;\">\n",
       "        5_Entertain\n",
       "    </td>\n",
       "    \n",
       "</tr>\n",
       "        \n",
       "            <tr style=\"background-color: hsl(120, 100.00%, 99.19%); border: none;\">\n",
       "    <td style=\"padding: 0 1em 0 0.5em; text-align: right; border: none;\">\n",
       "        +0.136\n",
       "    </td>\n",
       "    <td style=\"padding: 0 0.5em 0 0.5em; text-align: left; border: none;\">\n",
       "        energy_cla_is_D\n",
       "    </td>\n",
       "    \n",
       "</tr>\n",
       "        \n",
       "            <tr style=\"background-color: hsl(120, 100.00%, 99.34%); border: none;\">\n",
       "    <td style=\"padding: 0 1em 0 0.5em; text-align: right; border: none;\">\n",
       "        +0.102\n",
       "    </td>\n",
       "    <td style=\"padding: 0 0.5em 0 0.5em; text-align: left; border: none;\">\n",
       "        blag_playg_is_Имеется\n",
       "    </td>\n",
       "    \n",
       "</tr>\n",
       "        \n",
       "            <tr style=\"background-color: hsl(120, 100.00%, 99.66%); border: none;\">\n",
       "    <td style=\"padding: 0 1em 0 0.5em; text-align: right; border: none;\">\n",
       "        +0.039\n",
       "    </td>\n",
       "    <td style=\"padding: 0 0.5em 0 0.5em; text-align: left; border: none;\">\n",
       "        5_Food_serv\n",
       "    </td>\n",
       "    \n",
       "</tr>\n",
       "        \n",
       "            <tr style=\"background-color: hsl(120, 100.00%, 99.75%); border: none;\">\n",
       "    <td style=\"padding: 0 1em 0 0.5em; text-align: right; border: none;\">\n",
       "        +0.025\n",
       "    </td>\n",
       "    <td style=\"padding: 0 0.5em 0 0.5em; text-align: left; border: none;\">\n",
       "        5_Prof_serv\n",
       "    </td>\n",
       "    \n",
       "</tr>\n",
       "        \n",
       "            <tr style=\"background-color: hsl(120, 100.00%, 99.82%); border: none;\">\n",
       "    <td style=\"padding: 0 1em 0 0.5em; text-align: right; border: none;\">\n",
       "        +0.016\n",
       "    </td>\n",
       "    <td style=\"padding: 0 0.5em 0 0.5em; text-align: left; border: none;\">\n",
       "        5_Health\n",
       "    </td>\n",
       "    \n",
       "</tr>\n",
       "        \n",
       "            <tr style=\"background-color: hsl(120, 100.00%, 99.98%); border: none;\">\n",
       "    <td style=\"padding: 0 1em 0 0.5em; text-align: right; border: none;\">\n",
       "        +0.001\n",
       "    </td>\n",
       "    <td style=\"padding: 0 0.5em 0 0.5em; text-align: left; border: none;\">\n",
       "        area_live\n",
       "    </td>\n",
       "    \n",
       "</tr>\n",
       "        \n",
       "            <tr style=\"background-color: hsl(120, 100.00%, 99.99%); border: none;\">\n",
       "    <td style=\"padding: 0 1em 0 0.5em; text-align: right; border: none;\">\n",
       "        +0.000\n",
       "    </td>\n",
       "    <td style=\"padding: 0 0.5em 0 0.5em; text-align: left; border: none;\">\n",
       "        area_gen\n",
       "    </td>\n",
       "    \n",
       "</tr>\n",
       "        \n",
       "            <tr style=\"background-color: hsl(120, 100.00%, 100.00%); border: none;\">\n",
       "    <td style=\"padding: 0 1em 0 0.5em; text-align: right; border: none;\">\n",
       "        +0.000\n",
       "    </td>\n",
       "    <td style=\"padding: 0 0.5em 0 0.5em; text-align: left; border: none;\">\n",
       "        servicedatUnix\n",
       "    </td>\n",
       "    \n",
       "</tr>\n",
       "        \n",
       "        \n",
       "\n",
       "        \n",
       "        \n",
       "            <tr style=\"background-color: hsl(0, 100.00%, 99.98%); border: none;\">\n",
       "    <td style=\"padding: 0 1em 0 0.5em; text-align: right; border: none;\">\n",
       "        -0.000\n",
       "    </td>\n",
       "    <td style=\"padding: 0 0.5em 0 0.5em; text-align: left; border: none;\">\n",
       "        area\n",
       "    </td>\n",
       "    \n",
       "</tr>\n",
       "        \n",
       "            <tr style=\"background-color: hsl(0, 100.00%, 99.98%); border: none;\">\n",
       "    <td style=\"padding: 0 1em 0 0.5em; text-align: right; border: none;\">\n",
       "        -0.001\n",
       "    </td>\n",
       "    <td style=\"padding: 0 0.5em 0 0.5em; text-align: left; border: none;\">\n",
       "        area_park\n",
       "    </td>\n",
       "    \n",
       "</tr>\n",
       "        \n",
       "            <tr style=\"background-color: hsl(0, 100.00%, 99.98%); border: none;\">\n",
       "    <td style=\"padding: 0 1em 0 0.5em; text-align: right; border: none;\">\n",
       "        -0.001\n",
       "    </td>\n",
       "    <td style=\"padding: 0 0.5em 0 0.5em; text-align: left; border: none;\">\n",
       "        area_nonli\n",
       "    </td>\n",
       "    \n",
       "</tr>\n",
       "        \n",
       "            <tr style=\"background-color: hsl(0, 100.00%, 99.98%); border: none;\">\n",
       "    <td style=\"padding: 0 1em 0 0.5em; text-align: right; border: none;\">\n",
       "        -0.001\n",
       "    </td>\n",
       "    <td style=\"padding: 0 0.5em 0 0.5em; text-align: left; border: none;\">\n",
       "        area_land\n",
       "    </td>\n",
       "    \n",
       "</tr>\n",
       "        \n",
       "            <tr style=\"background-color: hsl(0, 100.00%, 99.98%); border: none;\">\n",
       "    <td style=\"padding: 0 1em 0 0.5em; text-align: right; border: none;\">\n",
       "        -0.001\n",
       "    </td>\n",
       "    <td style=\"padding: 0 0.5em 0 0.5em; text-align: left; border: none;\">\n",
       "        year_int\n",
       "    </td>\n",
       "    \n",
       "</tr>\n",
       "        \n",
       "            <tr style=\"background-color: hsl(0, 100.00%, 99.93%); border: none;\">\n",
       "    <td style=\"padding: 0 1em 0 0.5em; text-align: right; border: none;\">\n",
       "        -0.004\n",
       "    </td>\n",
       "    <td style=\"padding: 0 0.5em 0 0.5em; text-align: left; border: none;\">\n",
       "        5_Transport\n",
       "    </td>\n",
       "    \n",
       "</tr>\n",
       "        \n",
       "            <tr style=\"background-color: hsl(0, 100.00%, 99.92%); border: none;\">\n",
       "    <td style=\"padding: 0 1em 0 0.5em; text-align: right; border: none;\">\n",
       "        -0.005\n",
       "    </td>\n",
       "    <td style=\"padding: 0 0.5em 0 0.5em; text-align: left; border: none;\">\n",
       "        5_Retail\n",
       "    </td>\n",
       "    \n",
       "</tr>\n",
       "        \n",
       "            <tr style=\"background-color: hsl(0, 100.00%, 99.72%); border: none;\">\n",
       "    <td style=\"padding: 0 1em 0 0.5em; text-align: right; border: none;\">\n",
       "        -0.030\n",
       "    </td>\n",
       "    <td style=\"padding: 0 0.5em 0 0.5em; text-align: left; border: none;\">\n",
       "        5_Car_serv\n",
       "    </td>\n",
       "    \n",
       "</tr>\n",
       "        \n",
       "            <tr style=\"background-color: hsl(0, 100.00%, 99.59%); border: none;\">\n",
       "    <td style=\"padding: 0 1em 0 0.5em; text-align: right; border: none;\">\n",
       "        -0.053\n",
       "    </td>\n",
       "    <td style=\"padding: 0 0.5em 0 0.5em; text-align: left; border: none;\">\n",
       "        5_Edu\n",
       "    </td>\n",
       "    \n",
       "</tr>\n",
       "        \n",
       "            <tr style=\"background-color: hsl(0, 100.00%, 99.48%); border: none;\">\n",
       "    <td style=\"padding: 0 1em 0 0.5em; text-align: right; border: none;\">\n",
       "        -0.073\n",
       "    </td>\n",
       "    <td style=\"padding: 0 0.5em 0 0.5em; text-align: left; border: none;\">\n",
       "        5_Finance\n",
       "    </td>\n",
       "    \n",
       "</tr>\n",
       "        \n",
       "            <tr style=\"background-color: hsl(0, 100.00%, 99.45%); border: none;\">\n",
       "    <td style=\"padding: 0 1em 0 0.5em; text-align: right; border: none;\">\n",
       "        -0.080\n",
       "    </td>\n",
       "    <td style=\"padding: 0 0.5em 0 0.5em; text-align: left; border: none;\">\n",
       "        5_Everyday_serv\n",
       "    </td>\n",
       "    \n",
       "</tr>\n",
       "        \n",
       "            <tr style=\"background-color: hsl(0, 100.00%, 99.29%); border: none;\">\n",
       "    <td style=\"padding: 0 1em 0 0.5em; text-align: right; border: none;\">\n",
       "        -0.113\n",
       "    </td>\n",
       "    <td style=\"padding: 0 0.5em 0 0.5em; text-align: left; border: none;\">\n",
       "        type_is_stl\n",
       "    </td>\n",
       "    \n",
       "</tr>\n",
       "        \n",
       "            <tr style=\"background-color: hsl(0, 100.00%, 99.27%); border: none;\">\n",
       "    <td style=\"padding: 0 1em 0 0.5em; text-align: right; border: none;\">\n",
       "        -0.118\n",
       "    </td>\n",
       "    <td style=\"padding: 0 0.5em 0 0.5em; text-align: left; border: none;\">\n",
       "        5_Admin\n",
       "    </td>\n",
       "    \n",
       "</tr>\n",
       "        \n",
       "            <tr style=\"background-color: hsl(0, 100.00%, 98.94%); border: none;\">\n",
       "    <td style=\"padding: 0 1em 0 0.5em; text-align: right; border: none;\">\n",
       "        -0.202\n",
       "    </td>\n",
       "    <td style=\"padding: 0 0.5em 0 0.5em; text-align: left; border: none;\">\n",
       "        5_Outdoor_spaces\n",
       "    </td>\n",
       "    \n",
       "</tr>\n",
       "        \n",
       "            <tr style=\"background-color: hsl(0, 100.00%, 98.88%); border: none;\">\n",
       "    <td style=\"padding: 0 1em 0 0.5em; text-align: right; border: none;\">\n",
       "        -0.218\n",
       "    </td>\n",
       "    <td style=\"padding: 0 0.5em 0 0.5em; text-align: left; border: none;\">\n",
       "        blag_playg_is_Не имеется\n",
       "    </td>\n",
       "    \n",
       "</tr>\n",
       "        \n",
       "            <tr style=\"background-color: hsl(0, 100.00%, 98.19%); border: none;\">\n",
       "    <td style=\"padding: 0 1em 0 0.5em; text-align: right; border: none;\">\n",
       "        -0.434\n",
       "    </td>\n",
       "    <td style=\"padding: 0 0.5em 0 0.5em; text-align: left; border: none;\">\n",
       "        energy_cla_is_E\n",
       "    </td>\n",
       "    \n",
       "</tr>\n",
       "        \n",
       "            <tr style=\"background-color: hsl(0, 100.00%, 97.81%); border: none;\">\n",
       "    <td style=\"padding: 0 1em 0 0.5em; text-align: right; border: none;\">\n",
       "        -0.570\n",
       "    </td>\n",
       "    <td style=\"padding: 0 0.5em 0 0.5em; text-align: left; border: none;\">\n",
       "        levels_int\n",
       "    </td>\n",
       "    \n",
       "</tr>\n",
       "        \n",
       "            <tr style=\"background-color: hsl(0, 100.00%, 96.85%); border: none;\">\n",
       "    <td style=\"padding: 0 1em 0 0.5em; text-align: right; border: none;\">\n",
       "        -0.959\n",
       "    </td>\n",
       "    <td style=\"padding: 0 0.5em 0 0.5em; text-align: left; border: none;\">\n",
       "        energy_cla_is_Не присвоен\n",
       "    </td>\n",
       "    \n",
       "</tr>\n",
       "        \n",
       "            <tr style=\"background-color: hsl(0, 100.00%, 93.82%); border: none;\">\n",
       "    <td style=\"padding: 0 1em 0 0.5em; text-align: right; border: none;\">\n",
       "        -2.509\n",
       "    </td>\n",
       "    <td style=\"padding: 0 0.5em 0 0.5em; text-align: left; border: none;\">\n",
       "        energy_cla_is_C\n",
       "    </td>\n",
       "    \n",
       "</tr>\n",
       "        \n",
       "            <tr style=\"background-color: hsl(0, 100.00%, 91.88%); border: none;\">\n",
       "    <td style=\"padding: 0 1em 0 0.5em; text-align: right; border: none;\">\n",
       "        -3.705\n",
       "    </td>\n",
       "    <td style=\"padding: 0 0.5em 0 0.5em; text-align: left; border: none;\">\n",
       "        type_is_ind_pr_l\n",
       "    </td>\n",
       "    \n",
       "</tr>\n",
       "        \n",
       "            <tr style=\"background-color: hsl(0, 100.00%, 91.64%); border: none;\">\n",
       "    <td style=\"padding: 0 1em 0 0.5em; text-align: right; border: none;\">\n",
       "        -3.860\n",
       "    </td>\n",
       "    <td style=\"padding: 0 0.5em 0 0.5em; text-align: left; border: none;\">\n",
       "        type_is_mod_prem\n",
       "    </td>\n",
       "    \n",
       "</tr>\n",
       "        \n",
       "            <tr style=\"background-color: hsl(0, 100.00%, 88.77%); border: none;\">\n",
       "    <td style=\"padding: 0 1em 0 0.5em; text-align: right; border: none;\">\n",
       "        -5.881\n",
       "    </td>\n",
       "    <td style=\"padding: 0 0.5em 0 0.5em; text-align: left; border: none;\">\n",
       "        house_type_is_Жилой дом блокированной застройки\n",
       "    </td>\n",
       "    \n",
       "</tr>\n",
       "        \n",
       "            <tr style=\"background-color: hsl(0, 100.00%, 86.71%); border: none;\">\n",
       "    <td style=\"padding: 0 1em 0 0.5em; text-align: right; border: none;\">\n",
       "        -7.486\n",
       "    </td>\n",
       "    <td style=\"padding: 0 0.5em 0 0.5em; text-align: left; border: none;\">\n",
       "        house_type_is_Многоквартирный дом\n",
       "    </td>\n",
       "    \n",
       "</tr>\n",
       "        \n",
       "            <tr style=\"background-color: hsl(0, 100.00%, 85.14%); border: none;\">\n",
       "    <td style=\"padding: 0 1em 0 0.5em; text-align: right; border: none;\">\n",
       "        -8.774\n",
       "    </td>\n",
       "    <td style=\"padding: 0 0.5em 0 0.5em; text-align: left; border: none;\">\n",
       "        type_is_brezhnev\n",
       "    </td>\n",
       "    \n",
       "</tr>\n",
       "        \n",
       "            <tr style=\"background-color: hsl(0, 100.00%, 80.00%); border: none;\">\n",
       "    <td style=\"padding: 0 1em 0 0.5em; text-align: right; border: none;\">\n",
       "        -13.417\n",
       "    </td>\n",
       "    <td style=\"padding: 0 0.5em 0 0.5em; text-align: left; border: none;\">\n",
       "        house_type_is_Специализированный жилищный фонд\n",
       "    </td>\n",
       "    \n",
       "</tr>\n",
       "        \n",
       "\n",
       "        </tbody>\n",
       "    </table>\n",
       "\n",
       "            \n",
       "        \n",
       "\n",
       "        \n",
       "\n",
       "\n",
       "\n",
       "    \n",
       "\n",
       "    \n",
       "\n",
       "    \n",
       "\n",
       "    \n",
       "\n",
       "\n",
       "    \n",
       "\n",
       "    \n",
       "\n",
       "    \n",
       "\n",
       "    \n",
       "\n",
       "    \n",
       "\n",
       "    \n",
       "\n",
       "\n",
       "    \n",
       "\n",
       "    \n",
       "\n",
       "    \n",
       "\n",
       "    \n",
       "\n",
       "    \n",
       "\n",
       "    \n",
       "\n",
       "\n",
       "\n"
      ],
      "text/plain": [
       "Explanation(estimator=\"LogisticRegression(C=10, class_weight='balanced', dual=False,\\n          fit_intercept=True, intercept_scaling=1, max_iter=100,\\n          multi_class='ovr', n_jobs=1, penalty='l1', random_state=42,\\n          solver='liblinear', tol=0.0001, verbose=1, warm_start=False)\", description=\"\\nFeatures with largest coefficients.\\nCaveats:\\n1. Be careful with features which are not\\n   independent - weights don't show their importance.\\n2. If scale of input features is different then scale of coefficients\\n   will also be different, making direct comparison between coefficient values\\n   incorrect.\\n3. Depending on regularization, rare features sometimes may have high\\n   coefficients; this doesn't mean they contribute much to the\\n   classification result for most examples.\\n\", error=None, method='linear model', is_regression=False, targets=[TargetExplanation(target=1.0, feature_weights=FeatureWeights(pos=[FeatureWeight(feature='type_is_low_l', weight=4.8598604713149607, std=None, value=None), FeatureWeight(feature='type_is_khrushev', weight=4.0430837603675789, std=None, value=None), FeatureWeight(feature='blag_sport_is_Не имеется', weight=2.5787944586597753, std=None, value=None), FeatureWeight(feature='type_is_prestl', weight=2.2480039381890387, std=None, value=None), FeatureWeight(feature='energy_cla_is_A', weight=1.9075399256668635, std=None, value=None), FeatureWeight(feature='blag_sport_is_Имеется', weight=1.5026018884475472, std=None, value=None), FeatureWeight(feature='doors', weight=0.51254563237642559, std=None, value=None), FeatureWeight(feature='5_Entertain', weight=0.15404282869654901, std=None, value=None), FeatureWeight(feature='energy_cla_is_D', weight=0.1363993258388341, std=None, value=None), FeatureWeight(feature='blag_playg_is_Имеется', weight=0.10153146074547907, std=None, value=None), FeatureWeight(feature='5_Food_serv', weight=0.039453698472672293, std=None, value=None), FeatureWeight(feature='5_Prof_serv', weight=0.025245873203393759, std=None, value=None), FeatureWeight(feature='5_Health', weight=0.016195824630486695, std=None, value=None), FeatureWeight(feature='area_live', weight=0.00052490457248678994, std=None, value=None), FeatureWeight(feature='area_gen', weight=0.00019339934935817056, std=None, value=None), FeatureWeight(feature='servicedatUnix', weight=6.8348659813647044e-09, std=None, value=None)], neg=[FeatureWeight(feature='house_type_is_Специализированный жилищный фонд', weight=-13.417130108492577, std=None, value=None), FeatureWeight(feature='type_is_brezhnev', weight=-8.7736010806971763, std=None, value=None), FeatureWeight(feature='house_type_is_Многоквартирный дом', weight=-7.4855116787149329, std=None, value=None), FeatureWeight(feature='house_type_is_Жилой дом блокированной застройки', weight=-5.8808211625575417, std=None, value=None), FeatureWeight(feature='type_is_mod_prem', weight=-3.8597965837773134, std=None, value=None), FeatureWeight(feature='type_is_ind_pr_l', weight=-3.704771657858648, std=None, value=None), FeatureWeight(feature='energy_cla_is_C', weight=-2.5085763131613126, std=None, value=None), FeatureWeight(feature='energy_cla_is_Не присвоен', weight=-0.95864799348487484, std=None, value=None), FeatureWeight(feature='levels_int', weight=-0.57023810949891718, std=None, value=None), FeatureWeight(feature='energy_cla_is_E', weight=-0.43418590012489644, std=None, value=None), FeatureWeight(feature='blag_playg_is_Не имеется', weight=-0.21820754078217069, std=None, value=None), FeatureWeight(feature='5_Outdoor_spaces', weight=-0.20198828994855195, std=None, value=None), FeatureWeight(feature='5_Admin', weight=-0.1184797616945245, std=None, value=None), FeatureWeight(feature='type_is_stl', weight=-0.11311205547463622, std=None, value=None), FeatureWeight(feature='5_Everyday_serv', weight=-0.079614002503809025, std=None, value=None), FeatureWeight(feature='5_Finance', weight=-0.073331325155346835, std=None, value=None), FeatureWeight(feature='5_Edu', weight=-0.0525574085782805, std=None, value=None), FeatureWeight(feature='5_Car_serv', weight=-0.030132232102448878, std=None, value=None), FeatureWeight(feature='5_Retail', weight=-0.0049158816004601985, std=None, value=None), FeatureWeight(feature='5_Transport', weight=-0.0042956064126915758, std=None, value=None), FeatureWeight(feature='year_int', weight=-0.00067846971884874074, std=None, value=None), FeatureWeight(feature='area_land', weight=-0.0005779345715125157, std=None, value=None), FeatureWeight(feature='area_nonli', weight=-0.00056637554799727303, std=None, value=None), FeatureWeight(feature='area_park', weight=-0.00050422807183823643, std=None, value=None), FeatureWeight(feature='area', weight=-0.00047207060237472697, std=None, value=None)], pos_remaining=0, neg_remaining=0), proba=None, score=None, weighted_spans=None)], feature_importances=None, decision_tree=None, highlight_spaces=None, transition_features=None)"
      ]
     },
     "execution_count": 220,
     "metadata": {},
     "output_type": "execute_result"
    }
   ],
   "source": [
    " eli5.explain_weights(lr, feature_names=[i for i in list(X1_w_5min.columns) if \"house_id\" not in i and i != \"address\" and i != \"is_renv\"], top=(50,50))"
   ]
  },
  {
   "cell_type": "code",
   "execution_count": 228,
   "metadata": {
    "collapsed": false
   },
   "outputs": [],
   "source": [
    "X1_clarified = X1_w_address.loc[list(min5servicies.index)]"
   ]
  },
  {
   "cell_type": "code",
   "execution_count": 229,
   "metadata": {
    "collapsed": false
   },
   "outputs": [
    {
     "data": {
      "text/plain": [
       "(3850, 38)"
      ]
     },
     "execution_count": 229,
     "metadata": {},
     "output_type": "execute_result"
    }
   ],
   "source": [
    "X1_clarified"
   ]
  },
  {
   "cell_type": "code",
   "execution_count": 230,
   "metadata": {
    "collapsed": true
   },
   "outputs": [],
   "source": [
    "Z, y = getZy(X1_clarified)"
   ]
  },
  {
   "cell_type": "code",
   "execution_count": 239,
   "metadata": {
    "collapsed": false
   },
   "outputs": [
    {
     "name": "stdout",
     "output_type": "stream",
     "text": [
      "[LibLinear]\n",
      "f1_score:  0.917748917749\n"
     ]
    }
   ],
   "source": [
    "lr = logReg(Z, y, l=\"l1\", solver=\"liblinear\", c=0.5)"
   ]
  },
  {
   "cell_type": "code",
   "execution_count": 240,
   "metadata": {
    "collapsed": false
   },
   "outputs": [
    {
     "data": {
      "text/html": [
       "\n",
       "    <style>\n",
       "    table.eli5-weights tr:hover {\n",
       "        filter: brightness(85%);\n",
       "    }\n",
       "</style>\n",
       "\n",
       "\n",
       "\n",
       "    \n",
       "\n",
       "    \n",
       "\n",
       "    \n",
       "\n",
       "    \n",
       "\n",
       "    \n",
       "\n",
       "    \n",
       "\n",
       "\n",
       "    \n",
       "\n",
       "    \n",
       "\n",
       "    \n",
       "\n",
       "    \n",
       "        \n",
       "\n",
       "    \n",
       "\n",
       "        \n",
       "            \n",
       "                \n",
       "                \n",
       "    \n",
       "        <p style=\"margin-bottom: 0.5em; margin-top: 0em\">\n",
       "            <b>\n",
       "    \n",
       "        y=1.0\n",
       "    \n",
       "</b>\n",
       "\n",
       "top features\n",
       "        </p>\n",
       "    \n",
       "    <table class=\"eli5-weights\"\n",
       "           style=\"border-collapse: collapse; border: none; margin-top: 0em; table-layout: auto; margin-bottom: 2em;\">\n",
       "        <thead>\n",
       "        <tr style=\"border: none;\">\n",
       "            \n",
       "                <th style=\"padding: 0 1em 0 0.5em; text-align: right; border: none;\" title=\"Feature weights. Note that weights do not account for feature value scales, so if feature values have different scales, features with highest weights might not be the most important.\">\n",
       "                    Weight<sup>?</sup>\n",
       "                </th>\n",
       "            \n",
       "            <th style=\"padding: 0 0.5em 0 0.5em; text-align: left; border: none;\">Feature</th>\n",
       "            \n",
       "        </tr>\n",
       "        </thead>\n",
       "        <tbody>\n",
       "        \n",
       "            <tr style=\"background-color: hsl(120, 100.00%, 84.49%); border: none;\">\n",
       "    <td style=\"padding: 0 1em 0 0.5em; text-align: right; border: none;\">\n",
       "        +3.445\n",
       "    </td>\n",
       "    <td style=\"padding: 0 0.5em 0 0.5em; text-align: left; border: none;\">\n",
       "        type_is_khrushev\n",
       "    </td>\n",
       "    \n",
       "</tr>\n",
       "        \n",
       "            <tr style=\"background-color: hsl(120, 100.00%, 94.55%); border: none;\">\n",
       "    <td style=\"padding: 0 1em 0 0.5em; text-align: right; border: none;\">\n",
       "        +0.774\n",
       "    </td>\n",
       "    <td style=\"padding: 0 0.5em 0 0.5em; text-align: left; border: none;\">\n",
       "        doors\n",
       "    </td>\n",
       "    \n",
       "</tr>\n",
       "        \n",
       "            <tr style=\"background-color: hsl(120, 100.00%, 95.59%); border: none;\">\n",
       "    <td style=\"padding: 0 1em 0 0.5em; text-align: right; border: none;\">\n",
       "        +0.572\n",
       "    </td>\n",
       "    <td style=\"padding: 0 0.5em 0 0.5em; text-align: left; border: none;\">\n",
       "        type_is_low_l\n",
       "    </td>\n",
       "    \n",
       "</tr>\n",
       "        \n",
       "            <tr style=\"background-color: hsl(120, 100.00%, 95.61%); border: none;\">\n",
       "    <td style=\"padding: 0 1em 0 0.5em; text-align: right; border: none;\">\n",
       "        +0.567\n",
       "    </td>\n",
       "    <td style=\"padding: 0 0.5em 0 0.5em; text-align: left; border: none;\">\n",
       "        energy_cla_is_A\n",
       "    </td>\n",
       "    \n",
       "</tr>\n",
       "        \n",
       "            <tr style=\"background-color: hsl(120, 100.00%, 96.52%); border: none;\">\n",
       "    <td style=\"padding: 0 1em 0 0.5em; text-align: right; border: none;\">\n",
       "        +0.408\n",
       "    </td>\n",
       "    <td style=\"padding: 0 0.5em 0 0.5em; text-align: left; border: none;\">\n",
       "        blag_sport_is_Не имеется\n",
       "    </td>\n",
       "    \n",
       "</tr>\n",
       "        \n",
       "            <tr style=\"background-color: hsl(120, 100.00%, 96.62%); border: none;\">\n",
       "    <td style=\"padding: 0 1em 0 0.5em; text-align: right; border: none;\">\n",
       "        +0.391\n",
       "    </td>\n",
       "    <td style=\"padding: 0 0.5em 0 0.5em; text-align: left; border: none;\">\n",
       "        blag_playg_is_Имеется\n",
       "    </td>\n",
       "    \n",
       "</tr>\n",
       "        \n",
       "            <tr style=\"background-color: hsl(120, 100.00%, 99.95%); border: none;\">\n",
       "    <td style=\"padding: 0 1em 0 0.5em; text-align: right; border: none;\">\n",
       "        +0.001\n",
       "    </td>\n",
       "    <td style=\"padding: 0 0.5em 0 0.5em; text-align: left; border: none;\">\n",
       "        area_live\n",
       "    </td>\n",
       "    \n",
       "</tr>\n",
       "        \n",
       "            <tr style=\"background-color: hsl(120, 100.00%, 99.99%); border: none;\">\n",
       "    <td style=\"padding: 0 1em 0 0.5em; text-align: right; border: none;\">\n",
       "        +0.000\n",
       "    </td>\n",
       "    <td style=\"padding: 0 0.5em 0 0.5em; text-align: left; border: none;\">\n",
       "        area_gen\n",
       "    </td>\n",
       "    \n",
       "</tr>\n",
       "        \n",
       "            <tr style=\"background-color: hsl(120, 100.00%, 100.00%); border: none;\">\n",
       "    <td style=\"padding: 0 1em 0 0.5em; text-align: right; border: none;\">\n",
       "        +0.000\n",
       "    </td>\n",
       "    <td style=\"padding: 0 0.5em 0 0.5em; text-align: left; border: none;\">\n",
       "        servicedatUnix\n",
       "    </td>\n",
       "    \n",
       "</tr>\n",
       "        \n",
       "        \n",
       "\n",
       "        \n",
       "        \n",
       "            <tr style=\"background-color: hsl(0, 100.00%, 99.98%); border: none;\">\n",
       "    <td style=\"padding: 0 1em 0 0.5em; text-align: right; border: none;\">\n",
       "        -0.000\n",
       "    </td>\n",
       "    <td style=\"padding: 0 0.5em 0 0.5em; text-align: left; border: none;\">\n",
       "        area_park\n",
       "    </td>\n",
       "    \n",
       "</tr>\n",
       "        \n",
       "            <tr style=\"background-color: hsl(0, 100.00%, 99.97%); border: none;\">\n",
       "    <td style=\"padding: 0 1em 0 0.5em; text-align: right; border: none;\">\n",
       "        -0.000\n",
       "    </td>\n",
       "    <td style=\"padding: 0 0.5em 0 0.5em; text-align: left; border: none;\">\n",
       "        area_land\n",
       "    </td>\n",
       "    \n",
       "</tr>\n",
       "        \n",
       "            <tr style=\"background-color: hsl(0, 100.00%, 99.96%); border: none;\">\n",
       "    <td style=\"padding: 0 1em 0 0.5em; text-align: right; border: none;\">\n",
       "        -0.001\n",
       "    </td>\n",
       "    <td style=\"padding: 0 0.5em 0 0.5em; text-align: left; border: none;\">\n",
       "        area_nonli\n",
       "    </td>\n",
       "    \n",
       "</tr>\n",
       "        \n",
       "            <tr style=\"background-color: hsl(0, 100.00%, 99.95%); border: none;\">\n",
       "    <td style=\"padding: 0 1em 0 0.5em; text-align: right; border: none;\">\n",
       "        -0.001\n",
       "    </td>\n",
       "    <td style=\"padding: 0 0.5em 0 0.5em; text-align: left; border: none;\">\n",
       "        area\n",
       "    </td>\n",
       "    \n",
       "</tr>\n",
       "        \n",
       "            <tr style=\"background-color: hsl(0, 100.00%, 99.91%); border: none;\">\n",
       "    <td style=\"padding: 0 1em 0 0.5em; text-align: right; border: none;\">\n",
       "        -0.002\n",
       "    </td>\n",
       "    <td style=\"padding: 0 0.5em 0 0.5em; text-align: left; border: none;\">\n",
       "        year_int\n",
       "    </td>\n",
       "    \n",
       "</tr>\n",
       "        \n",
       "            <tr style=\"background-color: hsl(0, 100.00%, 99.68%); border: none;\">\n",
       "    <td style=\"padding: 0 1em 0 0.5em; text-align: right; border: none;\">\n",
       "        -0.013\n",
       "    </td>\n",
       "    <td style=\"padding: 0 0.5em 0 0.5em; text-align: left; border: none;\">\n",
       "        energy_cla_is_E\n",
       "    </td>\n",
       "    \n",
       "</tr>\n",
       "        \n",
       "            <tr style=\"background-color: hsl(0, 100.00%, 97.38%); border: none;\">\n",
       "    <td style=\"padding: 0 1em 0 0.5em; text-align: right; border: none;\">\n",
       "        -0.272\n",
       "    </td>\n",
       "    <td style=\"padding: 0 0.5em 0 0.5em; text-align: left; border: none;\">\n",
       "        levels_int\n",
       "    </td>\n",
       "    \n",
       "</tr>\n",
       "        \n",
       "            <tr style=\"background-color: hsl(0, 100.00%, 95.68%); border: none;\">\n",
       "    <td style=\"padding: 0 1em 0 0.5em; text-align: right; border: none;\">\n",
       "        -0.556\n",
       "    </td>\n",
       "    <td style=\"padding: 0 0.5em 0 0.5em; text-align: left; border: none;\">\n",
       "        type_is_prerev\n",
       "    </td>\n",
       "    \n",
       "</tr>\n",
       "        \n",
       "            <tr style=\"background-color: hsl(0, 100.00%, 95.56%); border: none;\">\n",
       "    <td style=\"padding: 0 1em 0 0.5em; text-align: right; border: none;\">\n",
       "        -0.578\n",
       "    </td>\n",
       "    <td style=\"padding: 0 0.5em 0 0.5em; text-align: left; border: none;\">\n",
       "        type_is_stl\n",
       "    </td>\n",
       "    \n",
       "</tr>\n",
       "        \n",
       "            <tr style=\"background-color: hsl(0, 100.00%, 95.16%); border: none;\">\n",
       "    <td style=\"padding: 0 1em 0 0.5em; text-align: right; border: none;\">\n",
       "        -0.652\n",
       "    </td>\n",
       "    <td style=\"padding: 0 0.5em 0 0.5em; text-align: left; border: none;\">\n",
       "        energy_cla_is_Не присвоен\n",
       "    </td>\n",
       "    \n",
       "</tr>\n",
       "        \n",
       "            <tr style=\"background-color: hsl(0, 100.00%, 92.64%); border: none;\">\n",
       "    <td style=\"padding: 0 1em 0 0.5em; text-align: right; border: none;\">\n",
       "        -1.188\n",
       "    </td>\n",
       "    <td style=\"padding: 0 0.5em 0 0.5em; text-align: left; border: none;\">\n",
       "        house_type_is_Жилой дом блокированной застройки\n",
       "    </td>\n",
       "    \n",
       "</tr>\n",
       "        \n",
       "            <tr style=\"background-color: hsl(0, 100.00%, 88.34%); border: none;\">\n",
       "    <td style=\"padding: 0 1em 0 0.5em; text-align: right; border: none;\">\n",
       "        -2.291\n",
       "    </td>\n",
       "    <td style=\"padding: 0 0.5em 0 0.5em; text-align: left; border: none;\">\n",
       "        house_type_is_Специализированный жилищный фонд\n",
       "    </td>\n",
       "    \n",
       "</tr>\n",
       "        \n",
       "            <tr style=\"background-color: hsl(0, 100.00%, 82.28%); border: none;\">\n",
       "    <td style=\"padding: 0 1em 0 0.5em; text-align: right; border: none;\">\n",
       "        -4.168\n",
       "    </td>\n",
       "    <td style=\"padding: 0 0.5em 0 0.5em; text-align: left; border: none;\">\n",
       "        type_is_brezhnev\n",
       "    </td>\n",
       "    \n",
       "</tr>\n",
       "        \n",
       "            <tr style=\"background-color: hsl(0, 100.00%, 80.00%); border: none;\">\n",
       "    <td style=\"padding: 0 1em 0 0.5em; text-align: right; border: none;\">\n",
       "        -4.955\n",
       "    </td>\n",
       "    <td style=\"padding: 0 0.5em 0 0.5em; text-align: left; border: none;\">\n",
       "        house_type_is_Многоквартирный дом\n",
       "    </td>\n",
       "    \n",
       "</tr>\n",
       "        \n",
       "\n",
       "        </tbody>\n",
       "    </table>\n",
       "\n",
       "            \n",
       "        \n",
       "\n",
       "        \n",
       "\n",
       "\n",
       "\n",
       "    \n",
       "\n",
       "    \n",
       "\n",
       "    \n",
       "\n",
       "    \n",
       "\n",
       "\n",
       "    \n",
       "\n",
       "    \n",
       "\n",
       "    \n",
       "\n",
       "    \n",
       "\n",
       "    \n",
       "\n",
       "    \n",
       "\n",
       "\n",
       "    \n",
       "\n",
       "    \n",
       "\n",
       "    \n",
       "\n",
       "    \n",
       "\n",
       "    \n",
       "\n",
       "    \n",
       "\n",
       "\n",
       "\n"
      ],
      "text/plain": [
       "Explanation(estimator=\"LogisticRegression(C=0.5, class_weight='balanced', dual=False,\\n          fit_intercept=True, intercept_scaling=1, max_iter=100,\\n          multi_class='ovr', n_jobs=1, penalty='l1', random_state=42,\\n          solver='liblinear', tol=0.0001, verbose=1, warm_start=False)\", description=\"\\nFeatures with largest coefficients.\\nCaveats:\\n1. Be careful with features which are not\\n   independent - weights don't show their importance.\\n2. If scale of input features is different then scale of coefficients\\n   will also be different, making direct comparison between coefficient values\\n   incorrect.\\n3. Depending on regularization, rare features sometimes may have high\\n   coefficients; this doesn't mean they contribute much to the\\n   classification result for most examples.\\n\", error=None, method='linear model', is_regression=False, targets=[TargetExplanation(target=1.0, feature_weights=FeatureWeights(pos=[FeatureWeight(feature='type_is_khrushev', weight=3.4451665164759957, std=None, value=None), FeatureWeight(feature='doors', weight=0.77424500665517038, std=None, value=None), FeatureWeight(feature='type_is_low_l', weight=0.57209208858564886, std=None, value=None), FeatureWeight(feature='energy_cla_is_A', weight=0.56705671618560838, std=None, value=None), FeatureWeight(feature='blag_sport_is_Не имеется', weight=0.40815299048401182, std=None, value=None), FeatureWeight(feature='blag_playg_is_Имеется', weight=0.39104312726822776, std=None, value=None), FeatureWeight(feature='area_live', weight=0.00082660780372369343, std=None, value=None), FeatureWeight(feature='area_gen', weight=6.9058943445676687e-05, std=None, value=None), FeatureWeight(feature='servicedatUnix', weight=5.1883749209432646e-09, std=None, value=None)], neg=[FeatureWeight(feature='house_type_is_Многоквартирный дом', weight=-4.9545495829419739, std=None, value=None), FeatureWeight(feature='type_is_brezhnev', weight=-4.1680810028432473, std=None, value=None), FeatureWeight(feature='house_type_is_Специализированный жилищный фонд', weight=-2.2912185775609522, std=None, value=None), FeatureWeight(feature='house_type_is_Жилой дом блокированной застройки', weight=-1.1879833531551747, std=None, value=None), FeatureWeight(feature='energy_cla_is_Не присвоен', weight=-0.65187105197314144, std=None, value=None), FeatureWeight(feature='type_is_stl', weight=-0.57751874196009412, std=None, value=None), FeatureWeight(feature='type_is_prerev', weight=-0.55568874877667906, std=None, value=None), FeatureWeight(feature='levels_int', weight=-0.2718126478098985, std=None, value=None), FeatureWeight(feature='energy_cla_is_E', weight=-0.013241721153888799, std=None, value=None), FeatureWeight(feature='year_int', weight=-0.0023267360434890802, std=None, value=None), FeatureWeight(feature='area', weight=-0.00086698810610151555, std=None, value=None), FeatureWeight(feature='area_nonli', weight=-0.00071266197048129912, std=None, value=None), FeatureWeight(feature='area_land', weight=-0.00041082166484940829, std=None, value=None), FeatureWeight(feature='area_park', weight=-0.0001932756325615257, std=None, value=None)], pos_remaining=0, neg_remaining=0), proba=None, score=None, weighted_spans=None)], feature_importances=None, decision_tree=None, highlight_spaces=None, transition_features=None)"
      ]
     },
     "execution_count": 240,
     "metadata": {},
     "output_type": "execute_result"
    }
   ],
   "source": [
    " eli5.explain_weights(lr, feature_names=[i for i in list(X1_clarified.columns) if \"house_id\" not in i and i != \"address\" and i != \"is_renv\"], top=(50,50))"
   ]
  },
  {
   "cell_type": "code",
   "execution_count": 241,
   "metadata": {
    "collapsed": false
   },
   "outputs": [
    {
     "data": {
      "text/plain": [
       "Index(['field_1', 'lat', 'lon', 'house_id', 'bldng_type', 'levels_int',\n",
       "       'year_int', 'type', 'field_1_1', 'name', 'za', 'yavka', 'protiv'],\n",
       "      dtype='object')"
      ]
     },
     "execution_count": 241,
     "metadata": {},
     "output_type": "execute_result"
    }
   ],
   "source": [
    "renv.columns"
   ]
  },
  {
   "cell_type": "code",
   "execution_count": 245,
   "metadata": {
    "collapsed": false
   },
   "outputs": [
    {
     "data": {
      "text/html": [
       "<div>\n",
       "<style>\n",
       "    .dataframe thead tr:only-child th {\n",
       "        text-align: right;\n",
       "    }\n",
       "\n",
       "    .dataframe thead th {\n",
       "        text-align: left;\n",
       "    }\n",
       "\n",
       "    .dataframe tbody tr th {\n",
       "        vertical-align: top;\n",
       "    }\n",
       "</style>\n",
       "<table border=\"1\" class=\"dataframe\">\n",
       "  <thead>\n",
       "    <tr style=\"text-align: right;\">\n",
       "      <th></th>\n",
       "      <th>field_1</th>\n",
       "      <th>lat</th>\n",
       "      <th>lon</th>\n",
       "      <th>house_id</th>\n",
       "      <th>levels_int</th>\n",
       "      <th>year_int</th>\n",
       "      <th>field_1_1</th>\n",
       "      <th>za</th>\n",
       "      <th>yavka</th>\n",
       "      <th>protiv</th>\n",
       "    </tr>\n",
       "  </thead>\n",
       "  <tbody>\n",
       "    <tr>\n",
       "      <th>count</th>\n",
       "      <td>4.000000</td>\n",
       "      <td>4.000000</td>\n",
       "      <td>4.000000</td>\n",
       "      <td>4.000000e+00</td>\n",
       "      <td>4.0</td>\n",
       "      <td>4.000000</td>\n",
       "      <td>4.000000</td>\n",
       "      <td>4.0</td>\n",
       "      <td>4.0</td>\n",
       "      <td>4.0</td>\n",
       "    </tr>\n",
       "    <tr>\n",
       "      <th>mean</th>\n",
       "      <td>17313.750000</td>\n",
       "      <td>55.771560</td>\n",
       "      <td>37.551482</td>\n",
       "      <td>7.921018e+06</td>\n",
       "      <td>4.5</td>\n",
       "      <td>1939.750000</td>\n",
       "      <td>39324.500000</td>\n",
       "      <td>0.0</td>\n",
       "      <td>0.0</td>\n",
       "      <td>0.0</td>\n",
       "    </tr>\n",
       "    <tr>\n",
       "      <th>std</th>\n",
       "      <td>11528.756405</td>\n",
       "      <td>0.091707</td>\n",
       "      <td>0.100325</td>\n",
       "      <td>1.415447e+05</td>\n",
       "      <td>1.0</td>\n",
       "      <td>22.677081</td>\n",
       "      <td>15348.002031</td>\n",
       "      <td>0.0</td>\n",
       "      <td>0.0</td>\n",
       "      <td>0.0</td>\n",
       "    </tr>\n",
       "    <tr>\n",
       "      <th>min</th>\n",
       "      <td>1048.000000</td>\n",
       "      <td>55.667340</td>\n",
       "      <td>37.457130</td>\n",
       "      <td>7.819518e+06</td>\n",
       "      <td>3.0</td>\n",
       "      <td>1911.000000</td>\n",
       "      <td>18126.000000</td>\n",
       "      <td>0.0</td>\n",
       "      <td>0.0</td>\n",
       "      <td>0.0</td>\n",
       "    </tr>\n",
       "    <tr>\n",
       "      <th>25%</th>\n",
       "      <td>14533.750000</td>\n",
       "      <td>55.708845</td>\n",
       "      <td>37.468785</td>\n",
       "      <td>7.849244e+06</td>\n",
       "      <td>4.5</td>\n",
       "      <td>1927.500000</td>\n",
       "      <td>33622.500000</td>\n",
       "      <td>0.0</td>\n",
       "      <td>0.0</td>\n",
       "      <td>0.0</td>\n",
       "    </tr>\n",
       "    <tr>\n",
       "      <th>50%</th>\n",
       "      <td>20028.500000</td>\n",
       "      <td>55.779695</td>\n",
       "      <td>37.552045</td>\n",
       "      <td>7.867061e+06</td>\n",
       "      <td>5.0</td>\n",
       "      <td>1943.000000</td>\n",
       "      <td>42877.000000</td>\n",
       "      <td>0.0</td>\n",
       "      <td>0.0</td>\n",
       "      <td>0.0</td>\n",
       "    </tr>\n",
       "    <tr>\n",
       "      <th>75%</th>\n",
       "      <td>22808.500000</td>\n",
       "      <td>55.842410</td>\n",
       "      <td>37.634743</td>\n",
       "      <td>7.938836e+06</td>\n",
       "      <td>5.0</td>\n",
       "      <td>1955.250000</td>\n",
       "      <td>48579.000000</td>\n",
       "      <td>0.0</td>\n",
       "      <td>0.0</td>\n",
       "      <td>0.0</td>\n",
       "    </tr>\n",
       "    <tr>\n",
       "      <th>max</th>\n",
       "      <td>28150.000000</td>\n",
       "      <td>55.859510</td>\n",
       "      <td>37.644710</td>\n",
       "      <td>8.130433e+06</td>\n",
       "      <td>5.0</td>\n",
       "      <td>1962.000000</td>\n",
       "      <td>53418.000000</td>\n",
       "      <td>0.0</td>\n",
       "      <td>0.0</td>\n",
       "      <td>0.0</td>\n",
       "    </tr>\n",
       "  </tbody>\n",
       "</table>\n",
       "</div>"
      ],
      "text/plain": [
       "            field_1        lat        lon      house_id  levels_int  \\\n",
       "count      4.000000   4.000000   4.000000  4.000000e+00         4.0   \n",
       "mean   17313.750000  55.771560  37.551482  7.921018e+06         4.5   \n",
       "std    11528.756405   0.091707   0.100325  1.415447e+05         1.0   \n",
       "min     1048.000000  55.667340  37.457130  7.819518e+06         3.0   \n",
       "25%    14533.750000  55.708845  37.468785  7.849244e+06         4.5   \n",
       "50%    20028.500000  55.779695  37.552045  7.867061e+06         5.0   \n",
       "75%    22808.500000  55.842410  37.634743  7.938836e+06         5.0   \n",
       "max    28150.000000  55.859510  37.644710  8.130433e+06         5.0   \n",
       "\n",
       "          year_int     field_1_1   za  yavka  protiv  \n",
       "count     4.000000      4.000000  4.0    4.0     4.0  \n",
       "mean   1939.750000  39324.500000  0.0    0.0     0.0  \n",
       "std      22.677081  15348.002031  0.0    0.0     0.0  \n",
       "min    1911.000000  18126.000000  0.0    0.0     0.0  \n",
       "25%    1927.500000  33622.500000  0.0    0.0     0.0  \n",
       "50%    1943.000000  42877.000000  0.0    0.0     0.0  \n",
       "75%    1955.250000  48579.000000  0.0    0.0     0.0  \n",
       "max    1962.000000  53418.000000  0.0    0.0     0.0  "
      ]
     },
     "execution_count": 245,
     "metadata": {},
     "output_type": "execute_result"
    }
   ],
   "source": [
    "renv[renv[\"yavka\"]==0].describe()"
   ]
  },
  {
   "cell_type": "code",
   "execution_count": 246,
   "metadata": {
    "collapsed": false
   },
   "outputs": [
    {
     "data": {
      "text/html": [
       "<div>\n",
       "<style>\n",
       "    .dataframe thead tr:only-child th {\n",
       "        text-align: right;\n",
       "    }\n",
       "\n",
       "    .dataframe thead th {\n",
       "        text-align: left;\n",
       "    }\n",
       "\n",
       "    .dataframe tbody tr th {\n",
       "        vertical-align: top;\n",
       "    }\n",
       "</style>\n",
       "<table border=\"1\" class=\"dataframe\">\n",
       "  <thead>\n",
       "    <tr style=\"text-align: right;\">\n",
       "      <th></th>\n",
       "      <th>field_1</th>\n",
       "      <th>lat</th>\n",
       "      <th>lon</th>\n",
       "      <th>house_id</th>\n",
       "      <th>bldng_type</th>\n",
       "      <th>levels_int</th>\n",
       "      <th>year_int</th>\n",
       "      <th>type</th>\n",
       "      <th>field_1_1</th>\n",
       "      <th>name</th>\n",
       "      <th>za</th>\n",
       "      <th>yavka</th>\n",
       "      <th>protiv</th>\n",
       "    </tr>\n",
       "  </thead>\n",
       "  <tbody>\n",
       "    <tr>\n",
       "      <th>0</th>\n",
       "      <td>39</td>\n",
       "      <td>55.83183</td>\n",
       "      <td>37.53054</td>\n",
       "      <td>8151750</td>\n",
       "      <td>khrushev</td>\n",
       "      <td>5.0</td>\n",
       "      <td>1959.0</td>\n",
       "      <td>khrushev</td>\n",
       "      <td>21185</td>\n",
       "      <td>Большая Академическая улица, дом 35А</td>\n",
       "      <td>92</td>\n",
       "      <td>60</td>\n",
       "      <td>14</td>\n",
       "    </tr>\n",
       "    <tr>\n",
       "      <th>1</th>\n",
       "      <td>40</td>\n",
       "      <td>55.83200</td>\n",
       "      <td>37.52986</td>\n",
       "      <td>8151767</td>\n",
       "      <td>khrushev</td>\n",
       "      <td>5.0</td>\n",
       "      <td>1960.0</td>\n",
       "      <td>khrushev</td>\n",
       "      <td>21214</td>\n",
       "      <td>Большая Академическая улица, дом 35Б</td>\n",
       "      <td>97</td>\n",
       "      <td>67</td>\n",
       "      <td>5</td>\n",
       "    </tr>\n",
       "    <tr>\n",
       "      <th>2</th>\n",
       "      <td>41</td>\n",
       "      <td>55.83220</td>\n",
       "      <td>37.52921</td>\n",
       "      <td>8100349</td>\n",
       "      <td>khrushev</td>\n",
       "      <td>5.0</td>\n",
       "      <td>1961.0</td>\n",
       "      <td>khrushev</td>\n",
       "      <td>21243</td>\n",
       "      <td>Большая Академическая улица, дом 35В</td>\n",
       "      <td>78</td>\n",
       "      <td>63</td>\n",
       "      <td>31</td>\n",
       "    </tr>\n",
       "    <tr>\n",
       "      <th>3</th>\n",
       "      <td>42</td>\n",
       "      <td>55.83254</td>\n",
       "      <td>37.53092</td>\n",
       "      <td>8151774</td>\n",
       "      <td>khrushev</td>\n",
       "      <td>5.0</td>\n",
       "      <td>1961.0</td>\n",
       "      <td>khrushev</td>\n",
       "      <td>21272</td>\n",
       "      <td>Большая Академическая улица, дом 37</td>\n",
       "      <td>97</td>\n",
       "      <td>68</td>\n",
       "      <td>6</td>\n",
       "    </tr>\n",
       "    <tr>\n",
       "      <th>4</th>\n",
       "      <td>45</td>\n",
       "      <td>55.83317</td>\n",
       "      <td>37.53167</td>\n",
       "      <td>8151785</td>\n",
       "      <td>khrushev</td>\n",
       "      <td>5.0</td>\n",
       "      <td>1961.0</td>\n",
       "      <td>khrushev</td>\n",
       "      <td>21301</td>\n",
       "      <td>Большая Академическая улица, дом 39А</td>\n",
       "      <td>93</td>\n",
       "      <td>52</td>\n",
       "      <td>10</td>\n",
       "    </tr>\n",
       "  </tbody>\n",
       "</table>\n",
       "</div>"
      ],
      "text/plain": [
       "   field_1       lat       lon  house_id bldng_type  levels_int  year_int  \\\n",
       "0       39  55.83183  37.53054   8151750   khrushev         5.0    1959.0   \n",
       "1       40  55.83200  37.52986   8151767   khrushev         5.0    1960.0   \n",
       "2       41  55.83220  37.52921   8100349   khrushev         5.0    1961.0   \n",
       "3       42  55.83254  37.53092   8151774   khrushev         5.0    1961.0   \n",
       "4       45  55.83317  37.53167   8151785   khrushev         5.0    1961.0   \n",
       "\n",
       "       type  field_1_1                                  name  za  yavka  \\\n",
       "0  khrushev      21185  Большая Академическая улица, дом 35А  92     60   \n",
       "1  khrushev      21214  Большая Академическая улица, дом 35Б  97     67   \n",
       "2  khrushev      21243  Большая Академическая улица, дом 35В  78     63   \n",
       "3  khrushev      21272   Большая Академическая улица, дом 37  97     68   \n",
       "4  khrushev      21301  Большая Академическая улица, дом 39А  93     52   \n",
       "\n",
       "   protiv  \n",
       "0      14  \n",
       "1       5  \n",
       "2      31  \n",
       "3       6  \n",
       "4      10  "
      ]
     },
     "execution_count": 246,
     "metadata": {},
     "output_type": "execute_result"
    }
   ],
   "source": [
    "renv.head()"
   ]
  },
  {
   "cell_type": "code",
   "execution_count": 249,
   "metadata": {
    "collapsed": false
   },
   "outputs": [
    {
     "data": {
      "text/plain": [
       "count    4409.000000\n",
       "mean       70.789975\n",
       "std         9.642916\n",
       "min         0.000000\n",
       "25%        65.000000\n",
       "50%        71.000000\n",
       "75%        76.000000\n",
       "max       100.000000\n",
       "Name: yavka, dtype: float64"
      ]
     },
     "execution_count": 249,
     "metadata": {},
     "output_type": "execute_result"
    }
   ],
   "source": [
    "renv[\"yavka\"].describe()"
   ]
  },
  {
   "cell_type": "code",
   "execution_count": 288,
   "metadata": {
    "collapsed": false
   },
   "outputs": [],
   "source": [
    "rennovation = pd.read_csv(\"rennovation.csv\")"
   ]
  },
  {
   "cell_type": "code",
   "execution_count": 290,
   "metadata": {
    "collapsed": false
   },
   "outputs": [
    {
     "data": {
      "text/html": [
       "<div>\n",
       "<style>\n",
       "    .dataframe thead tr:only-child th {\n",
       "        text-align: right;\n",
       "    }\n",
       "\n",
       "    .dataframe thead th {\n",
       "        text-align: left;\n",
       "    }\n",
       "\n",
       "    .dataframe tbody tr th {\n",
       "        vertical-align: top;\n",
       "    }\n",
       "</style>\n",
       "<table border=\"1\" class=\"dataframe\">\n",
       "  <thead>\n",
       "    <tr style=\"text-align: right;\">\n",
       "      <th></th>\n",
       "      <th>polygon</th>\n",
       "      <th>unom</th>\n",
       "      <th>date</th>\n",
       "      <th>lat</th>\n",
       "      <th>lon</th>\n",
       "      <th>za</th>\n",
       "      <th>protiv</th>\n",
       "      <th>yavka</th>\n",
       "      <th>area_name</th>\n",
       "      <th>district_name</th>\n",
       "      <th>name</th>\n",
       "      <th>updated_at</th>\n",
       "      <th>status</th>\n",
       "      <th>unom_type</th>\n",
       "    </tr>\n",
       "  </thead>\n",
       "  <tbody>\n",
       "    <tr>\n",
       "      <th>0</th>\n",
       "      <td>{'type': 'Polygon', 'coordinates': [[[55.72058...</td>\n",
       "      <td>12107</td>\n",
       "      <td>1496406919</td>\n",
       "      <td>55.720283</td>\n",
       "      <td>37.410252</td>\n",
       "      <td>76.0</td>\n",
       "      <td>24.0</td>\n",
       "      <td>41.0</td>\n",
       "      <td>Можайский</td>\n",
       "      <td>ЗАО</td>\n",
       "      <td>улица Кубинка, дом 12, корпус 3</td>\n",
       "      <td>2.06</td>\n",
       "      <td>in_list</td>\n",
       "      <td>1.0</td>\n",
       "    </tr>\n",
       "    <tr>\n",
       "      <th>1</th>\n",
       "      <td>{'type': 'Polygon', 'coordinates': [[[55.72264...</td>\n",
       "      <td>12121</td>\n",
       "      <td>1496406919</td>\n",
       "      <td>55.722354</td>\n",
       "      <td>37.410762</td>\n",
       "      <td>81.0</td>\n",
       "      <td>19.0</td>\n",
       "      <td>33.0</td>\n",
       "      <td>Можайский</td>\n",
       "      <td>ЗАО</td>\n",
       "      <td>улица Кубинка, дом 18, корпус 5</td>\n",
       "      <td>2.06</td>\n",
       "      <td>in_list</td>\n",
       "      <td>1.0</td>\n",
       "    </tr>\n",
       "  </tbody>\n",
       "</table>\n",
       "</div>"
      ],
      "text/plain": [
       "                                             polygon   unom        date  \\\n",
       "0  {'type': 'Polygon', 'coordinates': [[[55.72058...  12107  1496406919   \n",
       "1  {'type': 'Polygon', 'coordinates': [[[55.72264...  12121  1496406919   \n",
       "\n",
       "         lat        lon    za  protiv  yavka  area_name district_name  \\\n",
       "0  55.720283  37.410252  76.0    24.0   41.0  Можайский           ЗАО   \n",
       "1  55.722354  37.410762  81.0    19.0   33.0  Можайский           ЗАО   \n",
       "\n",
       "                              name  updated_at   status  unom_type  \n",
       "0  улица Кубинка, дом 12, корпус 3        2.06  in_list        1.0  \n",
       "1  улица Кубинка, дом 18, корпус 5        2.06  in_list        1.0  "
      ]
     },
     "execution_count": 290,
     "metadata": {},
     "output_type": "execute_result"
    }
   ],
   "source": [
    "rennovation.head(2)"
   ]
  },
  {
   "cell_type": "code",
   "execution_count": 302,
   "metadata": {
    "collapsed": false
   },
   "outputs": [],
   "source": [
    "right_rennovation = pd.DataFrame(columns=list(rennovation.columns))"
   ]
  },
  {
   "cell_type": "code",
   "execution_count": 303,
   "metadata": {
    "collapsed": false
   },
   "outputs": [],
   "source": [
    "buildings = list(rennovation[\"unom\"].unique())"
   ]
  },
  {
   "cell_type": "code",
   "execution_count": 305,
   "metadata": {
    "collapsed": false
   },
   "outputs": [
    {
     "name": "stderr",
     "output_type": "stream",
     "text": [
      "Widget Javascript not detected.  It may not be installed properly. Did you enable the widgetsnbextension? If not, then run \"jupyter nbextension enable --py --sys-prefix widgetsnbextension\"\n"
     ]
    },
    {
     "name": "stdout",
     "output_type": "stream",
     "text": [
      "\n"
     ]
    },
    {
     "data": {
      "text/html": [
       "<div>\n",
       "<style>\n",
       "    .dataframe thead tr:only-child th {\n",
       "        text-align: right;\n",
       "    }\n",
       "\n",
       "    .dataframe thead th {\n",
       "        text-align: left;\n",
       "    }\n",
       "\n",
       "    .dataframe tbody tr th {\n",
       "        vertical-align: top;\n",
       "    }\n",
       "</style>\n",
       "<table border=\"1\" class=\"dataframe\">\n",
       "  <thead>\n",
       "    <tr style=\"text-align: right;\">\n",
       "      <th></th>\n",
       "      <th>polygon</th>\n",
       "      <th>unom</th>\n",
       "      <th>date</th>\n",
       "      <th>lat</th>\n",
       "      <th>lon</th>\n",
       "      <th>za</th>\n",
       "      <th>protiv</th>\n",
       "      <th>yavka</th>\n",
       "      <th>area_name</th>\n",
       "      <th>district_name</th>\n",
       "      <th>name</th>\n",
       "      <th>updated_at</th>\n",
       "      <th>status</th>\n",
       "      <th>unom_type</th>\n",
       "    </tr>\n",
       "  </thead>\n",
       "  <tbody>\n",
       "    <tr>\n",
       "      <th>59098</th>\n",
       "      <td>{'type': 'Polygon', 'coordinates': [[[55.72058...</td>\n",
       "      <td>12107</td>\n",
       "      <td>1497530145</td>\n",
       "      <td>55.720283</td>\n",
       "      <td>37.410252</td>\n",
       "      <td>74.0</td>\n",
       "      <td>26.0</td>\n",
       "      <td>64.0</td>\n",
       "      <td>Можайский</td>\n",
       "      <td>ЗАО</td>\n",
       "      <td>улица Кубинка, дом 12, корпус 3</td>\n",
       "      <td>15.06</td>\n",
       "      <td>in_list</td>\n",
       "      <td>1.0</td>\n",
       "    </tr>\n",
       "    <tr>\n",
       "      <th>59099</th>\n",
       "      <td>{'type': 'Polygon', 'coordinates': [[[55.72264...</td>\n",
       "      <td>12121</td>\n",
       "      <td>1497530145</td>\n",
       "      <td>55.722354</td>\n",
       "      <td>37.410762</td>\n",
       "      <td>78.0</td>\n",
       "      <td>22.0</td>\n",
       "      <td>64.0</td>\n",
       "      <td>Можайский</td>\n",
       "      <td>ЗАО</td>\n",
       "      <td>улица Кубинка, дом 18, корпус 5</td>\n",
       "      <td>15.06</td>\n",
       "      <td>in_list</td>\n",
       "      <td>1.0</td>\n",
       "    </tr>\n",
       "  </tbody>\n",
       "</table>\n",
       "</div>"
      ],
      "text/plain": [
       "                                                 polygon   unom        date  \\\n",
       "59098  {'type': 'Polygon', 'coordinates': [[[55.72058...  12107  1497530145   \n",
       "59099  {'type': 'Polygon', 'coordinates': [[[55.72264...  12121  1497530145   \n",
       "\n",
       "             lat        lon    za  protiv  yavka  area_name district_name  \\\n",
       "59098  55.720283  37.410252  74.0    26.0   64.0  Можайский           ЗАО   \n",
       "59099  55.722354  37.410762  78.0    22.0   64.0  Можайский           ЗАО   \n",
       "\n",
       "                                  name  updated_at   status  unom_type  \n",
       "59098  улица Кубинка, дом 12, корпус 3       15.06  in_list        1.0  \n",
       "59099  улица Кубинка, дом 18, корпус 5       15.06  in_list        1.0  "
      ]
     },
     "execution_count": 305,
     "metadata": {},
     "output_type": "execute_result"
    }
   ],
   "source": [
    "rows = []\n",
    "for building in tqdm_notebook(buildings):\n",
    "    temp = rennovation[rennovation[\"unom\"] == building].sort_values(\"yavka\", ascending=False)\n",
    "    top_row = temp.iloc[0]\n",
    "    rows.append(top_row)\n",
    "\n",
    "    \n",
    "    \n",
    "right_rennovation = pd.concat((right_rennovation, pd.DataFrame(rows, columns=list(rennovation.columns))))\n",
    "\n",
    "right_rennovation.head(2)"
   ]
  },
  {
   "cell_type": "code",
   "execution_count": 307,
   "metadata": {
    "collapsed": false
   },
   "outputs": [],
   "source": [
    "right_rennovation.to_csv(\"right_rennovation.csv\")"
   ]
  },
  {
   "cell_type": "code",
   "execution_count": 308,
   "metadata": {
    "collapsed": false
   },
   "outputs": [],
   "source": [
    "right_rennovation = pd.read_csv(\"right_rennovation_with_house_id.csv\")"
   ]
  },
  {
   "cell_type": "code",
   "execution_count": 309,
   "metadata": {
    "collapsed": false
   },
   "outputs": [
    {
     "data": {
      "text/html": [
       "<div>\n",
       "<style>\n",
       "    .dataframe thead tr:only-child th {\n",
       "        text-align: right;\n",
       "    }\n",
       "\n",
       "    .dataframe thead th {\n",
       "        text-align: left;\n",
       "    }\n",
       "\n",
       "    .dataframe tbody tr th {\n",
       "        vertical-align: top;\n",
       "    }\n",
       "</style>\n",
       "<table border=\"1\" class=\"dataframe\">\n",
       "  <thead>\n",
       "    <tr style=\"text-align: right;\">\n",
       "      <th></th>\n",
       "      <th>field_1</th>\n",
       "      <th>lat</th>\n",
       "      <th>lon</th>\n",
       "      <th>house_id</th>\n",
       "      <th>address</th>\n",
       "      <th>year</th>\n",
       "      <th>lastupdate</th>\n",
       "      <th>servicedat</th>\n",
       "      <th>serie</th>\n",
       "      <th>house_type</th>\n",
       "      <th>...</th>\n",
       "      <th>lon_1</th>\n",
       "      <th>za</th>\n",
       "      <th>protiv</th>\n",
       "      <th>yavka</th>\n",
       "      <th>area_name</th>\n",
       "      <th>district_n</th>\n",
       "      <th>name</th>\n",
       "      <th>updated_at</th>\n",
       "      <th>status</th>\n",
       "      <th>unom_type</th>\n",
       "    </tr>\n",
       "  </thead>\n",
       "  <tbody>\n",
       "    <tr>\n",
       "      <th>0</th>\n",
       "      <td>39</td>\n",
       "      <td>55.83183</td>\n",
       "      <td>37.53054</td>\n",
       "      <td>8151750</td>\n",
       "      <td>г. Москва, ул. Академическая Б., д. 35 \"А\"</td>\n",
       "      <td>1959</td>\n",
       "      <td>24.11.2015 в 20:21</td>\n",
       "      <td>Не заполнено</td>\n",
       "      <td>I-511</td>\n",
       "      <td>Многоквартирный дом</td>\n",
       "      <td>...</td>\n",
       "      <td>37.53058</td>\n",
       "      <td>88.0</td>\n",
       "      <td>12.0</td>\n",
       "      <td>60.0</td>\n",
       "      <td>Коптево</td>\n",
       "      <td>САО</td>\n",
       "      <td>Большая Академическая улица, дом 35А</td>\n",
       "      <td>14.06</td>\n",
       "      <td>in_list</td>\n",
       "      <td>1.0</td>\n",
       "    </tr>\n",
       "    <tr>\n",
       "      <th>1</th>\n",
       "      <td>40</td>\n",
       "      <td>55.83200</td>\n",
       "      <td>37.52986</td>\n",
       "      <td>8151767</td>\n",
       "      <td>г. Москва, ул. Академическая Б., д. 35 \"Б\"</td>\n",
       "      <td>1960</td>\n",
       "      <td>24.11.2015 в 20:20</td>\n",
       "      <td>Не заполнено</td>\n",
       "      <td>I-511</td>\n",
       "      <td>Многоквартирный дом</td>\n",
       "      <td>...</td>\n",
       "      <td>37.52991</td>\n",
       "      <td>95.0</td>\n",
       "      <td>5.0</td>\n",
       "      <td>67.0</td>\n",
       "      <td>Коптево</td>\n",
       "      <td>САО</td>\n",
       "      <td>Большая Академическая улица, дом 35Б</td>\n",
       "      <td>13.06</td>\n",
       "      <td>in_list</td>\n",
       "      <td>1.0</td>\n",
       "    </tr>\n",
       "    <tr>\n",
       "      <th>2</th>\n",
       "      <td>41</td>\n",
       "      <td>55.83220</td>\n",
       "      <td>37.52921</td>\n",
       "      <td>8100349</td>\n",
       "      <td>г. Москва, ул. Академическая Б., д. 35В</td>\n",
       "      <td>1961</td>\n",
       "      <td>24.11.2015 в 20:18</td>\n",
       "      <td>Не заполнено</td>\n",
       "      <td>I-511</td>\n",
       "      <td>Многоквартирный дом</td>\n",
       "      <td>...</td>\n",
       "      <td>37.52926</td>\n",
       "      <td>74.0</td>\n",
       "      <td>26.0</td>\n",
       "      <td>63.0</td>\n",
       "      <td>Коптево</td>\n",
       "      <td>САО</td>\n",
       "      <td>Большая Академическая улица, дом 35В</td>\n",
       "      <td>15.06</td>\n",
       "      <td>in_list</td>\n",
       "      <td>1.0</td>\n",
       "    </tr>\n",
       "    <tr>\n",
       "      <th>3</th>\n",
       "      <td>42</td>\n",
       "      <td>55.83254</td>\n",
       "      <td>37.53092</td>\n",
       "      <td>8151774</td>\n",
       "      <td>г. Москва, ул. Академическая Б., д. 37</td>\n",
       "      <td>1961</td>\n",
       "      <td>24.11.2015 в 20:17</td>\n",
       "      <td>Не заполнено</td>\n",
       "      <td>I-510</td>\n",
       "      <td>Многоквартирный дом</td>\n",
       "      <td>...</td>\n",
       "      <td>37.53088</td>\n",
       "      <td>96.0</td>\n",
       "      <td>4.0</td>\n",
       "      <td>68.0</td>\n",
       "      <td>Коптево</td>\n",
       "      <td>САО</td>\n",
       "      <td>Большая Академическая улица, дом 37</td>\n",
       "      <td>15.06</td>\n",
       "      <td>in_list</td>\n",
       "      <td>1.0</td>\n",
       "    </tr>\n",
       "    <tr>\n",
       "      <th>4</th>\n",
       "      <td>45</td>\n",
       "      <td>55.83317</td>\n",
       "      <td>37.53167</td>\n",
       "      <td>8151785</td>\n",
       "      <td>г. Москва, ул. Академическая Б., д. 39А</td>\n",
       "      <td>1961</td>\n",
       "      <td>24.11.2015 в 20:15</td>\n",
       "      <td>Не заполнено</td>\n",
       "      <td>I-510</td>\n",
       "      <td>Многоквартирный дом</td>\n",
       "      <td>...</td>\n",
       "      <td>37.53170</td>\n",
       "      <td>90.0</td>\n",
       "      <td>10.0</td>\n",
       "      <td>52.0</td>\n",
       "      <td>Коптево</td>\n",
       "      <td>САО</td>\n",
       "      <td>Большая Академическая улица, дом 39А</td>\n",
       "      <td>9.06</td>\n",
       "      <td>in_list</td>\n",
       "      <td>1.0</td>\n",
       "    </tr>\n",
       "  </tbody>\n",
       "</table>\n",
       "<p>5 rows × 51 columns</p>\n",
       "</div>"
      ],
      "text/plain": [
       "   field_1       lat       lon  house_id  \\\n",
       "0       39  55.83183  37.53054   8151750   \n",
       "1       40  55.83200  37.52986   8151767   \n",
       "2       41  55.83220  37.52921   8100349   \n",
       "3       42  55.83254  37.53092   8151774   \n",
       "4       45  55.83317  37.53167   8151785   \n",
       "\n",
       "                                      address  year          lastupdate  \\\n",
       "0  г. Москва, ул. Академическая Б., д. 35 \"А\"  1959  24.11.2015 в 20:21   \n",
       "1  г. Москва, ул. Академическая Б., д. 35 \"Б\"  1960  24.11.2015 в 20:20   \n",
       "2     г. Москва, ул. Академическая Б., д. 35В  1961  24.11.2015 в 20:18   \n",
       "3      г. Москва, ул. Академическая Б., д. 37  1961  24.11.2015 в 20:17   \n",
       "4     г. Москва, ул. Академическая Б., д. 39А  1961  24.11.2015 в 20:15   \n",
       "\n",
       "     servicedat  serie           house_type    ...        lon_1    za protiv  \\\n",
       "0  Не заполнено  I-511  Многоквартирный дом    ...     37.53058  88.0   12.0   \n",
       "1  Не заполнено  I-511  Многоквартирный дом    ...     37.52991  95.0    5.0   \n",
       "2  Не заполнено  I-511  Многоквартирный дом    ...     37.52926  74.0   26.0   \n",
       "3  Не заполнено  I-510  Многоквартирный дом    ...     37.53088  96.0    4.0   \n",
       "4  Не заполнено  I-510  Многоквартирный дом    ...     37.53170  90.0   10.0   \n",
       "\n",
       "  yavka area_name district_n                                  name updated_at  \\\n",
       "0  60.0   Коптево        САО  Большая Академическая улица, дом 35А      14.06   \n",
       "1  67.0   Коптево        САО  Большая Академическая улица, дом 35Б      13.06   \n",
       "2  63.0   Коптево        САО  Большая Академическая улица, дом 35В      15.06   \n",
       "3  68.0   Коптево        САО   Большая Академическая улица, дом 37      15.06   \n",
       "4  52.0   Коптево        САО  Большая Академическая улица, дом 39А       9.06   \n",
       "\n",
       "    status unom_type  \n",
       "0  in_list       1.0  \n",
       "1  in_list       1.0  \n",
       "2  in_list       1.0  \n",
       "3  in_list       1.0  \n",
       "4  in_list       1.0  \n",
       "\n",
       "[5 rows x 51 columns]"
      ]
     },
     "execution_count": 309,
     "metadata": {},
     "output_type": "execute_result"
    }
   ],
   "source": [
    "right_rennovation.head()"
   ]
  },
  {
   "cell_type": "code",
   "execution_count": 310,
   "metadata": {
    "collapsed": false
   },
   "outputs": [
    {
     "data": {
      "text/plain": [
       "4409"
      ]
     },
     "execution_count": 310,
     "metadata": {},
     "output_type": "execute_result"
    }
   ],
   "source": [
    "right_rennovation.shape[0]"
   ]
  },
  {
   "cell_type": "code",
   "execution_count": null,
   "metadata": {
    "collapsed": true
   },
   "outputs": [],
   "source": []
  }
 ],
 "metadata": {
  "kernelspec": {
   "display_name": "Python 3",
   "language": "python",
   "name": "python3"
  },
  "language_info": {
   "codemirror_mode": {
    "name": "ipython",
    "version": 3
   },
   "file_extension": ".py",
   "mimetype": "text/x-python",
   "name": "python",
   "nbconvert_exporter": "python",
   "pygments_lexer": "ipython3",
   "version": "3.5.1"
  },
  "widgets": {
   "state": {
    "000a9351729e4397a2cca7df3bb64eb6": {
     "views": []
    },
    "0020791f03cb4560a44d9b4dbdc2e95f": {
     "views": []
    },
    "0021934cb2fc4d8187a32da3bf99d47e": {
     "views": []
    },
    "003d8ede31d2420b90cfb5b9936264d2": {
     "views": []
    },
    "00cec1badebe4d44a50ff3e75f81eef6": {
     "views": []
    },
    "00dfc8c868c941daac854ba2152f7cb5": {
     "views": []
    },
    "010f6b441ab849308105b10dc4fe5880": {
     "views": []
    },
    "01462816007e4b678af37b8d494874c1": {
     "views": []
    },
    "016112d17a2c44b98891dac04c0be180": {
     "views": []
    },
    "01ccb300008b4cabaf56bd8f15ddc549": {
     "views": []
    },
    "022fa7ef7c274ef8a5adf44467517f10": {
     "views": []
    },
    "0256dc5b92f248e6bd4a3c41bbeb2295": {
     "views": []
    },
    "02973d80b7aa4b97b52e69ecc4d57c88": {
     "views": []
    },
    "02a92af29d4549819b4f6675a96a6bf8": {
     "views": []
    },
    "02fbc3ea1395480fa69d1078fa254510": {
     "views": []
    },
    "03a77a564e4b435d9594f663835f6641": {
     "views": []
    },
    "0417d11506c941c0b248495946308510": {
     "views": []
    },
    "047aa17ab10b459ea30082e39620a869": {
     "views": []
    },
    "048317c60bc744ecbc099ccff057ecd8": {
     "views": []
    },
    "050368d3b60440d7a9b76e59dd42f9a8": {
     "views": []
    },
    "056f12d329fd430794bde3d406f7bdb8": {
     "views": []
    },
    "05d9e591420446e68d92aad4f0e4ce01": {
     "views": []
    },
    "064ae060ef844033a75b758b9c6a1df3": {
     "views": []
    },
    "06cc46c9a38047aebd6e66e28c5bb0bd": {
     "views": [
      {
       "cell_index": 34
      }
     ]
    },
    "0719a7dca632424da4964deaa6c66ee9": {
     "views": []
    },
    "0768311b182547f7bd6732e1e06a98dd": {
     "views": []
    },
    "076fdd908cae4f8bb31b63e0d4e21882": {
     "views": []
    },
    "07f8d145f670474db7a714ca655667cc": {
     "views": [
      {
       "cell_index": 37
      }
     ]
    },
    "0869ba9342a74284a51aa0f34a69a860": {
     "views": []
    },
    "087962ba780b4962862922f6c4faafd4": {
     "views": []
    },
    "09716a6858e54a6b8a8337d3768aadfb": {
     "views": []
    },
    "09be44c34e1c408096d6a65df4cd07b8": {
     "views": []
    },
    "09d0c2214d5f464095972458b08c0c5b": {
     "views": []
    },
    "0a1a1d51d60f4b10a7244e6345d4664f": {
     "views": []
    },
    "0a3ce061dd6249a2961d6f3b2642b6cc": {
     "views": []
    },
    "0a479c9f140f4ff6a4f4f2c3f41a293e": {
     "views": []
    },
    "0a59c5aafe2e40b18d8c3aa9ce692b96": {
     "views": []
    },
    "0a8b8c7831ef4601b381fc00304ee1f5": {
     "views": []
    },
    "0b520d03ee9148e1a4b673b47c68cb05": {
     "views": []
    },
    "0bb8c3abe4264850b8f045f650d47b0f": {
     "views": []
    },
    "0d2fe25ac5764550a36af9ad72e4a9b4": {
     "views": []
    },
    "0e46836c3b7c4f8cb73e39dbc2c328a7": {
     "views": []
    },
    "0e9f1bb4da5f47b3a38c74310bdd1e09": {
     "views": []
    },
    "0eb9c2062b4545b8be2eacba52445f52": {
     "views": []
    },
    "0ee6276c25784c708e983d52a9c2d08a": {
     "views": []
    },
    "0efd292ee16a445f94db942d85d1d6f7": {
     "views": []
    },
    "0f5380744fda425b99cd38168a20fec4": {
     "views": []
    },
    "0fa7f940d12841e4a5e3b7325556b186": {
     "views": []
    },
    "0fe3e511255d4c548dcdff184dd70dfa": {
     "views": []
    },
    "10274344acc64f86ac1c23aa5ab94b33": {
     "views": []
    },
    "108d2b93b7e54ee384b76919039716b3": {
     "views": []
    },
    "11455aeb1c5840f681fca5839f930ee6": {
     "views": []
    },
    "11a57b8739494b03b5917a9fcc658f3f": {
     "views": []
    },
    "11a77ca88cf748a0884be5559ec31018": {
     "views": []
    },
    "11c0719bf3524a7badb32607829861d2": {
     "views": []
    },
    "11f766fc7ccf4d4a910cecad24aa7efa": {
     "views": []
    },
    "12b66d136f9b4ecaa1ac642153d9e6f7": {
     "views": []
    },
    "12ea5f83b3eb4a5e9d7c04ae9797c76e": {
     "views": []
    },
    "132aa8faad88464cab1ce2ffad16b358": {
     "views": []
    },
    "139d48f6577c41b3a665f0588dc585c2": {
     "views": []
    },
    "142b7a79a982437fbfbb3ff2975f22aa": {
     "views": []
    },
    "142e4a8bbd744d78a00c425508f44dfd": {
     "views": []
    },
    "1447b396443f4016b0708b05ddcb1864": {
     "views": []
    },
    "151f70b07140478c98137bea8ffdeb6f": {
     "views": []
    },
    "152b6939a9804790989ffca437f12659": {
     "views": []
    },
    "156084ab7c384850a0b67e494dc1dddd": {
     "views": []
    },
    "1567ed3c46324a25ae7c23bb6afa495b": {
     "views": []
    },
    "15bde30a085b46b789652106cf83db66": {
     "views": []
    },
    "16006a438b5247d09facc68773796bb0": {
     "views": []
    },
    "16d0c7add2a54cb0890d5a836c04dc19": {
     "views": []
    },
    "16ddd97bc82f4e9896cde27e7eca4618": {
     "views": []
    },
    "172082bddeae494db289ab1fdb30bb3e": {
     "views": []
    },
    "172a3a584fec4b7db2e28881a5699313": {
     "views": []
    },
    "17f3a8d8e79b4fcb944a47b360913597": {
     "views": [
      {
       "cell_index": 34
      }
     ]
    },
    "1809a8e2018b4e89b426a9d9760f6950": {
     "views": []
    },
    "185518af8f1549578cf262c49f81552c": {
     "views": []
    },
    "18c5f38c91874cd8bc91f782c6f0e0f1": {
     "views": []
    },
    "194c3f3ed6854b99b39983369ba25015": {
     "views": []
    },
    "1a81770f18254eda99196c8cfe5d3cfc": {
     "views": []
    },
    "1a9ab85f80d54163aa616793639115cf": {
     "views": []
    },
    "1ae3d7c0eaf2427db4ab6f266483888b": {
     "views": []
    },
    "1aef908047d6496b966c3d5c1ec0fb6f": {
     "views": []
    },
    "1b548fbea06a45ba90bbc715999ac1b3": {
     "views": []
    },
    "1b6c35a85f164b37b70781b8d02b4b15": {
     "views": []
    },
    "1bddd6e0561c419c90f37513e1545228": {
     "views": []
    },
    "1bec4ce171f2457085a86dc265e29043": {
     "views": []
    },
    "1d0b0ef565134fdb8b13cc39eba3b84a": {
     "views": []
    },
    "1d9e4609fa2841829097c8d52339f955": {
     "views": [
      {
       "cell_index": 37
      }
     ]
    },
    "1dca35cf4a10432ca8ae3a32cd833ed8": {
     "views": []
    },
    "1e118da7c34644e0a74eef73546a966c": {
     "views": []
    },
    "1e3a0e5652554020b9786dbcee872d37": {
     "views": []
    },
    "1ec42ae3dd884d67b5f5e582baabbaf3": {
     "views": []
    },
    "1ed8151e774641f19b602c2eb4e9d42f": {
     "views": [
      {
       "cell_index": 34
      }
     ]
    },
    "1f670be7b6a64a67a9360d45a38fb7cf": {
     "views": []
    },
    "1fee35ab2fde45509b98ab6a77091d75": {
     "views": []
    },
    "20b1bb06324941eda58361d350e1a25c": {
     "views": []
    },
    "20c0561454004c6eb739217345dff5f0": {
     "views": []
    },
    "213b085fb6cf4286b1f870bd004532b5": {
     "views": []
    },
    "2167f3005c754bfd9c6fd0e6733a961e": {
     "views": []
    },
    "21a1a406cec24fb9bf2b0d97418180c4": {
     "views": []
    },
    "21bf97265eb9475fa97a46a9704a4c36": {
     "views": []
    },
    "22420ed7f52b43dda3655cd2b125869f": {
     "views": []
    },
    "22ef9ac17e104c5289df292adaad7579": {
     "views": []
    },
    "231a18f7547c4532a9b02ab00d922f11": {
     "views": []
    },
    "23cefe9ed68e4a74869337fe2eed5b42": {
     "views": []
    },
    "24648872bc594d0b8216e9ef5a3e86fb": {
     "views": []
    },
    "24dd8a76faa546539d042eb5c299f231": {
     "views": []
    },
    "252d555f5e0b45fca515fdbb5794240c": {
     "views": []
    },
    "255498adf5834734aa099fa4d7656765": {
     "views": []
    },
    "25b08454ac9d4f11bc814cc482a022ec": {
     "views": []
    },
    "25d45b6c635240bd932cb7a19e1e5d8c": {
     "views": []
    },
    "26a134b378574bcf82c13ae86a1a46d1": {
     "views": []
    },
    "276f4a87707e416b97029655da178199": {
     "views": []
    },
    "279ec29e87e942c9b4883d9b45e9f72d": {
     "views": []
    },
    "2812cde76a2b461b868a136dcb045b0e": {
     "views": []
    },
    "289c225e3770472694eeb7edff00f0df": {
     "views": []
    },
    "28ed521376e047b3ab24d16c9cd8b6cd": {
     "views": []
    },
    "2a2284af7e414354af74bb99485df775": {
     "views": []
    },
    "2a3ecf2d580e4ebe9161d93c726acac6": {
     "views": []
    },
    "2ad2369dc10f4d64983ed04f7096677d": {
     "views": []
    },
    "2adcbf9d5d8d4728929e50e43e8df59f": {
     "views": []
    },
    "2b7b5871358e4c5a8c04e25d5694335b": {
     "views": []
    },
    "2b7d4add81a54185b5eb94c117b42dfa": {
     "views": []
    },
    "2b850e5289d144a8aebaa48e1762a9c3": {
     "views": []
    },
    "2be030d32444499081e54be2a3d35aeb": {
     "views": []
    },
    "2c21f814279f4206ad3201fcb9980532": {
     "views": []
    },
    "2cff7d7392794c7aaf965a1c9365122a": {
     "views": []
    },
    "2d70d3d4be5145ad90c550e514f4eeed": {
     "views": []
    },
    "2d992d24a23148da99d577b8139d24a6": {
     "views": []
    },
    "2daced4e7de44b938b319ec94cd81b8e": {
     "views": []
    },
    "2e6b1060b2cb4883b41dfce037995346": {
     "views": []
    },
    "2f717b657d29407191464bfe72e27f02": {
     "views": []
    },
    "2f7caf1f06ba46c6abe451d5a996d236": {
     "views": [
      {
       "cell_index": 34
      }
     ]
    },
    "2ff6f7c516784b9e93ef5e0360fd5e01": {
     "views": []
    },
    "3075e74189194751ad817a47cabe65e6": {
     "views": []
    },
    "30872b809b6e4c9ca7fe8b53039e200e": {
     "views": []
    },
    "309042e659e7434aaa6dc8f099b9e805": {
     "views": []
    },
    "30fef9e7f69849c99ab07e37371f0d81": {
     "views": []
    },
    "3120756382e64117a2e6123b2d3ed575": {
     "views": []
    },
    "3171bf3db76741f99b21671c6a9624be": {
     "views": []
    },
    "31b33843fa56444e93c2824e41079973": {
     "views": []
    },
    "3273d97900294688b88b37b288cbb49d": {
     "views": []
    },
    "32f415ff196c432fba9c4e3473d99464": {
     "views": []
    },
    "32f47e416a9c498da51fad54087441d6": {
     "views": []
    },
    "32f5dab48fad4619a176f7974d866111": {
     "views": []
    },
    "3378ede725fc4145bd47c93056cb2fa6": {
     "views": []
    },
    "339f079857f44ae6876faa60eb27a2e9": {
     "views": []
    },
    "33c76de3628242eb95f9fb59de517766": {
     "views": []
    },
    "33ece83fde394ead85056e3105df3d2b": {
     "views": []
    },
    "33ef1c96031b4791924b8048396d483f": {
     "views": []
    },
    "3437615fe22f47039711bbcf6cb83f0a": {
     "views": [
      {
       "cell_index": 34
      }
     ]
    },
    "348241eec32d449eb6456fd69b31bff6": {
     "views": []
    },
    "355a68b2baed4bd48b3d013f866b2d03": {
     "views": []
    },
    "3579bdc01a6742b3a0f4446ad5e8e3f5": {
     "views": []
    },
    "3588108d849f4a93bfc15648eed29813": {
     "views": []
    },
    "35bd42ac815540c3aac7333607d11a68": {
     "views": []
    },
    "35fafcf166004902ae6f7b6acfff3d7f": {
     "views": []
    },
    "36d1df63ced24ebaa5008cbebdf46fba": {
     "views": []
    },
    "36f639dc3511424aab2cc1b5023e2017": {
     "views": []
    },
    "374188e83232433097d6d6e17d7c860a": {
     "views": []
    },
    "38392173fcf74aa680c5d2124de8ef09": {
     "views": []
    },
    "384bfd15630343acb04803106ec12f9b": {
     "views": []
    },
    "386a4b5d1fea499db048c39ecf00bde7": {
     "views": []
    },
    "38a8df6490e046b383c68240f488fdde": {
     "views": [
      {
       "cell_index": 34
      }
     ]
    },
    "38e5a519541e4bbba055e917c0f027b8": {
     "views": []
    },
    "3957086ab9f9456b8df967758c2ab777": {
     "views": []
    },
    "39798880296c4847bb4eb759a8784aae": {
     "views": []
    },
    "39bebdfad92c41b6853da886e67c234b": {
     "views": []
    },
    "3a2d5350739440d8b11e826dd4e474a2": {
     "views": []
    },
    "3b07077bf57c4d259dcf7e4c2f4566e6": {
     "views": []
    },
    "3b50e3e4505645b696b8e607b2976cc2": {
     "views": []
    },
    "3b656940ca65407493286b95f1869bfa": {
     "views": []
    },
    "3b8a4bad42c74cdfa2276f8fa4961e2d": {
     "views": []
    },
    "3bb7cb8dea4a4e64ae1134da4ac094ee": {
     "views": [
      {
       "cell_index": 34
      }
     ]
    },
    "3bc8225ea35e407ea930f72ab24d18d9": {
     "views": [
      {
       "cell_index": 34
      }
     ]
    },
    "3be81ed46d564101a164f4f690b57ed0": {
     "views": []
    },
    "3ca973eed21b4a1e8f92e79ba789ba5e": {
     "views": []
    },
    "3cfc5b5c02fe4681bb83ada3106dcf47": {
     "views": [
      {
       "cell_index": 34
      }
     ]
    },
    "3d2c0d2aafab49a899488690d335157a": {
     "views": []
    },
    "3d36d87c3a1b44a780451deaaf7ea681": {
     "views": [
      {
       "cell_index": 34
      }
     ]
    },
    "3df2244cc70e4203aeae5737e19cdc8d": {
     "views": []
    },
    "3dfa4435cba4401eb1d5c9be71fb6cd5": {
     "views": []
    },
    "3e047ca2997d486aa732c96746c0bed5": {
     "views": []
    },
    "3e56401f71f8439a8c31e3fee6d17b29": {
     "views": []
    },
    "3e5ff27c416a437da9ba1d0cb06ea67a": {
     "views": []
    },
    "3e7d63b1be7145a9993b85d3be4c5a2c": {
     "views": []
    },
    "3ea0c3768369438eab3e0d72ceeec02c": {
     "views": []
    },
    "3ee90c3f7e3840e382c52f0b04060755": {
     "views": []
    },
    "40e5a9e38fe945dc81a41ac1e64d7fe1": {
     "views": []
    },
    "40f2478701054313ae08d5950cd63f18": {
     "views": []
    },
    "41092ee7d2fd4bb08d4b5cd0a2c0eae7": {
     "views": []
    },
    "425481029e9b4c419b245e7e40e896aa": {
     "views": []
    },
    "429c6223ca404acdb055b9db9ac224ea": {
     "views": []
    },
    "42c028e8086e468a9ba69ab21ca0b2ba": {
     "views": []
    },
    "435721e9fbb946348b4f1e51f6c32976": {
     "views": []
    },
    "439de9648809437e9dba1f186bec19a5": {
     "views": []
    },
    "43ab13576db14c5183b574b6bd61a2fe": {
     "views": []
    },
    "440adad128654caba84d80b6585f68f9": {
     "views": []
    },
    "440ef86a9c5744658b48ef4dcb359b2b": {
     "views": []
    },
    "448298c76fa549eba608286b8b63132f": {
     "views": []
    },
    "448a444addb34aa28c239b05dc17341f": {
     "views": []
    },
    "44b74d44de1f4daabd0b818f1970d73e": {
     "views": []
    },
    "4510da20e0744f81a6909b061c982642": {
     "views": []
    },
    "45177f2ece194ddfa483fbf8ab0ef032": {
     "views": []
    },
    "45295158512e47d8b1404c0f6531fd89": {
     "views": []
    },
    "458ca6187ef44066b4c3005e283eb6a5": {
     "views": []
    },
    "467c460530384066bce33041aaa636a5": {
     "views": []
    },
    "46d2d5767ba7459b9e374228f9303328": {
     "views": []
    },
    "46e6db1154c74e77beadf74eac493dbb": {
     "views": []
    },
    "477f4f3fefac4708b89ab3bd1c6f70d3": {
     "views": []
    },
    "479f1847676b4846bb5de262d7dbfbee": {
     "views": []
    },
    "47bf2b695ef348eb9c0f21b42a9f5fc9": {
     "views": []
    },
    "47c398cc22df4742af89654e68771e7c": {
     "views": []
    },
    "4816f2b87c2f4dd88aabbf348570486a": {
     "views": []
    },
    "49405d590bde42ada85325c9063f97a4": {
     "views": []
    },
    "4963010ff5ad4501a55fa1cb6cb3d220": {
     "views": [
      {
       "cell_index": 34
      }
     ]
    },
    "4afdf2fb59a04e46becc816f758dd57d": {
     "views": []
    },
    "4cb891d51c0f4a29a565c0280032e44f": {
     "views": []
    },
    "4ce008c24000490f93494f9d6963822d": {
     "views": []
    },
    "4cfd2f6094c7422280347c12de836c1b": {
     "views": []
    },
    "4d0160fe80f24c2abedc866bab175cb4": {
     "views": []
    },
    "4d3d5c58c0cb4bae9d64eb7f84edd834": {
     "views": []
    },
    "4d677cfe92154683a44382e0f74fba40": {
     "views": []
    },
    "4d86db76cbd846129f3538f20d3baeef": {
     "views": []
    },
    "4e40c34659f34cc295b4308402ecff56": {
     "views": []
    },
    "4ec15c9f2c0443abbb563ef5677077c3": {
     "views": []
    },
    "4ec3038603de4c1e9b69164213026ac7": {
     "views": []
    },
    "4ec812038fae42f186f747c694bbca02": {
     "views": []
    },
    "4fdf51ad9dd04dc79e0505a915368aa9": {
     "views": []
    },
    "50738e4d92c94ea9ac16575cfd0f987c": {
     "views": []
    },
    "507c0fa332374d73bd0ddaf9da31e120": {
     "views": []
    },
    "50b57a6254d44bd09c78bb0399507f4b": {
     "views": []
    },
    "50e8d8f069674d96a94a23cac9f1719b": {
     "views": []
    },
    "5100249bd42f4478bac9d3d6e283a82e": {
     "views": []
    },
    "5103a205bf264099ba919947fd695fb9": {
     "views": []
    },
    "513371d2b7a2443ab8f79a4fa3296fe8": {
     "views": []
    },
    "5140be0aa117459a91a737aa9e5a1d37": {
     "views": []
    },
    "514579745e2b49dc9629dbd01d6edad3": {
     "views": []
    },
    "51c6689bddfb439aba4caece039bd3b0": {
     "views": []
    },
    "5201b9da4cec4642af99037d08e141ca": {
     "views": [
      {
       "cell_index": 34
      }
     ]
    },
    "5234242f3da5433c95be97ecebf62193": {
     "views": []
    },
    "527de411d5b4453fad9caf7e4b9dc82d": {
     "views": []
    },
    "52c91525fbaa4575b2d5c663aa638bba": {
     "views": [
      {
       "cell_index": 34
      }
     ]
    },
    "532adad00d0447f1b7c3078784cbf212": {
     "views": []
    },
    "53a40d230b274a89811e903ed2f56647": {
     "views": []
    },
    "53ecc2b3d68048afb2a7eee4257cc7bc": {
     "views": []
    },
    "542000a82b7544f3bbcaa68e044ef173": {
     "views": []
    },
    "546e6ce5f9484c91958bbbffce087393": {
     "views": [
      {
       "cell_index": 34
      }
     ]
    },
    "54d9da79cc5e452ca9773c8fdd61f341": {
     "views": []
    },
    "5516fe9d168b4001be91660d4da5d161": {
     "views": []
    },
    "555d0378f124461ca7f592132e02bd9d": {
     "views": []
    },
    "55870b2b7e694127a7eda68fbee91bb6": {
     "views": []
    },
    "55d4fdc9ef2446438c892e9a93d06a38": {
     "views": []
    },
    "5604a2f89b464bf7b400c70dbbfef141": {
     "views": [
      {
       "cell_index": 34
      }
     ]
    },
    "5621aa338b3345bf84c80a8db4368e0b": {
     "views": [
      {
       "cell_index": 34
      }
     ]
    },
    "564de47554bc48c98859d2758ccc7195": {
     "views": []
    },
    "56bef22d2c7349af8d4eb37e06e57325": {
     "views": []
    },
    "56de09067b374c89a29db5a0c5bf1aeb": {
     "views": []
    },
    "57e17921043240cbb4b63d0c95d06d9c": {
     "views": []
    },
    "582392573ab0492a9a45795d6a7d4762": {
     "views": []
    },
    "58df91f4045748679d886e11afe76b5e": {
     "views": []
    },
    "58f8489c7fed4ce5b6e768717c743e7e": {
     "views": []
    },
    "591dcd661dae42b788f1331e254d4462": {
     "views": []
    },
    "59450a86cf8a4308bd065fa82ea44fbc": {
     "views": []
    },
    "594b838a8cf64739bae62ff3b18f4b1d": {
     "views": []
    },
    "59a62649784b4541a984d3bb109056ea": {
     "views": []
    },
    "59f3d0660ed1458db3c59f95411d5d7e": {
     "views": []
    },
    "5a5264e8d45848e8b2ae24d03c542f17": {
     "views": []
    },
    "5a56c430b1e94f4ba8639be08b95dfdc": {
     "views": []
    },
    "5a66859842a74edaaf38559643e01263": {
     "views": []
    },
    "5ad137a563e14c9f97911cb381eb9bdd": {
     "views": [
      {
       "cell_index": 34
      }
     ]
    },
    "5b2c8ecb2351414f89f9f8489821e98e": {
     "views": []
    },
    "5b62cdd959f0409b84930404c196c078": {
     "views": []
    },
    "5bece355154a4894945cb5a7321ddeec": {
     "views": [
      {
       "cell_index": 34
      }
     ]
    },
    "5c2dec33e510446d8569ddc5019a7bd3": {
     "views": []
    },
    "5c528fdd7889447f9e4f27ef5d63c565": {
     "views": []
    },
    "5c756c22df45471f9c404304cc5f0773": {
     "views": []
    },
    "5cad6a5f150341928b7804096c90c7d2": {
     "views": []
    },
    "5cc0bff5720049ffb02aa3bb12a4911c": {
     "views": []
    },
    "5ce81279fda945608d0b7b00c4c14b90": {
     "views": []
    },
    "5d3899b62f864d6f8403a6b947f1a212": {
     "views": []
    },
    "5d827cdb7bbe4537a77072eafff11a7f": {
     "views": [
      {
       "cell_index": 43
      }
     ]
    },
    "5da9a90ae22341cea2fb6853724eca63": {
     "views": []
    },
    "5e318ba32546419280eb5303fd065939": {
     "views": []
    },
    "5e456a6ca206468681328d984e6581ed": {
     "views": []
    },
    "5e913dc26ce945fa9afbbe89a5b61e6b": {
     "views": []
    },
    "5e95cbe3596d4860827720f98457c3b2": {
     "views": []
    },
    "5ef786b92a0c4dc6bf29d1801329307d": {
     "views": []
    },
    "5f7588fbc6094bb786c40ce5ddf76960": {
     "views": []
    },
    "5fd8f45d3d284eaf94cf0ad0b0a2d454": {
     "views": []
    },
    "6010b4d44f8e4f149241b5456d1d8a30": {
     "views": []
    },
    "6028b173d6f2430d81435d75f145b13a": {
     "views": []
    },
    "6055f1dc9a8a409f9064bfa5675194a2": {
     "views": []
    },
    "60677068427a4471bf93962b19ca7efb": {
     "views": []
    },
    "60a2e01f38bf42119ad50e0e126a3493": {
     "views": []
    },
    "60c65fb6572f4014bddb0378146e6263": {
     "views": []
    },
    "60cd4d1dc5be4f82b0768fe8c8736412": {
     "views": []
    },
    "60e54a6dccc44fa0bb4414ffeb06365c": {
     "views": []
    },
    "616d45eb303c477c83fd429d0e4c4780": {
     "views": []
    },
    "61b67586fb4e46a28deec2402cab7809": {
     "views": []
    },
    "61e2e0635175451487b5c4308a68c8f6": {
     "views": []
    },
    "62a8d6880a8d43b0b142da9dde9ba4f3": {
     "views": []
    },
    "63737ca316f44431b8c1237b9511183c": {
     "views": []
    },
    "63c4532bbaf740b69e27e79145249fe2": {
     "views": []
    },
    "63d901c087a74c2ca420d94cd2d5c076": {
     "views": []
    },
    "64187891708349d4966632a4797eff0c": {
     "views": []
    },
    "65031fc53f9843f4818d2876a43df2c6": {
     "views": []
    },
    "654c49d6c83d439187ba3fee5c39387a": {
     "views": [
      {
       "cell_index": 39
      }
     ]
    },
    "65c77d302ab945c2849d60a00abcd84b": {
     "views": []
    },
    "66b74eeca7bb433eb0e925596ed0f034": {
     "views": []
    },
    "6727ed67ec5648a39d4c29351678524b": {
     "views": []
    },
    "6744464fc9f64ca6b38ba06c9b0a4417": {
     "views": []
    },
    "6811e6ba0cd9470dbe18e6e5ca443a20": {
     "views": []
    },
    "6908ac491f9d4d5995224d57c75d1cd2": {
     "views": []
    },
    "690ac2b1502b475185875847522711fc": {
     "views": []
    },
    "696e43cf10144ff1a080c7982b02cae2": {
     "views": [
      {
       "cell_index": 34
      }
     ]
    },
    "69c2b296bfae46f68b9fdb903bebddde": {
     "views": []
    },
    "6a322692344946f48c5c33c06810b3e3": {
     "views": []
    },
    "6a85250a270a4ee0b91d07e1833b23d4": {
     "views": [
      {
       "cell_index": 34
      }
     ]
    },
    "6a87d7f6330d4af2b81436beface0e90": {
     "views": []
    },
    "6adb8328abc34ef4af76df6eaa3894a9": {
     "views": []
    },
    "6af4442f88ce4a1aa12dd2d16451804e": {
     "views": []
    },
    "6b37c7bb2ef541f3b59f36bcdb4988ce": {
     "views": []
    },
    "6b826d33c9a5412b84a044d80073a38f": {
     "views": []
    },
    "6c37e2aba4774accaff88d7aa6a1d757": {
     "views": []
    },
    "6cd59245b5754b96813f920deca3e819": {
     "views": []
    },
    "6ced0a34347443919b072f3800189638": {
     "views": []
    },
    "6d0757cb3e0d4dd18eab908fb5c542ac": {
     "views": []
    },
    "6dd6ab1610a54716a5e0f33bad829f01": {
     "views": []
    },
    "6ddd0f79b82648a784a282fc03436cca": {
     "views": []
    },
    "6e4412a1e6e740588429a13b90e854ca": {
     "views": []
    },
    "6edb3cfe52524b088e37ff4529d3684b": {
     "views": []
    },
    "6f96e933b3424007b8a8a519dff84459": {
     "views": []
    },
    "6fcdd64b80fc4db19cdb214110116458": {
     "views": []
    },
    "704d9d961e944d17a0b5f00b806a6376": {
     "views": []
    },
    "70809751442f4171b7ad8e5da815ef66": {
     "views": [
      {
       "cell_index": 34
      }
     ]
    },
    "7097b6622fb449cb92a6e24f3447a519": {
     "views": []
    },
    "71320d29d4e54935bc84e491918e5e06": {
     "views": []
    },
    "71aef62a37444a79af13c297489520e1": {
     "views": []
    },
    "71c5f517016c4f1c81db7e46b6a64966": {
     "views": [
      {
       "cell_index": 34
      }
     ]
    },
    "71da12797ec34b81ac661837913e93ea": {
     "views": []
    },
    "71fff6d952624ad08e9340fc5bd46c08": {
     "views": []
    },
    "72048a290e684e3f811dab21cfe85ff5": {
     "views": []
    },
    "7266b2fb84324e5f8c4441e9c85ff4bf": {
     "views": []
    },
    "728248e59d96422a98f0fbd1cf8bac45": {
     "views": []
    },
    "72b4aaa417d94870815c97b08964a98a": {
     "views": []
    },
    "72cde521d42a4e15b75c0f7c8ea79943": {
     "views": []
    },
    "73f2c90668fd4de3b46aae886c8f2496": {
     "views": []
    },
    "744f13826c474933842adb1261c064e5": {
     "views": []
    },
    "748397b2ffdc48599a404b8e81983e7b": {
     "views": []
    },
    "74d68ba7d9f343d0ab3464f79b54eee5": {
     "views": []
    },
    "75984dad2c6d4ff3b7a261c2945a9062": {
     "views": []
    },
    "76079d0b303041a198ccc6d477b01460": {
     "views": []
    },
    "763d98ee86124ca4b8c1ad984e09c02f": {
     "views": []
    },
    "76432d058df44cfeb03b4a79a8b73c8c": {
     "views": []
    },
    "765aaa1dac074c24adef473a550a9677": {
     "views": []
    },
    "768a3ec493cf424ca8eca3461b2049f8": {
     "views": []
    },
    "76af5b112d5c43e792ca93afabd6ff80": {
     "views": []
    },
    "771e9a5dfc0240ea947868832f9438b4": {
     "views": []
    },
    "778baf61e7a04a26a49bc59aa70349f3": {
     "views": []
    },
    "77af0b6c570c4c71a91b31c374f8bfd4": {
     "views": []
    },
    "77ef04c63b914e86af161b666a863a4c": {
     "views": [
      {
       "cell_index": 34
      }
     ]
    },
    "78cf7921ebff4c2881c0a9e96308d6f2": {
     "views": []
    },
    "7949e5b7e9af4be7b9f1084eb0b3fb39": {
     "views": []
    },
    "796aaf53bfe64ee2b10e85e157870c28": {
     "views": []
    },
    "798d04cf745e48e0bdd652f487e3a2e3": {
     "views": []
    },
    "7996bc3e68034bd6bcb2bf76b5a33166": {
     "views": [
      {
       "cell_index": 34
      }
     ]
    },
    "79d65145baa34dc08640ff35bd936e47": {
     "views": []
    },
    "79e3ca4fdf17443abbbff943192b5fda": {
     "views": []
    },
    "79ed10a8dbd94d3f9988cad2c4b4f5cf": {
     "views": []
    },
    "7a1aabf34b76400192ab9d950293ec3a": {
     "views": []
    },
    "7a5313ae3e864c3c91d7520512ef6a3f": {
     "views": []
    },
    "7a6aec8422d446beb8eafcbf06742b3c": {
     "views": [
      {
       "cell_index": 34
      }
     ]
    },
    "7a83dcee3e47479a80e3745bb2157ff2": {
     "views": []
    },
    "7a9adf1a924f42c09b23ec8f35f71625": {
     "views": []
    },
    "7ab84f554118473396f2c8645948d600": {
     "views": []
    },
    "7ad74efb6e094f8fb904798e2a9d9182": {
     "views": []
    },
    "7afa46c6d8ef4a71b13f3563fe1e07f4": {
     "views": []
    },
    "7b3927ee08dd44e79ec5a2fbbfc8f423": {
     "views": []
    },
    "7b60ab38633149ee94dcefcd9d02faa1": {
     "views": []
    },
    "7b6534b3e2b342af886d25b09bdf6f14": {
     "views": []
    },
    "7b666be3a8b54d05b39022e2f65faa88": {
     "views": []
    },
    "7b6f4ecaf7a944c7b1a784be0d2193c8": {
     "views": []
    },
    "7b7fa209cade468fa41a9cb39bd329c7": {
     "views": []
    },
    "7bb457995079498d8d52e827cd0308da": {
     "views": []
    },
    "7bc0f9eab7c842518ab28c24ba5ad8c6": {
     "views": []
    },
    "7bd451bd7f2b44b0bc7c48ee907a4b0e": {
     "views": []
    },
    "7d854c17786248c5a901e63fcce59189": {
     "views": []
    },
    "7d9c5b19f0a54f7e8d0ba34804681ad6": {
     "views": []
    },
    "7da99951024e49c1afc254f2968ddf77": {
     "views": []
    },
    "7ddfcdfdc3f84095a24b0b10901ec438": {
     "views": []
    },
    "7e57a57e494548878951fa4004f979f9": {
     "views": []
    },
    "7e99a5d058f64f578e212ad4545627d1": {
     "views": []
    },
    "7ead6e25b3c7412ea0a94332c87e24ad": {
     "views": []
    },
    "7ee01ff0dfa04c65b9b6ffff74eda898": {
     "views": []
    },
    "7f9039c8b2774a1d9ed1747fbaadfe75": {
     "views": []
    },
    "7f93b5b49a33466db1712a35a7f6eda3": {
     "views": []
    },
    "7fc295550f914b76a5dfddc9d0613104": {
     "views": []
    },
    "8037c8b6bba4444f9ab642ba92f3d504": {
     "views": []
    },
    "80c1bb04283e4760999beb995b4a1d75": {
     "views": []
    },
    "80e6599a2f21403e92cd0095b496a7c3": {
     "views": []
    },
    "81028d6675ee48a89aa514d9eaf25890": {
     "views": []
    },
    "8162db8804e242438dadc457fdfc0134": {
     "views": []
    },
    "81a74d8e372d4962af6bf87f5d5e54c0": {
     "views": []
    },
    "8274ae67bb0143aeaab8b6b7155ee9c2": {
     "views": []
    },
    "82e6ac5af25c4cb6a5f97d2c7d439396": {
     "views": []
    },
    "8319d97947e644b4bfa421806db8eb56": {
     "views": []
    },
    "8560aedf4be14403b7d7d564a86bdf3d": {
     "views": []
    },
    "859b0fefd8ef490ba383e82d43d17309": {
     "views": []
    },
    "859ef862234740348182194d2ddc4997": {
     "views": []
    },
    "86db88f563d949bd9aae4c72f2c276c1": {
     "views": []
    },
    "86deef7461f24ec0845e0e65987d1863": {
     "views": []
    },
    "8703b0628f5347d7836dfea0587447ba": {
     "views": []
    },
    "87b5e604c05140bb9177ebdcd3c19a76": {
     "views": []
    },
    "87c9d54871684c2bb7c170bced8f6d3c": {
     "views": []
    },
    "8830dfe951054e70b04fd9694797cef1": {
     "views": []
    },
    "8834f03833e54cc68c3b1cc6a9f62734": {
     "views": [
      {
       "cell_index": 34
      }
     ]
    },
    "884183b0dfdc4c1f9e0531e45e3aeabf": {
     "views": []
    },
    "888385b27bf548b19dc7fe5d361c1c35": {
     "views": []
    },
    "88d874abcf2c4184881ffaa01d401d95": {
     "views": []
    },
    "89101f127ce24822809a77fbacd44be4": {
     "views": []
    },
    "892de8f6c1b54042b89989336a169088": {
     "views": []
    },
    "897b9ae2d9114038a90ebc75455d196e": {
     "views": []
    },
    "89a2064332e745e0a59a2ff02cda5383": {
     "views": []
    },
    "8a2397c4cfeb41d3959b9f1e405f3c0d": {
     "views": []
    },
    "8a519f29b34e4ecdbb410570966c7a98": {
     "views": []
    },
    "8a55aba71f0d4b4aa5fd4f075036f7cd": {
     "views": []
    },
    "8a8bed8aa58c473bb5c6d154b724278c": {
     "views": []
    },
    "8afb8ff749e94ef09250153196506619": {
     "views": []
    },
    "8b1b2f82889e4b9f8ffb296fac3fabd5": {
     "views": []
    },
    "8b221d426cf4457caaf76135706752c6": {
     "views": []
    },
    "8b729eb2a80040a7b919afcfe51f6feb": {
     "views": []
    },
    "8b771cf6e46d49739978f057069977e9": {
     "views": []
    },
    "8c22e612dc334e25abf66ff191fef429": {
     "views": []
    },
    "8c3d18da4c3642a59376177974b874a3": {
     "views": []
    },
    "8d623d2471b748ba84201d97ee15a33b": {
     "views": []
    },
    "8d8b3d84dd7141d0820405bf9c4d3218": {
     "views": [
      {
       "cell_index": 34
      }
     ]
    },
    "8daf846f7de44b3bba0254dd27131254": {
     "views": []
    },
    "8e11c4adb10944be9292408222017ada": {
     "views": []
    },
    "8e5e1293b3d34524bdd8fc5a5530fed3": {
     "views": []
    },
    "8e9413a3936e4848b5f6b2e5e635b736": {
     "views": []
    },
    "8e9dc2df49c446cd818fe6d47051e1d5": {
     "views": []
    },
    "8eb4c43f7a9642d7b62532626d6eafa6": {
     "views": []
    },
    "8ee99821f5584b1f92d18521c6396c0c": {
     "views": []
    },
    "8f19a24f889f43069cf8a588f7e83f5a": {
     "views": []
    },
    "8f92fb7023404163bad21f3e3e638de9": {
     "views": []
    },
    "8fb0707a253d49ae91fa8a83ee380efa": {
     "views": []
    },
    "8fd3e58761a84b5984f6c0aefbf1827b": {
     "views": []
    },
    "90365af000184ff2944f7bd6a2eddacc": {
     "views": []
    },
    "90fe553616a84f22bfafbd6417a2b95a": {
     "views": []
    },
    "91d5a3751c7241c8ada587bf30e3d0cf": {
     "views": []
    },
    "92789abde73c43d8b791047b286c48d8": {
     "views": [
      {
       "cell_index": 34
      }
     ]
    },
    "930158f2a97d4a72a9eb69482b5579d1": {
     "views": []
    },
    "93051794ec1b44569cad2aeda2510dbc": {
     "views": []
    },
    "9397a0fd894e4ffeba11597b6e5c65ab": {
     "views": []
    },
    "93d31c9ec4784b36b77906a4dfcdfc00": {
     "views": []
    },
    "9532c3bd62da4d108272e431539bfc1d": {
     "views": []
    },
    "956c81bbc6d14707a7f70ac81c4f0243": {
     "views": []
    },
    "95dd0d85249c4972ad1aa528896bfa10": {
     "views": []
    },
    "9642cab33b514d37989bd18ad4007e7e": {
     "views": []
    },
    "96d356f18c3c472ebf53290497f84cce": {
     "views": []
    },
    "97312becb0314169a349af8897d01521": {
     "views": []
    },
    "9786949ae2ef4a0aafdaa6bb877ef7c6": {
     "views": []
    },
    "9795132d170d4e34ad91febf3ab5a828": {
     "views": [
      {
       "cell_index": 34
      }
     ]
    },
    "987464ac22a1430092f22844abfc77d4": {
     "views": []
    },
    "98a79470532a47c2b7500396966bb167": {
     "views": [
      {
       "cell_index": 34
      }
     ]
    },
    "98e60ce5f7824293b6f10fdf37905056": {
     "views": []
    },
    "990a503751a6429e83ca57cd6ef0876f": {
     "views": []
    },
    "9a2662e3bb5a43bbbd8e9589c3f0f7b2": {
     "views": []
    },
    "9a66cd25e77547eb92bfb53ce93693bf": {
     "views": []
    },
    "9aa55e26517c4428b26901fcec2765df": {
     "views": []
    },
    "9ae546bb8a454b2d9ae9397e8abf453f": {
     "views": []
    },
    "9ae64fd423ff4d6aadb053330637f88e": {
     "views": []
    },
    "9b0ce6be91fb44b999d42e9d11560c57": {
     "views": []
    },
    "9b15dc99fa674f229d92b0d43799be59": {
     "views": []
    },
    "9b9600915b964b53acccdc0d49701661": {
     "views": [
      {
       "cell_index": 34
      }
     ]
    },
    "9bd77aa00f8c4ea0a070d346081af761": {
     "views": []
    },
    "9bf3ca0675094ff3a173be634ffe1789": {
     "views": []
    },
    "9c18b64bb64b41fbbec0b52e2453e4ad": {
     "views": [
      {
       "cell_index": 34
      }
     ]
    },
    "9c2ef0ca180247e0802126673e5167af": {
     "views": []
    },
    "9d7ca4d1c4de44eda82530a91c779f8b": {
     "views": []
    },
    "9de6dffda7a14cc8986cbeebcb5c4b78": {
     "views": []
    },
    "9e6310367be34d38ba850817ea2d07c4": {
     "views": []
    },
    "9e8cdc30fd104d30b3781a377b3991f3": {
     "views": []
    },
    "9ebce72058a24ad8b47e001175fb7af8": {
     "views": []
    },
    "9ed6fe177a924d9f8bae5a9cc81ab51d": {
     "views": []
    },
    "a0252c64c2a346fd8fea00bc1c2069bb": {
     "views": []
    },
    "a0b40b8cd93640b69fbf9668f7ece856": {
     "views": []
    },
    "a1e4026960144a6caa646038fe200a2a": {
     "views": []
    },
    "a1fa739e3f504f70a330e6e97bc1cffb": {
     "views": []
    },
    "a20ccf7087aa45b0b96c517aeb7ccdad": {
     "views": []
    },
    "a2ebb0e4d62d4400a63e726c61fd57f5": {
     "views": []
    },
    "a2ff966c95df444898d6c6bc5d9cb891": {
     "views": []
    },
    "a3c69120c2684612959e1d77299c3612": {
     "views": []
    },
    "a3d58040cb014389823e8f9811f61d86": {
     "views": [
      {
       "cell_index": 34
      }
     ]
    },
    "a3fec548fd934af7ba32afa2fdcd08fe": {
     "views": []
    },
    "a43da8ce555a4aaa86a9739a0daa7e8a": {
     "views": []
    },
    "a49cb20e8b5642f1ae810599b2dacf00": {
     "views": []
    },
    "a4a054959cdf4885aa217126ed6605db": {
     "views": []
    },
    "a4d896a23279443686160e96e6f7c9e6": {
     "views": []
    },
    "a59610d57a7446ceacba875f620fbab4": {
     "views": []
    },
    "a655b33f26ea4d8f8126dcd320da683b": {
     "views": []
    },
    "a69a1d13ce9b44238e03131fae8b9719": {
     "views": []
    },
    "a818f64b19e948bd96eaac98618f10ec": {
     "views": []
    },
    "a8c411b74a154d3189c475dd1ea91b6c": {
     "views": []
    },
    "a9397457f9f7473f97b9ebe98d682072": {
     "views": [
      {
       "cell_index": 34
      }
     ]
    },
    "aaa315214c5a4e63b5567e32c3d5ba4f": {
     "views": []
    },
    "ab12dcbe82d34dc1a4acb49d376a305d": {
     "views": []
    },
    "abd876f2c663412cb773d924c2511efe": {
     "views": []
    },
    "ac718292885843ae832bca40826e7eb1": {
     "views": []
    },
    "ac8518a178d34650b6f807d7e2494b89": {
     "views": []
    },
    "ac8d031ee89842afb0831e661a38f1e0": {
     "views": []
    },
    "ad2df943491e4dce818f459b4a6e0e17": {
     "views": []
    },
    "ad5e22bf8dea4ac39bb022c9c24aa5b2": {
     "views": []
    },
    "ad7aec4a3a3c49f188e0ad74ccda2517": {
     "views": []
    },
    "addbad4b38174f8091184e18935d7cb1": {
     "views": []
    },
    "ae65cfc657c544a2a69248b535c951c5": {
     "views": []
    },
    "aebb26b0055e4691b4115a1081ff2b65": {
     "views": []
    },
    "b0bae578a9d641fe80718ea71d12c533": {
     "views": []
    },
    "b122f177d4b647e2910a37a8119af24e": {
     "views": []
    },
    "b1c29260ebef40dab6d48edef0dfe9aa": {
     "views": []
    },
    "b1cdaf5a07f74d55931072b8bc059401": {
     "views": []
    },
    "b1fb817e35f442af8bfd5f3bab0c69de": {
     "views": []
    },
    "b2182469adaa41f3bf36f06df5f69452": {
     "views": []
    },
    "b22ee3393ad841d1b4067978a13d0341": {
     "views": []
    },
    "b256b9cd9cfb4923829466d0de937f38": {
     "views": []
    },
    "b337857761ef4d1ea34d999131aeeef8": {
     "views": []
    },
    "b33f9c2015024689b2e68e70a7f20059": {
     "views": []
    },
    "b34310704e74411baf7733157fe67442": {
     "views": []
    },
    "b38896b7f99844faa30c3d935e9231d5": {
     "views": []
    },
    "b396a4ea907142969316ab55b94ac957": {
     "views": []
    },
    "b3a4cac970304cf1a3215e8730253800": {
     "views": []
    },
    "b3a7e572181446b59f01a638e9815b99": {
     "views": []
    },
    "b427ab895d394bda8bf471b0ce785a2c": {
     "views": []
    },
    "b4977ac06660402daf2f91b8fc039f15": {
     "views": [
      {
       "cell_index": 34
      }
     ]
    },
    "b4ca7a77690a418ca8ac3d904f9700dd": {
     "views": []
    },
    "b4e466cf73cb4f7da430ab85f36e82df": {
     "views": []
    },
    "b60a88a2239144129123cfececf73d36": {
     "views": []
    },
    "b65d01cfaf18439b8d542b394ca7d5f0": {
     "views": []
    },
    "b694154ec1034130af0391cac3e81764": {
     "views": []
    },
    "b6f6cbf2eb6f429992dd6396e4e937ec": {
     "views": []
    },
    "b746726054a34c7a83b8c91b427894bb": {
     "views": []
    },
    "b7d4dc76350e4048a79d748eb02111d5": {
     "views": []
    },
    "b7d6c5bb598c4244a30b56259931baf6": {
     "views": []
    },
    "b7d77862ada848c6b0fdd640e79e627b": {
     "views": []
    },
    "b819c54445144e928e2bb844a6586e72": {
     "views": []
    },
    "b833a100fb7a4492a73a8b22e11d48c9": {
     "views": []
    },
    "b876a3e57d374f04b0d3e403aec48706": {
     "views": [
      {
       "cell_index": 34
      }
     ]
    },
    "b877f1f3f4ea41d7a18377333e5c2db0": {
     "views": []
    },
    "b9186cade39a4874b54bad68341ac474": {
     "views": []
    },
    "b9289f0e08934be287385b6e1526f271": {
     "views": []
    },
    "b930b258fa3c4803b440bbe85cf4bb72": {
     "views": []
    },
    "b94797d92eca4c7bb88f61ff2985fd04": {
     "views": []
    },
    "b979ee18ec524750a77ab76b2ed73e0e": {
     "views": []
    },
    "b9958cb3dd214e2c9a65c2272866aee7": {
     "views": [
      {
       "cell_index": 34
      }
     ]
    },
    "b9e642c2259f456eae39a008fc9db40f": {
     "views": []
    },
    "bac0305418de423a98a199ddafd404ee": {
     "views": []
    },
    "bb10785f42bd4d0f922f3a3e31e85cc6": {
     "views": []
    },
    "bb17c2f533304a3283809e49ef3c879f": {
     "views": []
    },
    "bb8740c18f1c459f88a5245fcb53e4f2": {
     "views": [
      {
       "cell_index": 34
      }
     ]
    },
    "bc3cd74c6a774d989e6943a0d900b882": {
     "views": [
      {
       "cell_index": 97
      }
     ]
    },
    "bc55d7ce197344ca92f90f2de49bd9ff": {
     "views": []
    },
    "bc5d808bf11c49e2a7955b2a3b54bf96": {
     "views": []
    },
    "bc83648af31e4fe1a82f3c6b51c136ae": {
     "views": []
    },
    "bcb4ba77ed8d4419a6a5bc59cce88652": {
     "views": [
      {
       "cell_index": 34
      }
     ]
    },
    "bd051f3b5e1a4550b8cf69273800c6d5": {
     "views": []
    },
    "bd0a5667f8c140d4b5fec7b315c94ecc": {
     "views": []
    },
    "bd1c7fad1ebe4e2e88264c98c41ad412": {
     "views": []
    },
    "bd39976d449043bcb3a08e4532c59d8e": {
     "views": []
    },
    "bda3c95881a54eb68be1fde9bcf75a20": {
     "views": []
    },
    "bdef1ce30a89495ca9b195bad4c125f4": {
     "views": []
    },
    "be751e053bf74b97ab92acb9fc9a344e": {
     "views": []
    },
    "be9a21f0740a468b8e311c7ee921bcfb": {
     "views": []
    },
    "c0136cf6caf142fd97b1bb5831d1d07e": {
     "views": []
    },
    "c06d717952d24409a49d2032b222da1f": {
     "views": []
    },
    "c130261c65d64f48bd4f0ed46631745c": {
     "views": []
    },
    "c19ddfc92da9445aa79457ce8baa3571": {
     "views": []
    },
    "c1bf73c412514ff9a563e1c482410663": {
     "views": [
      {
       "cell_index": 34
      }
     ]
    },
    "c2d965200b624a2ca94defe8d7703140": {
     "views": []
    },
    "c2db5497ee584a428526d925980a95f0": {
     "views": [
      {
       "cell_index": 34
      }
     ]
    },
    "c33a285411374ecba5e98b7d82c274e5": {
     "views": []
    },
    "c37685f716494e26b825bdcbef098c0a": {
     "views": []
    },
    "c3ccf4788d7648f0b7db00f3097ed5d1": {
     "views": []
    },
    "c3e297fa222f4cc797aefd6e6f7fa05d": {
     "views": []
    },
    "c3ee026f42e24bf8a1b50bc13a9e7715": {
     "views": []
    },
    "c47579317f6b4c4dbfa3b1afc8d3d03e": {
     "views": []
    },
    "c56d8d7850504d1b9b1421be4edfc749": {
     "views": []
    },
    "c5b48bef2db34fe1a87f43ec18222622": {
     "views": []
    },
    "c60145f16f9948ccbc799a2f0ead61d4": {
     "views": []
    },
    "c64ef24941b24c30bb9bb39837c744ed": {
     "views": []
    },
    "c687f26d89c7419db3e122c4148b5fa3": {
     "views": []
    },
    "c710619642434565931bb17ef0664fa8": {
     "views": []
    },
    "c7850cd69e19417eb6026dff800f3ab1": {
     "views": []
    },
    "c87dd9e3e1c541c49492a42d30df5d0d": {
     "views": []
    },
    "c8aab7b32e7e4e65bc12ccbf0a78f232": {
     "views": [
      {
       "cell_index": 34
      }
     ]
    },
    "c92e162d86c040ae9bf1d1012fcc2870": {
     "views": []
    },
    "c931ccce10664cdc96d0e6393a54a34a": {
     "views": []
    },
    "c933563d4ab448c58863142241138e6b": {
     "views": []
    },
    "c9901fc79cee43a6a37b6f01fa0d6eb3": {
     "views": []
    },
    "c9b005e1d63a4338bf12a5bae2e4e129": {
     "views": []
    },
    "c9ff34db15b540aeabd65c10437861f8": {
     "views": []
    },
    "ca00078374004c5280227880d92601ab": {
     "views": []
    },
    "ca12a87f293a4f379295d63103469816": {
     "views": []
    },
    "ca55288fe07e46dfa27d545c0e158232": {
     "views": []
    },
    "ca5c17736168435e94669191b3b82d03": {
     "views": []
    },
    "ca78aabf96a2444883bd342e2ab857d3": {
     "views": []
    },
    "ca93836d19d04a85bbf0880784e77778": {
     "views": []
    },
    "cac2df1e68f04a589900249be47693bc": {
     "views": []
    },
    "cb43327d38a0422d8f71de85ef857dfb": {
     "views": []
    },
    "cb61294036064acb9bcf2c44cb7ddd3b": {
     "views": []
    },
    "cc8104c96af9472787f4eb2224c4da7b": {
     "views": []
    },
    "cce2198e63324307903a028a5af757c7": {
     "views": []
    },
    "cce3a537a76c45919c268cb708e68e78": {
     "views": []
    },
    "cd13cb6ac8d248868c5daa5d6f0a5ca5": {
     "views": []
    },
    "cd24f64ecb634ef5b85bc7ee160adf2e": {
     "views": []
    },
    "cd721f5e310b4ab0b084f9261e9d4ede": {
     "views": []
    },
    "ce050bc48ce6462eab7f91e20e07e36f": {
     "views": []
    },
    "ce585cce39494eee9cc6015be62cb390": {
     "views": []
    },
    "ce5b4f21fb0b484d952d67b3fb6c5160": {
     "views": [
      {
       "cell_index": 34
      }
     ]
    },
    "cea23c685bfb431ea2590fa0d8e68a25": {
     "views": []
    },
    "ceb040790f324dddb228531fb0c81e35": {
     "views": []
    },
    "cefd3ad4661640b6821f19c1333ec319": {
     "views": []
    },
    "cf003ca780af40f3a80eaa5a4acc47bd": {
     "views": []
    },
    "cf922c4ec74145448c06c8391a55deed": {
     "views": []
    },
    "d0426bdd058e444aa733ddcf43687b4b": {
     "views": []
    },
    "d04dc88d192447a29adc5de76ec78562": {
     "views": []
    },
    "d0edf1eb99874253a0319a151898493f": {
     "views": []
    },
    "d0f5ad5bdbc848d8a495e22d0c5eac51": {
     "views": []
    },
    "d0f6363447a74f64998d8f862da375b9": {
     "views": []
    },
    "d1203c372c744f93ab1ce9c8b3ee40e9": {
     "views": []
    },
    "d1309d7cec684a1181a1710c2313e65e": {
     "views": []
    },
    "d14d06d565c7412abfd1b9ef00c6e2ac": {
     "views": []
    },
    "d195ac9cc76b4f32915a77c3c20c3f69": {
     "views": []
    },
    "d1b23e1bf5c246a4a36750af5964c868": {
     "views": []
    },
    "d1d9136e55be44369a1bbd8f8d6e72bd": {
     "views": [
      {
       "cell_index": 34
      }
     ]
    },
    "d235b2cefe46439fbe4215fc2c170887": {
     "views": []
    },
    "d3158625726e437898f63ed5319121c4": {
     "views": []
    },
    "d3168f07db754c83ba2787169cde1816": {
     "views": []
    },
    "d36a18a3f17747218cedbcb8284583e2": {
     "views": []
    },
    "d45b9295eb02449b81f88a4cb554b9a8": {
     "views": []
    },
    "d5c00b77ee564d8cab92f3d92b7141b5": {
     "views": []
    },
    "d5ed5e5ae6514411a15bfb97953b7888": {
     "views": []
    },
    "d63cc328edd64dbcbba636679b71af4c": {
     "views": [
      {
       "cell_index": 37
      }
     ]
    },
    "d6b2a19609a54bc1b084932a5d252467": {
     "views": []
    },
    "d6eb46839a9d47afbbb14cafa0f32d37": {
     "views": []
    },
    "d6ebdc8385f640a6aa476db63047e01f": {
     "views": []
    },
    "d72d47fef9f94504b1135a312931e122": {
     "views": []
    },
    "d8493794ea9b442ba97bafb552837414": {
     "views": []
    },
    "d86a7f4d5e1b4304b8158b90dca7ef4c": {
     "views": []
    },
    "d87f52141f8645fdb7badb7e1bb3400f": {
     "views": []
    },
    "d8c2b2ddb0774f399afb1bacef46b239": {
     "views": []
    },
    "d8cb267989494d02932c1586dcfa6aff": {
     "views": []
    },
    "d905a4d41c13499b8ef9379df3e44fb2": {
     "views": []
    },
    "d94d7e6780bb41ea983a1ad2d2dfe48f": {
     "views": []
    },
    "d960a87b0f6b4dd190245bb3ad3fabec": {
     "views": []
    },
    "d997863533354800b59e55d97155215b": {
     "views": []
    },
    "db7521ee739f440fb5d72ca9aa8fb9a2": {
     "views": []
    },
    "dbb0e7965ee143ecbc73c28ddcefb9b7": {
     "views": []
    },
    "dc276eeee75a4e1fbf3c1829d748e0a9": {
     "views": []
    },
    "dc85c643035748df90129772b6bba24b": {
     "views": []
    },
    "dc9b877efa1b456a940ea3346a0df4a5": {
     "views": []
    },
    "dcb49a91ed2a4cad93750872eac85da8": {
     "views": []
    },
    "dcbeb11b3ba140edbc2dd15a990657e2": {
     "views": []
    },
    "dcc9a5fa881341e0a133b14bb4f574ec": {
     "views": []
    },
    "dd0fc2bd09934b039d7b7a503cc04cd6": {
     "views": []
    },
    "dd569bbc6d79452fa38a7c39d4442583": {
     "views": []
    },
    "ddac2fe6bb754a889950df7571e10b48": {
     "views": []
    },
    "de1c3cb76947438d98aeb5e4c59051a6": {
     "views": []
    },
    "de3273047f2446818b13c004ceebb309": {
     "views": []
    },
    "de4e8b5f50044391aa76d545de2939f8": {
     "views": []
    },
    "de58ebffcb7c491d8dd02451e810f2b2": {
     "views": []
    },
    "de69d261cc724374a9b68cb13e0d6eda": {
     "views": []
    },
    "df5a52da78114159a1baa300a224a959": {
     "views": []
    },
    "dfc4dfbf1ee64b4bb48bf83beb72f960": {
     "views": []
    },
    "e0b59f3c21dd4e3db4e2e60496886a89": {
     "views": [
      {
       "cell_index": 34
      }
     ]
    },
    "e0df96ea652c4be5aaaf9001d062f151": {
     "views": []
    },
    "e0e35ce8fff849b18dd3d7109154dc8b": {
     "views": []
    },
    "e0f42ddac5834cf3a7972be389aa4482": {
     "views": []
    },
    "e2161bb84a8641a1af1f74d000783062": {
     "views": []
    },
    "e21eca1674af49bd93077cd456458766": {
     "views": []
    },
    "e279194124cc440abf0f83c31b57c56e": {
     "views": []
    },
    "e2cd0b22ea31497cbcfe097ae69b52dd": {
     "views": []
    },
    "e3b2506de7ce43d58c469ee5cfee77f7": {
     "views": []
    },
    "e46a9adb524e4fd9a30fd656add05770": {
     "views": []
    },
    "e5466b7658194ce5b8748e5bd792e883": {
     "views": []
    },
    "e6a6a7c675f94bf0aed7d5c2709aecf5": {
     "views": []
    },
    "e6d3a540ae724db29b38a91b9a0705c6": {
     "views": []
    },
    "e73949a4e32a470d9602090d9f004f71": {
     "views": []
    },
    "e777523986984b6494419fa5dacef963": {
     "views": []
    },
    "e85acc605c4340f082d9035d61bd339e": {
     "views": []
    },
    "e89a1b6a2fb74e43acfa6604a609e4db": {
     "views": []
    },
    "e89e85c41a7641879494b9b192cd62cb": {
     "views": []
    },
    "e974527140024b4b9c9ad4ae48b119a3": {
     "views": []
    },
    "ea09aa687894465184b03dc453279b81": {
     "views": []
    },
    "ead49c465399480f8245d91db39bff19": {
     "views": []
    },
    "ead7c4735be949dda0fba44cf6383abb": {
     "views": []
    },
    "eaf2bfe7307f4857b2b2590787149a4b": {
     "views": []
    },
    "ebc24a3643f5464c9756e17142988e0b": {
     "views": []
    },
    "ec377a0a30ab40959c077c7c3ce5ed3f": {
     "views": []
    },
    "ec41725d2a7e45328711a21f7b9c8384": {
     "views": []
    },
    "ec6d16f165314af4ac3adc1049f61558": {
     "views": []
    },
    "ec96b3bf1474481a9e68eedf34951e43": {
     "views": []
    },
    "ecdcd2e538bb46a8ac08b856d0d98ba6": {
     "views": []
    },
    "ed2fd40900684eeaaa6534d2115eec14": {
     "views": []
    },
    "edbbc538630047319e53165ad3ec2a6f": {
     "views": []
    },
    "edecac474cad4ed1935fdf006ebae1a3": {
     "views": []
    },
    "ee0d1b80a38b4781a05036f54f911378": {
     "views": []
    },
    "ee2c06d57c2240c3825bb88ec910eb61": {
     "views": []
    },
    "ee3a69036ed04eee90e353bed919d173": {
     "views": []
    },
    "ef0adbb4586a4016942f841283a488ad": {
     "views": []
    },
    "ef0cb5f4eb254ac6ac8534d083e91942": {
     "views": []
    },
    "ef7c4a051279457e914482fc93911ebe": {
     "views": [
      {
       "cell_index": 24
      }
     ]
    },
    "f04919f8311d4fdfa25ac7719ac32c59": {
     "views": []
    },
    "f069642d864f4c2b921476b4bd027144": {
     "views": []
    },
    "f09f9ef5dad240f99c4dcc98d21f0404": {
     "views": []
    },
    "f1a29866399444a2b1fb8d3a27cb1b65": {
     "views": []
    },
    "f1cb24630bbc467697118a0524d5eb8f": {
     "views": []
    },
    "f1df60c7dd5c4ed99e2bbfb0010cc70c": {
     "views": []
    },
    "f1e19ecdfd1b466aac3b298cd41b5387": {
     "views": []
    },
    "f1f1acab90534e64801fa1084876bb61": {
     "views": []
    },
    "f2470da9a94441619ebd29532dbf7627": {
     "views": []
    },
    "f29786453f8b49b1b6a09dc9e69302ac": {
     "views": []
    },
    "f30e0c20a9da4c54b0d9523015c12907": {
     "views": [
      {
       "cell_index": 34
      }
     ]
    },
    "f31f1e4c4cb44c39a7a7dd9693b0022a": {
     "views": []
    },
    "f33623b56f5e4fafae9e0aee4010451c": {
     "views": []
    },
    "f3993007df6b4bbc868de2006ef4de9d": {
     "views": []
    },
    "f3e849ed13444606a4275a5d00600402": {
     "views": []
    },
    "f43848f521124267b9cb605dc940a058": {
     "views": []
    },
    "f4cc07d66efc42a79be00cea47a789a8": {
     "views": []
    },
    "f4d4c941775b4b38a7b7905fa9fd6d90": {
     "views": []
    },
    "f536d0af2ba94265ac88b261b38a456a": {
     "views": []
    },
    "f545be5fb1cb484cb0005c2fc829d78d": {
     "views": []
    },
    "f5be0987ff814a2ba3ef68f3c1692886": {
     "views": []
    },
    "f5d336a676b9465bbc3fdea07fc5cbe7": {
     "views": []
    },
    "f62e7665361c47538a01f5e4efcb0480": {
     "views": []
    },
    "f6521c9ac1784527adb0c96530635d67": {
     "views": []
    },
    "f665a0e851b14b42bcd489c4f2042b8f": {
     "views": []
    },
    "f68e6618a30240d6864c9a57c49ea3f2": {
     "views": []
    },
    "f692e38676fd49b6a6dbcfe0628d6b58": {
     "views": []
    },
    "f6a757d7ef17449c8ae12ea91cca15d9": {
     "views": []
    },
    "f71970c085bf47b0a0cbe025cbe45b1d": {
     "views": []
    },
    "f73a9abaf2a84477a257ecb8b5ff95d2": {
     "views": []
    },
    "f76017045bf94847b9775467e9d41b69": {
     "views": []
    },
    "f7815fdbde49416387ef5378098250f3": {
     "views": []
    },
    "f79111158d48451c86688610d6f88943": {
     "views": []
    },
    "f7923d5714ff40ecbee5c827f5a7acd6": {
     "views": []
    },
    "f8267a48449e4f56b7a4f4dc2e856c36": {
     "views": []
    },
    "f8303c2a9a3a4b129a094bbe5e4b63c0": {
     "views": []
    },
    "f89dea3efddb4f799473a1c48205803d": {
     "views": []
    },
    "f990387a4b7b4088ad7a3006dcdfa0bb": {
     "views": []
    },
    "f99820eb672840c8bd4aaa53879a457d": {
     "views": []
    },
    "f9f65b68603140e38fe292c67f0f4eb2": {
     "views": []
    },
    "fa6fb81a1fe84442b2c9f9925e0c51a7": {
     "views": [
      {
       "cell_index": 34
      }
     ]
    },
    "faf291259f1f4ee5a7b71010a8fcd779": {
     "views": []
    },
    "fb3a89d926a44c67a6ee0128ee273085": {
     "views": []
    },
    "fb3cf2fb75f3450c9d898fc5c64bb049": {
     "views": []
    },
    "fbf08b8d5b3b4e8194ec9b690f0c637b": {
     "views": []
    },
    "fc16a9fad54f4d64914ed51cef04231c": {
     "views": []
    },
    "fc17ba87000546dcb5d229ffa0d66863": {
     "views": []
    },
    "fc1d5c8b043a4f0d896884e009d21c09": {
     "views": []
    },
    "fc46700c3a3e4b2298316891192a59a9": {
     "views": []
    },
    "fc791bc7432e45a1a790600654998249": {
     "views": []
    },
    "fca597f73d21439c97a1f50616502664": {
     "views": []
    },
    "fceebd818437430bbe648290bf52e851": {
     "views": [
      {
       "cell_index": 34
      }
     ]
    },
    "fd81b837d5a74357b449f0f51e2281db": {
     "views": []
    },
    "fd975ab109e14a33bc1d53c09ef4a31e": {
     "views": []
    },
    "fdad0e54b8954445a16aabd8b3a486e8": {
     "views": []
    },
    "fe08df8222ec48eb970179c3479da121": {
     "views": []
    },
    "fe41c01ee4ff48b48fcad6a5ea33fa4a": {
     "views": []
    },
    "fea99b0bd29c4848a9553b9eb8479909": {
     "views": []
    },
    "febf2b8cb85a4e02bb665e29fc0db1fa": {
     "views": []
    },
    "ff2b8bc4524f4231a46720956d95c815": {
     "views": []
    },
    "ff6905c3b83f4049948fcb63cf6c57a5": {
     "views": []
    },
    "ffb6ca43db5049878eddb8fba394379e": {
     "views": []
    }
   },
   "version": "1.1.1"
  }
 },
 "nbformat": 4,
 "nbformat_minor": 2
}
